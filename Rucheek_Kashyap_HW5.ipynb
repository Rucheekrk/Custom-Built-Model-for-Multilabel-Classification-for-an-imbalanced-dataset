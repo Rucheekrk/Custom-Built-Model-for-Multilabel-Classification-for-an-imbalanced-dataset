{
  "nbformat": 4,
  "nbformat_minor": 0,
  "metadata": {
    "colab": {
      "provenance": []
    },
    "kernelspec": {
      "name": "python3",
      "display_name": "Python 3"
    },
    "language_info": {
      "name": "python"
    }
  },
  "cells": [
    {
      "cell_type": "code",
      "execution_count": 1,
      "metadata": {
        "colab": {
          "base_uri": "https://localhost:8080/"
        },
        "id": "2LJaJCw5ZISM",
        "outputId": "70b50394-1ad8-4c30-c88a-9f69bdf01fea"
      },
      "outputs": [
        {
          "output_type": "stream",
          "name": "stdout",
          "text": [
            "Drive already mounted at /content/drive; to attempt to forcibly remount, call drive.mount(\"/content/drive\", force_remount=True).\n"
          ]
        }
      ],
      "source": [
        "# If in Colab, then import the drive module from google.colab\n",
        "if 'google.colab' in str(get_ipython()):\n",
        "  from google.colab import drive\n",
        "  # Mount the Google Drive to access files stored there\n",
        "  drive.mount('/content/drive')\n",
        "\n",
        "  # Install the latest version of torchtext library quietly without showing output\n",
        "\n",
        "  !pip install transformers evaluate wandb datasets accelerate  -U -qq  ## NEW LINES ##\n",
        "\n",
        "  basepath = '/content/drive/MyDrive/utd_classes/Sem3/NLP/HWs'\n",
        "else:\n",
        "  basepath = '/Users/rucheekkashyap/utd_classes/Sem3/NLP/HWs/'\n",
        "\n"
      ]
    },
    {
      "cell_type": "code",
      "source": [
        "# Importing PyTorch library for tensor computations and neural network modules\n",
        "import torch\n",
        "import torch.nn as nn\n",
        "\n",
        "# For working with textual data vocabularies and for displaying model summaries\n",
        "\n",
        "# General-purpose Python libraries for random number generation and numerical operations\n",
        "import random\n",
        "import numpy as np\n",
        "\n",
        "# Utilities for efficient serialization/deserialization of Python objects and for element tallying\n",
        "import joblib\n",
        "from collections import Counter\n",
        "\n",
        "# For creating lightweight attribute classes and for partial function application\n",
        "from functools import partial\n",
        "\n",
        "# For filesystem path handling, generating and displaying confusion matrices, and date-time manipulations\n",
        "from pathlib import Path\n",
        "from sklearn.metrics import confusion_matrix\n",
        "from datetime import datetime\n",
        "\n",
        "# For plotting and visualization\n",
        "import matplotlib.pyplot as plt\n",
        "import seaborn as sns\n",
        "# %matplotlib inline\n",
        "\n",
        "### NEW ##########################\n",
        "# imports from Huggingface ecosystem\n",
        "from transformers.modeling_outputs import SequenceClassifierOutput\n",
        "from transformers import PreTrainedModel, PretrainedConfig\n",
        "from transformers import TrainingArguments, Trainer\n",
        "from datasets import Dataset\n",
        "import evaluate\n",
        "\n",
        "# wandb library\n",
        "import wandb"
      ],
      "metadata": {
        "id": "o-IpdLzLc-34"
      },
      "execution_count": 2,
      "outputs": []
    },
    {
      "cell_type": "code",
      "source": [
        "base_folder = Path(basepath)\n",
        "data_folder = base_folder/'HW5'\n",
        "model_folder = base_folder/'HW5'\n",
        "#custom_functions = base_folder/'custom-functions'"
      ],
      "metadata": {
        "id": "Ai_d2mnYhFlf"
      },
      "execution_count": 3,
      "outputs": []
    },
    {
      "cell_type": "code",
      "source": [
        "model_folder.mkdir(exist_ok=True, parents = True)"
      ],
      "metadata": {
        "id": "cokXfD8ahd07"
      },
      "execution_count": 4,
      "outputs": []
    },
    {
      "cell_type": "code",
      "source": [
        "model_folder"
      ],
      "metadata": {
        "colab": {
          "base_uri": "https://localhost:8080/"
        },
        "id": "w_xk9iUzhgdx",
        "outputId": "bee7f1b0-2f67-43f4-b872-dbca7f85c443"
      },
      "execution_count": 5,
      "outputs": [
        {
          "output_type": "execute_result",
          "data": {
            "text/plain": [
              "PosixPath('/content/drive/MyDrive/utd_classes/Sem3/NLP/HWs/HW5')"
            ]
          },
          "metadata": {},
          "execution_count": 5
        }
      ]
    },
    {
      "cell_type": "code",
      "source": [
        "import pandas as pd\n",
        "\n",
        "# Load the train and test datasets from CSV files\n",
        "train_df = pd.read_csv(data_folder / 'train.csv')\n",
        "test_df = pd.read_csv(data_folder / 'test.csv')\n"
      ],
      "metadata": {
        "id": "2qwBQN1eiKMp"
      },
      "execution_count": 6,
      "outputs": []
    },
    {
      "cell_type": "code",
      "source": [
        "from sklearn.model_selection import train_test_split\n",
        "\n",
        "# Split the train dataset into training and validation sets\n",
        "train_df, val_df = train_test_split(train_df, test_size=0.2, random_state=42)"
      ],
      "metadata": {
        "id": "VcaGR76XjYyY"
      },
      "execution_count": 7,
      "outputs": []
    },
    {
      "cell_type": "code",
      "source": [
        "# Display the first few rows of each dataset\n",
        "print(\"Train Dataset:\")\n",
        "print(train_df.head())\n",
        "\n",
        "print(\"\\nValidation Dataset:\")\n",
        "print(val_df.head())\n",
        "\n",
        "print(\"\\nTest Dataset:\")\n",
        "print(test_df.head())\n"
      ],
      "metadata": {
        "colab": {
          "base_uri": "https://localhost:8080/"
        },
        "id": "pMH5-FrElSOr",
        "outputId": "6345e947-7e08-4ae4-8b59-e7099a1b14d4"
      },
      "execution_count": 8,
      "outputs": [
        {
          "output_type": "stream",
          "name": "stdout",
          "text": [
            "Train Dataset:\n",
            "              ID                                              Tweet  anger  \\\n",
            "4291  2017-20959  Going to get myself a copy of @StephenKing's C...      0   \n",
            "1210  2017-30404  @carysmithwriter @Maria_Savva @RealRockAndRoll...      0   \n",
            "1940  2017-20271  Unruly kids at 8am in the morning #nothanks ri...      1   \n",
            "6204  2017-10419  Ok but I just got called a 'White Devil' on th...      0   \n",
            "2867  2017-30687  @SXMUrbanView @karenhunter @CousinSyl you are ...      1   \n",
            "\n",
            "      anticipation  disgust  fear  joy  love  optimism  pessimism  sadness  \\\n",
            "4291             1        0     0    1     0         1          0        0   \n",
            "1210             0        0     0    1     1         1          0        0   \n",
            "1940             0        1     1    0     0         0          0        0   \n",
            "6204             0        0     1    0     0         0          0        0   \n",
            "2867             0        1     0    0     0         0          0        0   \n",
            "\n",
            "      surprise  trust  \n",
            "4291         0      0  \n",
            "1210         0      0  \n",
            "1940         1      0  \n",
            "6204         1      0  \n",
            "2867         0      0  \n",
            "\n",
            "Validation Dataset:\n",
            "              ID                                              Tweet  anger  \\\n",
            "6258  2017-30250  I'm due for a big change! I've prayed on it, I...      0   \n",
            "2337  2017-30519  incetown, age 23, joyful, elevated in hope wit...      0   \n",
            "7031  2018-01720  Never heard of #CaraCaraOranges until today. V...      0   \n",
            "1103  2017-21698  I'm so bored and fat and full and ridiculously...      1   \n",
            "6315  2017-10998  @easyJet Hi folks. Flight is going to be over ...      1   \n",
            "\n",
            "      anticipation  disgust  fear  joy  love  optimism  pessimism  sadness  \\\n",
            "6258             0        0     0    1     0         1          0        0   \n",
            "2337             0        0     0    1     0         1          0        0   \n",
            "7031             0        0     0    1     1         1          0        0   \n",
            "1103             0        1     1    0     0         0          1        1   \n",
            "6315             0        1     0    0     0         0          0        0   \n",
            "\n",
            "      surprise  trust  \n",
            "6258         0      1  \n",
            "2337         0      0  \n",
            "7031         0      0  \n",
            "1103         0      0  \n",
            "6315         0      0  \n",
            "\n",
            "Test Dataset:\n",
            "           ID                                              Tweet anger  \\\n",
            "0  2018-01559  @Adnan__786__ @AsYouNotWish Dont worry Indian ...  NONE   \n",
            "1  2018-03739  Academy of Sciences, eschews the normally sobe...  NONE   \n",
            "2  2018-00385                  I blew that opportunity -__- #mad  NONE   \n",
            "3  2018-03001             This time in 2 weeks I will be 30... 😥  NONE   \n",
            "4  2018-01988  #Deppression is real. Partners w/ #depressed p...  NONE   \n",
            "\n",
            "  anticipation disgust  fear   joy  love optimism pessimism sadness surprise  \\\n",
            "0         NONE    NONE  NONE  NONE  NONE     NONE      NONE    NONE     NONE   \n",
            "1         NONE    NONE  NONE  NONE  NONE     NONE      NONE    NONE     NONE   \n",
            "2         NONE    NONE  NONE  NONE  NONE     NONE      NONE    NONE     NONE   \n",
            "3         NONE    NONE  NONE  NONE  NONE     NONE      NONE    NONE     NONE   \n",
            "4         NONE    NONE  NONE  NONE  NONE     NONE      NONE    NONE     NONE   \n",
            "\n",
            "  trust  \n",
            "0  NONE  \n",
            "1  NONE  \n",
            "2  NONE  \n",
            "3  NONE  \n",
            "4  NONE  \n"
          ]
        }
      ]
    },
    {
      "cell_type": "code",
      "source": [
        "X_train_df = train_df['Tweet']\n",
        "y_train_df = train_df.drop(columns=['ID','Tweet'], axis=1)\n",
        "\n",
        "X_valid_df = val_df['Tweet']\n",
        "y_valid_df = val_df.drop(columns=['ID','Tweet'], axis=1)\n",
        "\n",
        "X_test_df = test_df['Tweet']\n",
        "y_test_df = test_df.drop(columns=['ID','Tweet'], axis=1)\n",
        "\n",
        "X_train_df.head(), y_train_df.head()"
      ],
      "metadata": {
        "colab": {
          "base_uri": "https://localhost:8080/"
        },
        "id": "rhEDHGHpl55t",
        "outputId": "e2d14691-1a8d-47d9-85b8-65210d7eecfe"
      },
      "execution_count": 9,
      "outputs": [
        {
          "output_type": "execute_result",
          "data": {
            "text/plain": [
              "(4291    Going to get myself a copy of @StephenKing's C...\n",
              " 1210    @carysmithwriter @Maria_Savva @RealRockAndRoll...\n",
              " 1940    Unruly kids at 8am in the morning #nothanks ri...\n",
              " 6204    Ok but I just got called a 'White Devil' on th...\n",
              " 2867    @SXMUrbanView @karenhunter @CousinSyl you are ...\n",
              " Name: Tweet, dtype: object,\n",
              "       anger  anticipation  disgust  fear  joy  love  optimism  pessimism  \\\n",
              " 4291      0             1        0     0    1     0         1          0   \n",
              " 1210      0             0        0     0    1     1         1          0   \n",
              " 1940      1             0        1     1    0     0         0          0   \n",
              " 6204      0             0        0     1    0     0         0          0   \n",
              " 2867      1             0        1     0    0     0         0          0   \n",
              " \n",
              "       sadness  surprise  trust  \n",
              " 4291        0         0      0  \n",
              " 1210        0         0      0  \n",
              " 1940        0         1      0  \n",
              " 6204        0         1      0  \n",
              " 2867        0         0      0  )"
            ]
          },
          "metadata": {},
          "execution_count": 9
        }
      ]
    },
    {
      "cell_type": "code",
      "source": [
        "# Since y_train_df, y_valid_df, and y_test_df are DataFrames with multiple columns (one column per label)\n",
        "trainset = Dataset.from_dict({\n",
        "    'texts': X_train_df,\n",
        "    **{col: y_train_df[col] for col in y_train_df.columns}  # Add all columns from y_train_df\n",
        "})\n",
        "\n",
        "validset = Dataset.from_dict({\n",
        "    'texts': X_valid_df,\n",
        "    **{col: y_valid_df[col] for col in y_valid_df.columns}  # Add all columns from y_valid_df\n",
        "})\n",
        "\n",
        "testset = Dataset.from_dict({\n",
        "    'texts': X_test_df,\n",
        "    **{col: y_test_df[col] for col in y_test_df.columns}  # Add all columns from y_test_df\n",
        "})\n",
        "\n",
        "# Example: Let's print the train dataset to check structure\n",
        "print(trainset)\n",
        "print(validset)\n",
        "print(testset)"
      ],
      "metadata": {
        "colab": {
          "base_uri": "https://localhost:8080/"
        },
        "id": "9GwONcvjdgym",
        "outputId": "d88fee1a-40a1-48a8-eba2-025aa666fbe0"
      },
      "execution_count": 10,
      "outputs": [
        {
          "output_type": "stream",
          "name": "stdout",
          "text": [
            "Dataset({\n",
            "    features: ['texts', 'anger', 'anticipation', 'disgust', 'fear', 'joy', 'love', 'optimism', 'pessimism', 'sadness', 'surprise', 'trust'],\n",
            "    num_rows: 6179\n",
            "})\n",
            "Dataset({\n",
            "    features: ['texts', 'anger', 'anticipation', 'disgust', 'fear', 'joy', 'love', 'optimism', 'pessimism', 'sadness', 'surprise', 'trust'],\n",
            "    num_rows: 1545\n",
            "})\n",
            "Dataset({\n",
            "    features: ['texts', 'anger', 'anticipation', 'disgust', 'fear', 'joy', 'love', 'optimism', 'pessimism', 'sadness', 'surprise', 'trust'],\n",
            "    num_rows: 3259\n",
            "})\n"
          ]
        }
      ]
    },
    {
      "cell_type": "code",
      "source": [
        "trainset.features"
      ],
      "metadata": {
        "colab": {
          "base_uri": "https://localhost:8080/"
        },
        "id": "wm_xcdsudt1V",
        "outputId": "5ec0487f-b064-4da1-c3f3-995ba168686e"
      },
      "execution_count": 11,
      "outputs": [
        {
          "output_type": "execute_result",
          "data": {
            "text/plain": [
              "{'texts': Value(dtype='string', id=None),\n",
              " 'anger': Value(dtype='int64', id=None),\n",
              " 'anticipation': Value(dtype='int64', id=None),\n",
              " 'disgust': Value(dtype='int64', id=None),\n",
              " 'fear': Value(dtype='int64', id=None),\n",
              " 'joy': Value(dtype='int64', id=None),\n",
              " 'love': Value(dtype='int64', id=None),\n",
              " 'optimism': Value(dtype='int64', id=None),\n",
              " 'pessimism': Value(dtype='int64', id=None),\n",
              " 'sadness': Value(dtype='int64', id=None),\n",
              " 'surprise': Value(dtype='int64', id=None),\n",
              " 'trust': Value(dtype='int64', id=None)}"
            ]
          },
          "metadata": {},
          "execution_count": 11
        }
      ]
    },
    {
      "cell_type": "code",
      "source": [
        "trainset[0]"
      ],
      "metadata": {
        "colab": {
          "base_uri": "https://localhost:8080/"
        },
        "id": "FIYtYRN3dz59",
        "outputId": "a36ec770-c831-467e-cecc-11dd6ce22f2c"
      },
      "execution_count": 12,
      "outputs": [
        {
          "output_type": "execute_result",
          "data": {
            "text/plain": [
              "{'texts': \"Going to get myself a copy of @StephenKing's CUJO for an upcoming project that I can't talk about just yet.  #amwriting\",\n",
              " 'anger': 0,\n",
              " 'anticipation': 1,\n",
              " 'disgust': 0,\n",
              " 'fear': 0,\n",
              " 'joy': 1,\n",
              " 'love': 0,\n",
              " 'optimism': 1,\n",
              " 'pessimism': 0,\n",
              " 'sadness': 0,\n",
              " 'surprise': 0,\n",
              " 'trust': 0}"
            ]
          },
          "metadata": {},
          "execution_count": 12
        }
      ]
    },
    {
      "cell_type": "code",
      "source": [
        "trainset[0]['texts']"
      ],
      "metadata": {
        "colab": {
          "base_uri": "https://localhost:8080/",
          "height": 35
        },
        "id": "dyFz7pyTd0Wx",
        "outputId": "e65ad844-053d-4447-cad3-d9d9e2e8f9d8"
      },
      "execution_count": 13,
      "outputs": [
        {
          "output_type": "execute_result",
          "data": {
            "text/plain": [
              "\"Going to get myself a copy of @StephenKing's CUJO for an upcoming project that I can't talk about just yet.  #amwriting\""
            ],
            "application/vnd.google.colaboratory.intrinsic+json": {
              "type": "string"
            }
          },
          "metadata": {},
          "execution_count": 13
        }
      ]
    },
    {
      "cell_type": "code",
      "source": [
        "import json\n",
        "class CustomConfig:\n",
        "    def __init__(self, vocab_size=0, embedding_dim=0, hidden_dim1=0, hidden_dim2=0, hidden_dim3=0, num_labels=11):\n",
        "        self.vocab_size = vocab_size\n",
        "        self.embedding_dim = embedding_dim\n",
        "        self.hidden_dim1 = hidden_dim1\n",
        "        self.hidden_dim2 = hidden_dim2\n",
        "        self.hidden_dim3 = hidden_dim3\n",
        "        self.num_labels = num_labels\n",
        "\n",
        "    def to_dict(self):\n",
        "        \"\"\"Convert the config to a dictionary.\"\"\"\n",
        "        return {\n",
        "            'vocab_size': self.vocab_size,\n",
        "            'embedding_dim': self.embedding_dim,\n",
        "            'hidden_dim1': self.hidden_dim1,\n",
        "            'hidden_dim2': self.hidden_dim2,\n",
        "            'hidden_dim3': self.hidden_dim3,\n",
        "            'num_labels': self.num_labels\n",
        "        }\n",
        "\n",
        "    def to_json_string(self):\n",
        "        \"\"\"Convert the config to a JSON string.\"\"\"\n",
        "        return json.dumps(self.to_dict())\n",
        "\n",
        "    @classmethod\n",
        "    def from_dict(cls, config_dict):\n",
        "        \"\"\"Create a CustomConfig object from a dictionary.\"\"\"\n",
        "        return cls(**config_dict)\n",
        "\n",
        "    @classmethod\n",
        "    def from_json_string(cls, json_string):\n",
        "        \"\"\"Create a CustomConfig object from a JSON string.\"\"\"\n",
        "        config_dict = json.loads(json_string)\n",
        "        return cls.from_dict(config_dict)\n"
      ],
      "metadata": {
        "id": "nBUqtiPbqrsM"
      },
      "execution_count": 14,
      "outputs": []
    },
    {
      "cell_type": "code",
      "source": [
        "import torch\n",
        "import torch.nn.functional as F\n",
        "from torch.nn import BCEWithLogitsLoss\n",
        "from transformers.modeling_outputs import SequenceClassifierOutput\n",
        "\n",
        "# Custom MLP model without inheriting PreTrainedModel\n",
        "class CustomMLP(nn.Module):\n",
        "    def __init__(self, config):\n",
        "        super(CustomMLP, self).__init__()\n",
        "\n",
        "        # EmbeddingBag for input embeddings\n",
        "        self.embedding_bag = nn.EmbeddingBag(config.vocab_size, config.embedding_dim, mode='mean')\n",
        "\n",
        "        # Define layers using nn.Sequential with an additional hidden layer\n",
        "        self.layers = nn.Sequential(\n",
        "            nn.Linear(config.embedding_dim, config.hidden_dim1),  # hidden layer 1\n",
        "            nn.BatchNorm1d(num_features=config.hidden_dim1),\n",
        "            nn.LeakyReLU(),  # Using LeakyReLU\n",
        "            nn.Dropout(p=0.2),\n",
        "\n",
        "            nn.Linear(config.hidden_dim1, config.hidden_dim2),   # hidden layer 2\n",
        "            nn.BatchNorm1d(num_features=config.hidden_dim2),\n",
        "            nn.LeakyReLU(),  # Using LeakyReLU\n",
        "            nn.Dropout(p=0.2),\n",
        "\n",
        "            nn.Linear(config.hidden_dim2, config.hidden_dim3),   # hidden layer 3\n",
        "            nn.BatchNorm1d(num_features=config.hidden_dim3),\n",
        "            nn.LeakyReLU(),  # Using LeakyReLU\n",
        "            nn.Dropout(p=0.2),\n",
        "\n",
        "            nn.Linear(config.hidden_dim3, config.num_labels),    # Output layer\n",
        "\n",
        "        )\n",
        "\n",
        "        # Store configuration for later use\n",
        "        self.config = config\n",
        "\n",
        "    def forward(self, input_ids, offsets, labels=None):\n",
        "        # Pass input through embedding bag layer\n",
        "        embed_out = self.embedding_bag(input_ids, offsets)\n",
        "\n",
        "        # Pass through the sequential layers\n",
        "        logits = self.layers(embed_out)\n",
        "\n",
        "        # Initialize loss to None, compute only if labels are provided\n",
        "        loss = None\n",
        "        if labels is not None:\n",
        "            # Use BCEWithLogitsLoss for multilabel classification\n",
        "            loss_fn = BCEWithLogitsLoss()\n",
        "            loss = loss_fn(logits, labels.float())  # Ensure labels are of float type\n",
        "\n",
        "        # Return similar structure as SequenceClassifierOutput from HuggingFace\n",
        "        return SequenceClassifierOutput(\n",
        "            loss=loss,\n",
        "            logits=logits\n",
        "        )\n",
        "\n",
        "    # Predict function for multi-label classification\n",
        "    def predict(self, test_loader, threshold=0.5):\n",
        "        \"\"\"\n",
        "        Predicts labels for the provided dataset using the model.\n",
        "\n",
        "        Args:\n",
        "            test_loader (DataLoader): A DataLoader containing the test dataset.\n",
        "            threshold (float): A threshold value to convert probabilities to binary predictions (default is 0.5).\n",
        "\n",
        "        Returns:\n",
        "            all_predictions (torch.Tensor): Binary predictions for each label.\n",
        "            all_probabilities (torch.Tensor): Probabilities for each label.\n",
        "        \"\"\"\n",
        "        self.eval()  # Set model to evaluation mode\n",
        "        all_predictions = []\n",
        "        all_probabilities = []\n",
        "\n",
        "        # Disable gradient calculations for inference\n",
        "        with torch.no_grad():\n",
        "            for batch in test_loader:\n",
        "                input_ids = batch['input_ids'].to(self.config.device)\n",
        "                offsets = batch['offsets'].to(self.config.device)\n",
        "\n",
        "                # Forward pass: get logits\n",
        "                outputs = self.forward(input_ids, offsets)\n",
        "                logits = outputs.logits\n",
        "\n",
        "                # Apply sigmoid to convert logits to probabilities\n",
        "                probabilities = torch.sigmoid(logits)\n",
        "\n",
        "                # Convert probabilities to binary predictions based on the threshold\n",
        "                predictions = (probabilities >= threshold).float()\n",
        "\n",
        "                # Store predictions and probabilities\n",
        "                all_predictions.append(predictions.cpu())\n",
        "                all_probabilities.append(probabilities.cpu())\n",
        "\n",
        "        # Concatenate predictions and probabilities from all batches\n",
        "        all_predictions = torch.cat(all_predictions, dim=0)\n",
        "        all_probabilities = torch.cat(all_probabilities, dim=0)\n",
        "\n",
        "        return all_predictions, all_probabilities\n"
      ],
      "metadata": {
        "id": "ruDNlSHFGTfg"
      },
      "execution_count": 15,
      "outputs": []
    },
    {
      "cell_type": "code",
      "source": [
        "from collections import Counter, OrderedDict\n",
        "from typing import Dict, List, Optional, Union\n",
        "\n",
        "class Vocab:\n",
        "    def __init__(self, tokens: List[str]) -> None:\n",
        "        self.itos: List[str] = tokens\n",
        "        self.stoi: Dict[str, int] = {token: i for i, token in enumerate(tokens)}\n",
        "        self.default_index: Optional[int] = None\n",
        "\n",
        "    def __getitem__(self, token: str) -> int:\n",
        "        if token in self.stoi:\n",
        "            return self.stoi[token]\n",
        "        if self.default_index is not None:\n",
        "            return self.default_index\n",
        "        raise RuntimeError(f\"Token '{token}' not found in vocab\")\n",
        "\n",
        "    def __contains__(self, token: str) -> bool:\n",
        "        return token in self.stoi\n",
        "\n",
        "    def __len__(self) -> int:\n",
        "        return len(self.itos)\n",
        "\n",
        "    def insert_token(self, token: str, index: int) -> None:\n",
        "        if index < 0 or index > len(self.itos):\n",
        "            raise ValueError(\"Index out of range\")\n",
        "        if token in self.stoi:\n",
        "            old_index = self.stoi[token]\n",
        "            if old_index < index:\n",
        "                self.itos.pop(old_index)\n",
        "                self.itos.insert(index - 1, token)\n",
        "            else:\n",
        "                self.itos.pop(old_index)\n",
        "                self.itos.insert(index, token)\n",
        "        else:\n",
        "            self.itos.insert(index, token)\n",
        "\n",
        "        self.stoi = {token: i for i, token in enumerate(self.itos)}\n",
        "\n",
        "    def append_token(self, token: str) -> None:\n",
        "        if token in self.stoi:\n",
        "            raise RuntimeError(f\"Token '{token}' already exists in the vocab\")\n",
        "        self.insert_token(token, len(self.itos))\n",
        "\n",
        "    def set_default_index(self, index: Optional[int]) -> None:\n",
        "        self.default_index = index\n",
        "\n",
        "    def get_default_index(self) -> Optional[int]:\n",
        "        return self.default_index\n",
        "\n",
        "    def lookup_token(self, index: int) -> str:\n",
        "        if 0 <= index < len(self.itos):\n",
        "            return self.itos[index]\n",
        "        raise RuntimeError(f\"Index {index} out of range\")\n",
        "\n",
        "    def lookup_tokens(self, indices: List[int]) -> List[str]:\n",
        "        return [self.lookup_token(index) for index in indices]\n",
        "\n",
        "    def lookup_indices(self, tokens: List[str]) -> List[int]:\n",
        "        return [self[token] for token in tokens]\n",
        "\n",
        "    def get_stoi(self) -> Dict[str, int]:\n",
        "        return self.stoi.copy()\n",
        "\n",
        "    def get_itos(self) -> List[str]:\n",
        "        return self.itos.copy()\n",
        "\n",
        "    @classmethod\n",
        "    def vocab(cls, ordered_dict: Union[OrderedDict, Counter], min_freq: int = 1, specials: Optional[List[str]] = None, special_first: bool = True) -> 'Vocab':\n",
        "        specials = specials or []\n",
        "        for token in specials:\n",
        "            ordered_dict.pop(token, None)\n",
        "\n",
        "        tokens = [token for token, freq in ordered_dict.items() if freq >= min_freq]\n",
        "\n",
        "        if special_first:\n",
        "            tokens = specials + tokens\n",
        "        else:\n",
        "            tokens = tokens + specials\n",
        "\n",
        "        return cls(tokens)"
      ],
      "metadata": {
        "id": "A9bJpBLWKosh"
      },
      "execution_count": 16,
      "outputs": []
    },
    {
      "cell_type": "code",
      "source": [
        "def get_vocab(dataset, min_freq=1):\n",
        "    \"\"\"\n",
        "    Generate a vocabulary from a dataset.\n",
        "\n",
        "    Args:\n",
        "        dataset (Dataset): A Hugging Face Dataset object. The dataset should\n",
        "                           have a key 'texts' that contains the text data.\n",
        "        min_freq (int): The minimum frequency for a token to be included in\n",
        "                        the vocabulary.\n",
        "\n",
        "    Returns:\n",
        "        torchtext.vocab.Vocab: Vocabulary object containing tokens from the\n",
        "                               dataset that meet or exceed the specified\n",
        "                               minimum frequency. It also includes a special\n",
        "                               '<unk>' token for unknown words.\n",
        "    \"\"\"\n",
        "    # Initialize a counter object to hold token frequencies\n",
        "    counter = Counter()\n",
        "\n",
        "    # Update the counter with tokens from each text in the dataset\n",
        "    # Iterating through texts in the dataset\n",
        "    for text in dataset['texts']:  ###### Change from previous function ####\n",
        "        counter.update(str(text).split())\n",
        "\n",
        "    # Create a vocabulary using the counter object\n",
        "    # Tokens that appear fewer times than `min_freq` are excluded\n",
        "    my_vocab = Vocab.vocab(counter, min_freq=min_freq)\n",
        "\n",
        "    # Insert a '<unk>' token at index 0 to represent unknown words\n",
        "    my_vocab.insert_token('<unk>', 0)\n",
        "\n",
        "    # Set the default index to 0\n",
        "    # This ensures that any unknown word will be mapped to '<unk>'\n",
        "    my_vocab.set_default_index(0)\n",
        "\n",
        "    return my_vocab"
      ],
      "metadata": {
        "id": "ggVMQfApIle7"
      },
      "execution_count": 17,
      "outputs": []
    },
    {
      "cell_type": "code",
      "source": [
        "# Creating a function that will be used to get the indices of words from vocab\n",
        "def tokenizer(text, vocab):\n",
        "    \"\"\"Converts text to a list of indices using a vocabulary dictionary\"\"\"\n",
        "    return [vocab[token] for token in str(text).split()]"
      ],
      "metadata": {
        "id": "-wlxVfKLP-xg"
      },
      "execution_count": 18,
      "outputs": []
    },
    {
      "cell_type": "code",
      "source": [
        "def collate_batch(batch, my_vocab):\n",
        "    \"\"\"\n",
        "    Prepares a batch of data by transforming texts into indices based on a vocabulary and\n",
        "    converting labels into a tensor.\n",
        "\n",
        "    Args:\n",
        "        batch (list of dict): A batch of data where each element is a dictionary with keys\n",
        "                              'labels' and 'texts'. 'labels' are the sentiment labels, and\n",
        "                              'texts' are the corresponding texts.\n",
        "        my_vocab (torchtext.vocab.Vocab): A vocabulary object that maps tokens to indices.\n",
        "\n",
        "    Returns:\n",
        "        dict: A dictionary with three keys:\n",
        "              - 'input_ids': a tensor containing concatenated indices of the texts.\n",
        "              - 'offsets': a tensor representing the starting index of each text in 'input_ids'.\n",
        "              - 'labels': a tensor of the labels for each text in the batch.\n",
        "    \"\"\"\n",
        "    # Get labels and texts from batch dict samples\n",
        "    labels = [\n",
        "        [\n",
        "             int(sample.get('anger', 0)) if sample.get('anger', 0) != 'NONE' else 0, # Handle 'NONE' values\n",
        "            int(sample.get('anticipation', 0)) if sample.get('anticipation', 0) != 'NONE' else 0,\n",
        "            int(sample.get('disgust', 0)) if sample.get('disgust', 0) != 'NONE' else 0,\n",
        "            int(sample.get('fear', 0)) if sample.get('fear', 0) != 'NONE' else 0,\n",
        "            int(sample.get('joy', 0)) if sample.get('joy', 0) != 'NONE' else 0,\n",
        "            int(sample.get('love', 0)) if sample.get('love', 0) != 'NONE' else 0,\n",
        "            int(sample.get('optimism', 0)) if sample.get('optimism', 0) != 'NONE' else 0,\n",
        "            int(sample.get('pessimism', 0)) if sample.get('pessimism', 0) != 'NONE' else 0,\n",
        "            int(sample.get('sadness', 0)) if sample.get('sadness', 0) != 'NONE' else 0,\n",
        "            int(sample.get('surprise', 0)) if sample.get('surprise', 0) != 'NONE' else 0,\n",
        "            int(sample.get('trust', 0)) if sample.get('trust', 0) != 'NONE' else 0,\n",
        "        ]\n",
        "        for sample in batch\n",
        "    ]\n",
        "    texts = [sample['texts'] for sample in batch]\n",
        "\n",
        "    # Convert the list of labels into a tensor of dtype float32\n",
        "    labels = torch.tensor(labels, dtype=torch.float32)\n",
        "\n",
        "    # Convert the list of texts into a list of lists; each inner list contains the vocabulary indices for a text\n",
        "    list_of_list_of_indices = [tokenizer(text, my_vocab) for text in texts]\n",
        "\n",
        "    # Concatenate all text indices into a single tensor\n",
        "    input_ids = torch.cat([torch.tensor(i, dtype=torch.int64) for i in list_of_list_of_indices])\n",
        "\n",
        "    # Compute the offsets for each text in the concatenated tensor\n",
        "    offsets = [0] + [len(i) for i in list_of_list_of_indices]\n",
        "    offsets = torch.tensor(offsets[:-1]).cumsum(dim=0)\n",
        "\n",
        "    return {\n",
        "        'input_ids': input_ids,  # Tokenized input data\n",
        "        'offsets': offsets,      # Offset indices for batch texts\n",
        "        'labels': labels         # Corresponding labels for multi-label classification\n",
        "    }\n"
      ],
      "metadata": {
        "id": "OCJmlWe3xPFk"
      },
      "execution_count": 19,
      "outputs": []
    },
    {
      "cell_type": "code",
      "source": [
        "# Generate vocabulary from training data with min frequency of 2\n",
        "tweet_vocab = get_vocab(trainset, min_freq=2)\n",
        "collate_fn = partial(collate_batch, my_vocab=tweet_vocab)\n",
        "len(tweet_vocab)"
      ],
      "metadata": {
        "colab": {
          "base_uri": "https://localhost:8080/"
        },
        "id": "HuHI6DPLQG98",
        "outputId": "b62f96c7-1b66-4472-b235-935b0a15c7e3"
      },
      "execution_count": 20,
      "outputs": [
        {
          "output_type": "execute_result",
          "data": {
            "text/plain": [
              "8134"
            ]
          },
          "metadata": {},
          "execution_count": 20
        }
      ]
    },
    {
      "cell_type": "code",
      "source": [
        "# Get the token-to-index mapping\n",
        "stoi_mapping = tweet_vocab.get_stoi()\n",
        "print(stoi_mapping)"
      ],
      "metadata": {
        "colab": {
          "base_uri": "https://localhost:8080/"
        },
        "id": "YWUkkrloQRL6",
        "outputId": "be995d50-3abf-4e7e-85a5-bd7c7702567b"
      },
      "execution_count": 21,
      "outputs": [
        {
          "output_type": "stream",
          "name": "stdout",
          "text": [
            "{'<unk>': 0, 'Going': 1, 'to': 2, 'get': 3, 'myself': 4, 'a': 5, 'copy': 6, 'of': 7, \"@StephenKing's\": 8, 'CUJO': 9, 'for': 10, 'an': 11, 'upcoming': 12, 'project': 13, 'that': 14, 'I': 15, \"can't\": 16, 'talk': 17, 'about': 18, 'just': 19, 'yet.': 20, '#amwriting': 21, \"We're\": 22, 'the': 23, 'least': 24, 'known': 25, 'band': 26, 'in': 27, 'but': 28, 'so': 29, 'glad': 30, 'you': 31, 'asked': 32, 'Unruly': 33, 'kids': 34, 'at': 35, '8am': 36, 'morning': 37, '#nothanks': 38, 'ripping': 39, 'flower': 40, 'beds': 41, 'up': 42, 'by': 43, 'roots': 44, 'while': 45, 'their': 46, 'parents': 47, 'watch': 48, '#shocking': 49, 'Ok': 50, 'got': 51, 'called': 52, 'on': 53, 'train': 54, 'and': 55, 'didnt': 56, 'know': 57, 'whether': 58, 'laugh': 59, 'or': 60, 'be': 61, 'offended': 62, 'are': 63, 'wrong': 64, 'levity': 65, 'after': 66, 'Even': 67, 'never': 68, '#stayed': 69, 'with': 70, 'me': 71, 'until': 72, \"it's\": 73, '😞': 74, ':': 75, 'find': 76, 'my': 77, 'website': 78, \"doesn't\": 79, 'work,': 80, 'even': 81, 'see': 82, 'Pride': 83, 'is': 84, 'day': 85, '-': 86, 'been': 87, 'life': 88, 'Wish': 89, 'could': 90, 'convince': 91, 'rest': 92, 'children': 93, 'go': 94, 'fucking': 95, 'preschool': 96, 'schools': 97, 'fear': 98, 'gun': 99, 'violence.': 100, 'Positive': 101, '#psychology': 102, 'research': 103, 'shows': 104, 'who': 105, 'score': 106, 'top': 107, '10%': 108, '#optimism': 109, 'have': 110, '&gt;': 111, 'sales': 112, 'than': 113, 'those': 114, 'Might': 115, 'start': 116, 'Lady': 117, 'Gaga': 118, 'again': 119, 'more': 120, 'last': 121, 'time': 122, \"don't\": 123, 'tell': 124, 'Connor': 125, 'louder': 126, 'this': 127, 'time,': 128, 'shaking': 129, 'That': 130, 'was': 131, 'really': 132, \"wasn't\": 133, 'it?': 134, 'Woke': 135, 'feeling': 136, 'fresh': 137, 'clear': 138, 'mind.': 139, \"That's\": 140, 'happened': 141, '#sober': 142, 'beg': 143, 'you,': 144, 'stop': 145, 'smiling.': 146, 'You': 147, 'deserve': 148, 'happy': 149, 'all': 150, 'beautiful': 151, 'things': 152, 'can': 153, 'why': 154, 'everybody': 155, 'seem': 156, 'look': 157, 'some': 158, 'average': 159, 'players': 160, 'play': 161, 'min': 162, 'pine': 163, ',': 164, 'If': 165, \"you're\": 166, 'still': 167, 'discouraged': 168, 'it': 169, 'means': 170, 'listening': 171, 'voices': 172, '&amp;': 173, 'looking': 174, 'LORD!': 175, 'true': 176, 'your': 177, 'Do': 178, 'they': 179, 'drink': 180, 'Are': 181, 'had': 182, 'do': 183, 'come': 184, 'new': 185, 'insult.': 186, 'allowed': 187, 'read': 188, 'anything': 189, 'cute': 190, 'from': 191, '.': 192, 'He': 193, 'chill': 194, 'She': 195, 'used': 196, 'beautiful,': 197, 'she': 198, 'lived': 199, 'her': 200, 'too': 201, 'fast': 202, 'City': 203, 'Joe': 204, '#blues': 205, 'How': 206, 'earth': 207, 'projection': 208, 'good': 209, 'soul': 210, 'poisonous': 211, 'snake?': 212, '#patronus': 213, '#adder': 214, '@HillaryClinton': 215, 'considering': 216, 'dollars': 217, '@billclinton': 218, 'took': 219, '#horrible': 220, 'people': 221, 'spent': 222, 'yourselves.': 223, 'thanks': 224, 'Ryan': 225, 'Brad': 226, 'scary': 227, 'shit': 228, 'out': 229, 'us': 230, 'first': 231, \"Don't\": 232, 'think': 233, 'heart': 234, 'will': 235, 'make': 236, 'through': 237, '@MLB': 238, '@JoeyBats19': 239, 'Sam': 240, 'Dyson': 241, 'probably': 242, 'having': 243, 'flashbacks': 244, 'right': 245, 'now.': 246, '#nightmare': 247, 'Class': 248, 'canceled': 249, 'due': 250, 'funeral.': 251, 'Not': 252, 'sure': 253, 'if': 254, 'appropriate': 255, 'sad..': 256, '#happy': 257, 'breezy,': 258, '#make': 259, 'decision': 260, 'when': 261, '..': 262, '#angry': 263, '....': 264, ':)': 265, 'our': 266, 'defense': 267, 'here': 268, 'playing': 269, 'well,': 270, 'we': 271, 'need': 272, 'fix': 273, 'few': 274, 'offense': 275, 'win': 276, 'PAC': 277, '12': 278, 'hate': 279, 'e': 280, 'v': 281, 'r': 282, 'y': 283, 'i': 284, 'n': 285, 'like': 286, 'wanna': 287, 'pls': 288, 'since': 289, 'fuck': 290, 'not': 291, 'stand': 292, 'When': 293, 'enough': 294, 'work': 295, '1/4': 296, 'slice': 297, 'toast': 298, '😩😩': 299, '#unhappy': 300, '@BarackObama': 301, 'yes': 302, 'exactly': 303, \"he's\": 304, 'sold': 305, 'country': 306, '#terror': 307, '#lying': 308, 'cover': 309, 'passing': 310, 'absolutely': 311, 'dreadful': 312, 'someone': 313, 'tells': 314, \"they're\": 315, 'going': 316, \"'tear\": 317, \"apart'\": 318, 'say': 319, \"'why\": 320, \"tall?'\": 321, '@TheMandyMoore': 322, 'beyond': 323, 'wonderful.': 324, 'Your': 325, 'singing': 326, 'prowess': 327, 'phenomenal': 328, 'damn...': 329, \"I'm\": 330, 'elated': 331, 'act': 332, 'again.': 333, '#ThisIsUs': 334, '🤗': 335, 'calling': 336, 'ugly': 337, \"isn't\": 338, 'insult': 339, 'bc': 340, 'already': 341, 'aggravate': 342, 'tf': 343, 'outta': 344, 'acting': 345, 'lying': 346, 'difference': 347, 'between': 348, 'man.': 349, 'hard': 350, 'maybe': 351, 'break': 352, 'down': 353, 'into': 354, 'smaller': 355, 'space': 356, 'doesnt': 357, 'ok': 358, 'ill': 359, 'back': 360, 'away': 361, '#coy': 362, 'Every': 363, 'hear': 364, 'kick': 365, 'smile.': 366, 'No,': 367, 'tweet': 368, 'pictures': 369, 'four': 370, 'characters': 371, 'describe': 372, 'you.': 373, 'One': 374, 'should': 375, 'animated': 376, 'character.': 377, 'Poor': 378, 'Blue': 379, 'then': 380, 'alarm': 381, 'went': 382, 'off': 383, 'Gonna': 384, 'loooooong': 385, 'year': 386, 'as': 387, 'Browns': 388, 'fan.': 389, 'Longer': 390, 'normal': 391, \"that's\": 392, 'something.': 393, 'something': 394, 'must': 395, 'anxiety': 396, 'nothing': 397, 'done.': 398, 'despair.': 399, '@RussiaInsider': 400, 'Really': 401, 'sad': 402, 'surprising.': 403, '1': 404, 'side': 405, '#Russia': 406, 'fighting': 407, 'against': 408, '#IS': 409, 'other': 410, 'supporting': 411, '#Pak': 412, 'which': 413, 'epic': 414, 'centre': 415, '4': 416, '@airvistara': 417, 'always': 418, 'indeed': 419, 'wonderful': 420, 'experience': 421, 'flying': 422, 'guys': 423, 'today': 424, '#bestinbusiness': 425, '#delight': 426, '#happyme': 427, 'A': 428, 'cheerful': 429, 'medicine,': 430, 'broken': 431, 'spirit': 432, 'saps': 433, \"strength.'\": 434, '#WednesdayWisdom': 435, 'what': 436, 'lives': 437, 'attached': 438, 'real': 439, 'trash': 440, 'because': 441, 'angry': 442, 'race': 443, 'scared': 444, 'coworkers': 445, 'submit': 446, 'one': 447, \"'wardrobe\": 448, \"makeover'\": 449, 'shows.': 450, '#fashion': 451, 'Coworker:': 452, \"'That\": 453, 'friend': 454, 'mine': 455, 'once,': 456, 'guns': 457, 'instead': 458, \"babies.'\": 459, '#workplace': 460, 'Bob': 461, \"Dylan's\": 462, 'Dream': 463, 'Rock': 464, 'red': 465, 'would': 466, 'super': 467, 'pretty': 468, 'lip': 469, 'makeup': 470, 'look!': 471, '3rd': 472, 'black': 473, 'dark': 474, '😍': 475, 'getting': 476, 'better': 477, 'comes': 478, '#sadly': 479, 'Also': 480, '45': 481, 'billion': 482, 'crisis': 483, 'complete': 484, 'joke': 485, 'almost': 486, 'hilarious': 487, 'high': 488, 'risk': 489, 'gathering': 490, '...': 491, '#excited': 492, 'Always': 493, 'money': 494, 'he': 495, 'expect': 496, 'paid': 497, 'back.': 498, 'Absolutely': 499, 'shocking.': 500, 'The': 501, 'Rooney': 502, 'little': 503, 'embarrassing': 504, 'Keep': 505, '#smiling': 506, 'thing': 507, \"there's\": 508, 'much': 509, '#smile': 510, 'about.': 511, 'Everyday': 512, 'wake': 513, 'up,': 514, 'different': 515, '@SpursOfficial': 516, 'player': 517, 'signs': 518, 'contract': 519, 'extension!': 520, 'Love': 521, 'it!!': 522, '#future': 523, '#is': 524, '#bright': 525, '#COYS': 526, 'This': 527, 'forward': 528, 'soon': 529, '#guitar': 530, '#music': 531, 'has': 532, 'done': 533, 'provoke': 534, 'tweeting': 535, 'shady': 536, 'trying': 537, 'bitch': 538, 'begging': 539, 'fight': 540, 'highly': 541, 'though': 542, 'switch': 543, 'host': 544, 'no': 545, 'bullet': 546, 'rage.': 547, 'wonder': 548, 'how': 549, 'guy': 550, 'broke': 551, 'his': 552, '#serious': 553, 'Before': 554, 'ends': 555, \"I'll\": 556, 'master': 557, 'blues,': 558, 'Although': 559, 'best': 560, 'also': 561, 'most': 562, 'depressing': 563, 'constantly': 564, 'reminded': 565, 'meant': 566, 'cyber': 567, 'bully': 568, '@CurtisJobling': 569, 'Yes': 570, 'indeed!': 571, 'We': 572, 'masses': 573, 'students': 574, 'excited': 575, 'you!': 576, 'sorted!': 577, '@MoviesTVNetwork': 578, 'Wow,': 579, 'did': 580, 'buy': 581, 'bunch': 582, \"'70's\": 583, 'movies?': 584, 'There': 585, 'were': 586, 'bad': 587, 'worse': 588, 'now!': 589, 'Good': 590, 'optimism': 591, 'sir': 592, 'haters': 593, 'gonna': 594, 'keep': 595, 'being': 596, 'self': 597, \"they'll\": 598, 'While': 599, 'raging': 600, 'doubt': 601, 'such': 602, 'thing.': 603, 'u': 604, '2': 605, 'ask': 606, 'want,': 607, 'conversation': 608, 'days': 609, 'on.......never': 610, 'pen!!!!': 611, '#nffc': 612, 'take': 613, '#excitement': 614, '#inspire': 615, '#children': 616, '#love': 617, \"Can't\": 618, 'believe': 619, \"I've\": 620, 'lost': 621, 'phone': 622, 'home': 623, 'Today': 624, 'dragged': 625, '#restless': 626, 'forgot': 627, '#laughter': 628, 'well': 629, '#welfarereform': 630, \"'model'\": 631, 'On': 632, 'way': 633, '@': 634, 'Park': 635, 'Baptist': 636, 'very': 637, 'irritated': 638, '😐': 639, 'there': 640, 'gloomy': 641, 'weather': 642, 'puts': 643, 'mood': 644, 'From': 645, 'Laden': 646, 'its': 647, 'relationship': 648, 'prove': 649, 'Pakistan': 650, 'sponsoring': 651, 'terrorism': 652, '@DDNewsHindi': 653, '#UNGA': 654, 'talks': 655, 'carried': 656, 'now': 657, 'His': 658, 'mouth': 659, 'stinks': 660, '#terrorism': 661, '#UriAttack': 662, 'lock': 663, 'sound': 664, 'grim': 665, '#food': 666, '#water': 667, '#security': 668, '#war': 669, '#trump': 670, 'Nawaz': 671, 'spoken': 672, 'Indian': 673, 'funding': 674, 'BLA': 675, 'India': 676, '#me': 677, '#dark': 678, '@EAMaddenNFL': 679, '@EASPORTS': 680, 'played': 681, 'game': 682, 'where': 683, 'John': 684, 'Elway': 685, 'sacked': 686, '3x': 687, 'fumbled': 688, '3x.': 689, 'Is': 690, 'same': 691, 'elway': 692, 'of???': 693, 'At': 694, 'end': 695, 'gotta': 696, 'voice': 697, 'sounding': 698, 'somewhat': 699, 'bitter,': 700, 'perhaps': 701, 'only': 702, 'Ready': 703, 'nice,': 704, 'sunshine': 705, '#Autumn': 706, 'Glad': 707, 'TV': 708, 'successful': 709, 'attendance': 710, 'looked': 711, 'dismal.': 712, '@MelissaJoyRD': 713, '@SarahKoszykRD': 714, '@eat4performance': 715, '@rustnutrition': 716, '@jenhaugen': 717, 'hey': 718, '#sparkling': 719, 'word': 720, 'picked': 721, 'card': 722, 'Completely': 723, 'blown': 724, '@EvaNoblezada': 725, '@alistairbrammer': 726, '@JonJonBriones': 727, 'cast': 728, '@MissSaigonUK': 729, 'tonight.': 730, '#fathomevents': 731, '#speechless': 732, 'quiet': 733, 'behaved': 734, 'cats': 735, 'dogs': 736, 'ride': 737, 'plane': 738, 'tiny': 739, 'bag': 740, 'screaming': 741, 'small': 742, 'humans': 743, 'roam': 744, '#outrage': 745, '#india': 746, '#revenge': 747, 'making': 748, '3': 749, 'movies': 750, 'indian': 751, 'army': 752, 'revenge': 753, 'Sat': 754, 'waiting': 755, 'bus': 756, 'damp': 757, 'revolting': 758, 'cloud': 759, 'moved': 760, 'away,': 761, 'both': 762, 'afraid': 763, 'hubby': 764, 'somber': 765, 'thoughtful': 766, 'photo': 767, 'highlights': 768, 'nice': 769, 'twitter': 770, 'alarming': 771, 'Thanks,': 772, 'big': 773, 'bro.': 774, \"It's\": 775, 'shake': 776, 'bake': 777, 'helped.': 778, '#blessing': 779, 'disguise': 780, '🙏': 781, \"should've\": 782, 'stayed': 783, '08': 784, 'art': 785, 'style,': 786, 'create': 787, 'each': 788, 'time.': 789, 'About': 790, '7': 791, 'weeks': 792, 'till': 793, 'pick': 794, 'camera': 795, 'Though': 796, 'group': 797, 'cemetery': 798, 'shoot': 799, 'october': 800, 'make!': 801, '#photography': 802, 'ability': 803, '#smile,': 804, 'it!': 805, 'world': 806, 'needs': 807, '☺️': 808, 'Just': 809, 'over': 810, 'week': 811, 'job': 812, 'F1!': 813, 'Looking': 814, 'cacking': 815, 'time!': 816, 'Will': 817, 'offend': 818, 'am': 819, '#haikuchallenge': 820, '@BigBrother__USA': 821, 'jealous': 822, 'cry': 823, 'baby!': 824, '#gladsheisgone': 825, '#crybaby': 826, 'As': 827, 'birds': 828, 'begin': 829, 'try': 830, 'sleep.': 831, 'Whenever': 832, 'listen': 833, 'x': 834, 'hug': 835, 'bear': 836, 'feel': 837, 'old': 838, 'bill': 839, 'free': 840, 'Chelsea': 841, '😂': 842, 'lively': 843, 'simple': 844, 'human': 845, 'loves': 846, 'deeply': 847, 'rejoicing': 848, 'class': 849, 'And': 850, 'pissed': 851, 'keeping': 852, 'kid': 853, 'sick': 854, 'sad.': 855, 'meeting': 856, 'tiff': 857, 'mall': 858, 'soon,': 859, 'congrats': 860, 'L': 861, 'With': 862, \"let's\": 863, 'saying': 864, 'But': 865, 'serious': 866, 'gave': 867, 'deep': 868, 'thought': 869, '💯': 870, 'moment': 871, 'hand': 872, 'exam': 873, 'knowing': 874, 'failed': 875, 'grieve': 876, 'eating': 877, 'sleeping': 878, 'Proverbs': 879, \"you've\": 880, 'together': 881, 'randomly': 882, 'burst': 883, 'crying': 884, 'My': 885, 'wife': 886, 'losing': 887, 'them': 888, 'Watch': 889, 'amazing': 890, 'live.ly': 891, 'broadcast': 892, '#lively': 893, '#musically': 894, 'Happy': 895, '#internationaldayofpeace': 896, 'everyone': 897, 'hoping': 898, 'becomes': 899, 'place': 900, 'less': 901, 'division': 902, 'happiness': 903, '@Babylonian': 904, 'convinced': 905, 'mom': 906, 'it.': 907, 'Killgrave': 908, 'literal': 909, 'nightmares,': 910, 'watched': 911, 'episode': 912, 'times.': 913, 'horrible.': 914, 'physically': 915, 'okay': 916, '😪': 917, 'no.': 918, 'missing': 919, 'Sorry': 920, '@wow_air': 921, 'definitely': 922, '@Icelandair': 923, 'next': 924, 'unreasonable': 925, '@wowairsupport': 926, '#yourappologiesmeannothing': 927, '#Terencecutcher': 928, '#Tulsa': 929, 'man': 930, 'onthe': 931, 'helicopter': 932, 'said': 933, 'looks': 934, 'dude,': 935, 'problem,': 936, 'bad,': 937, 'Did': 938, 'miss': 939, 'fact': 940, '#BurkeRamsey': 941, 'swung': 942, '&amp;hit': 943, 'sister': 944, '#JonBenet': 945, 'face': 946, 'golf': 947, 'club': 948, 'previously': 949, 'fit': 950, 'fearing': 951, 'snap': 952, '❤️': 953, \"He's\": 954, 'type': 955, 'Ha': 956, 'World': 957, 'knows': 958, '#Pakistan': 959, 'epicentre': 960, '#terror.': 961, 'speech': 962, 'UN': 963, 'define': 964, 'agenda': 965, '@outmagazine': 966, 'Its': 967, 'trans': 968, 'rejoice': 969, 'way.': 970, 'By': 971, 'business,': 972, 'personally': 973, 'prefer': 974, 'happy.': 975, '@JustinTrudeau': 976, 'opened': 977, 'doors': 978, 'pay': 979, '@CP24': 980, 'sorry': 981, 'im': 982, '#bitter': 983, 'just.': 984, 'either': 985, 'want': 986, 'pure': 987, 'ur': 988, 'literally': 989, 'any': 990, 'sets': 991, 'every': 992, 'draw': 993, 'Be': 994, 'everything': 995, 'good,': 996, 'everything.': 997, 'horrible': 998, 'dealing': 999, 'doing': 1000, 'Getting': 1001, 'stuck': 1002, 'people!': 1003, '#afraid': 1004, '#quiet': 1005, 'ones': 1006, 'actually': 1007, 'LORD': 1008, 'God': 1009, 'warrior': 1010, 'bringing': 1011, 'victory.': 1012, 'calm': 1013, 'singing.': 1014, 'pull': 1015, 'him': 1016, 'ago,': 1017, 'sadly': 1018, 'theres': 1019, 'audio': 1020, 'cause': 1021, \"week's\": 1022, 'requires': 1023, '@Apple': 1024, 'ios10': 1025, 'update,': 1026, 'app': 1027, '@telegram': 1028, 'freezing': 1029, 'crashing': 1030, 'SE.': 1031, '@City_tv': 1032, 'ruining': 1033, \"everyone's\": 1034, 'lunch': 1035, 'taking': 1036, 'family': 1037, 'feud': 1038, '#bully': 1039, 'People': 1040, 'cheer': 1041, 'sports': 1042, 'teams': 1043, 'completely': 1044, 'outside': 1045, 'New': 1046, 'Jersey': 1047, 'piss': 1048, 'this.': 1049, '#mirth': 1050, '#SAW': 1051, 'eyes': 1052, 'narrowed': 1053, 'girl,': 1054, 'ice': 1055, 'cold': 1056, 'blues': 1057, 'usual': 1058, 'instinct': 1059, 'told': 1060, 'date': 1061, '―': 1062, 'friends': 1063, 'absurd': 1064, 'nightmare.': 1065, 'series': 1066, 'ever': 1067, 'Ellie': 1068, 'answer': 1069, 'shy': 1070, 'talking': 1071, 'fashion': 1072, ';-)': 1073, '#equestrianhour': 1074, 'campaign': 1075, 'other.': 1076, 'message': 1077, 'resent': 1078, 'saddest': 1079, 'show': 1080, '#depression': 1081, 'smile': 1082, 'dry': 1083, 'burning': 1084, 'wire': 1085, 'lol': 1086, 'wow': 1087, 'haha': 1088, 'seen': 1089, 'chris': 1090, 'dont': 1091, 'anymore': 1092, 'dude!': 1093, 'focus': 1094, 'issue': 1095, '#intimidation': 1096, '@MEAIndia': 1097, 'So': 1098, 'Uber': 1099, 'driver': 1100, 'N': 1101, 'word.': 1102, 'moving': 1103, 'vehicle': 1104, \"I'd\": 1105, 'jumped': 1106, '#disgusted': 1107, 'Home': 1108, 'lies': 1109, '!': 1110, 'island': 1111, 'birth': 1112, 'city': 1113, \"ain't\": 1114, 'plan': 1115, \"would've\": 1116, 'made': 1117, 'today.': 1118, 'sunny': 1119, 'use': 1120, 'skin': 1121, 'emoji': 1122, 'onto': 1123, 'objective': 1124, 'disciplined': 1125, 'transcendent': 1126, 'feet': 1127, 'foot': 1128, 'seat': 1129, 'let': 1130, 'jaunty': 1131, 'jubilant': 1132, 'joy': 1133, \"what's\": 1134, 'passionate': 1135, 'abt': 1136, 'company': 1137, 'LOL!': 1138, 'bomb': 1139, 'trophy': 1140, 'help': 1141, 'nightmare': 1142, 'before': 1143, 'Christmas': 1144, 'birthday': 1145, '\\\\nI': 1146, 'hope': 1147, 'Russia': 1148, 'story': 1149, 'infuriate': 1150, 'Trump': 1151, 'Media': 1152, 'otherwise': 1153, 'giving': 1154, 'tongue': 1155, 'fall': 1156, 'ISIS': 1157, '+': 1158, 'death.': 1159, 'Lmboo': 1160, 'using': 1161, 'nephew': 1162, 'meme': 1163, \"You're\": 1164, '#hilarious': 1165, '#beautiful': 1166, 'heard': 1167, 'Honestly': 1168, 'unhappy': 1169, ':(': 1170, '#itnevergoes': 1171, 'Yo': 1172, 'chat': 1173, 'LA': 1174, 'gas': 1175, 'U.S.': 1176, 'added': 1177, 'years': 1178, 'conflict': 1179, 'Iraq': 1180, 'sunk': 1181, 'Why': 1182, 'hair': 1183, 'nose': 1184, 'ruffle': 1185, 'targeted': 1186, '#fuming': 1187, '#heartbreaking': 1188, 'Nothing': 1189, 'uber': 1190, 'drive.': 1191, 'call': 1192, 'POV': 1193, 'KX4': 1194, 'night.': 1195, 'All': 1196, 'class.': 1197, '#depressing': 1198, 'affliction': 1199, 'frozen': 1200, 'Stephen': 1201, 'Some': 1202, 'clips': 1203, 'youtube': 1204, 'tonight': 1205, 'vigil': 1206, 'held': 1207, 'Tulsa': 1208, 'Metropolitan': 1209, 'church': 1210, '#TerenceCruther': 1211, '#justice': 1212, '#anger': 1213, '#sadness': 1214, 'fashioned': 1215, 'panic': 1216, 'induced': 1217, 'living': 1218, 'room': 1219, 'floor': 1220, 'Wow': 1221, 'housing': 1222, 'market': 1223, 'places': 1224, 'range': 1225, '😢': 1226, 'exhilarating': 1227, 'hockey.': 1228, \"They're\": 1229, 'wins': 1230, '#fuck': 1231, 'sushi': 1232, 'spot': 1233, 'mask': 1234, 'hung': 1235, 'wall': 1236, 'behind': 1237, 'them.': 1238, 'tho': 1239, 'eat': 1240, '@brooks_swaggysquad': 1241, 'They': 1242, 'terror': 1243, 'pak': 1244, 'nd': 1245, 'leader': 1246, 'd': 1247, 'btw': 1248, 'terrorist': 1249, 'Ugh': 1250, 'punch': 1251, '@windows': 1252, '10.': 1253, 'Literally': 1254, 'worst': 1255, 'product': 1256, '#windows10': 1257, '#awful': 1258, '#killme': 1259, 'hilarious!': 1260, 'pleasing': 1261, 'night': 1262, 'Lane': 1263, 'round': 1264, 'bring': 1265, 'understand': 1266, 'anyone': 1267, '@LifeOfDesiigner': 1268, '#terrible': 1269, '@Dak2future': 1270, 'decorations': 1271, 'door': 1272, 'left.': 1273, 'True': 1274, 'Next': 1275, 'these': 1276, 'midnight': 1277, 'hunger': 1278, 'worry': 1279, 'order': 1280, 'delicious': 1281, 'rolls': 1282, 'via': 1283, 'threaten': 1284, 'charge': 1285, 'rent': 1286, 'cleaning': 1287, 'house': 1288, 'everyday.': 1289, '#compliment': 1290, '#behappy': 1291, '@vkon1': 1292, '@WindyCOYS': 1293, 'accounts': 1294, 'poor': 1295, 'half.': 1296, 'Started': 1297, 'showboating': 1298, 'once': 1299, 'safe': 1300, '@united': 1301, 'service.': 1302, 'departure': 1303, 'leaving': 1304, 'joyous': 1305, 'occasion': 1306, 'laughing': 1307, 'display': 1308, 'entire': 1309, 'Think': 1310, 'young': 1311, 'hurt': 1312, 'bitter': 1313, 'mad': 1314, 'Oh,': 1315, 'me!': 1316, 'this,': 1317, 'roommate:': 1318, 'spell': 1319, 'autocorrect.': 1320, '#firstworldprobs': 1321, 'speaking': 1322, 'ex': 1323, 'saw': 1324, 'Holmes': 1325, 'tracking': 1326, 'dread': 1327, 'seeing': 1328, 'picture': 1329, 'myself:': 1330, '*awkward': 1331, 'smile*\\\\nme': 1332, 'day:': 1333, 'smile*\\\\nconclusion:': 1334, 'smiling': 1335, '#ornot': 1336, \"'I'm\": 1337, 'ready': 1338, 'sex': 1339, 'considered': 1340, 'replace': 1341, '#loss': 1342, '#hate': 1343, '#pain': 1344, 'close': 1345, 'window': 1346, 'open': 1347, 'Best': 1348, 'horror': 1349, 'movie': 1350, '2017': 1351, 'In': 1352, '2nd': 1353, 'half': 1354, 'throat': 1355, 'pain': 1356, '#laughs': 1357, 'everyday': 1358, 'glee': 1359, 'Impractical': 1360, 'Jokers...practically': 1361, 'genius!!!': 1362, '@BQQuinn': 1363, '#good4thesoul': 1364, '#ImpracticalJokers': 1365, '#bingewatching': 1366, \"Candice's\": 1367, 'pout': 1368, 'eye': 1369, '#GBBO': 1370, 'sucker': 1371, 'wild': 1372, 'boy': 1373, '#alarm': 1374, 'THANK': 1375, 'YOU': 1376, 'FOR': 1377, 'MY': 1378, 'service': 1379, \"'\": 1380, 'breaks': 1381, 'within': 1382, 'wks': 1383, 'show.': 1384, '#Forgiveness': 1385, 'might': 1386, '#weak,': 1387, 'weakest': 1388, 'person': 1389, 'holds': 1390, '#anger,': 1391, '#hatred,': 1392, 'Huge': 1393, '@VoidMovie': 1394, '#USAPREMIERE': 1395, 'tomorrow!': 1396, '#film': 1397, '#thevoid': 1398, '#featurefilm': 1399, '#scaryshit': 1400, 'bits': 1401, 'cooked': 1402, 'actual': 1403, 'tasted': 1404, 'ok,': 1405, 'AND': 1406, 'raw': 1407, 'awful.': 1408, 'hilarity,': 1409, 'Forgot': 1410, 'plug': 1411, 'overnight': 1412, 'mans': 1413, 'piece': 1414, 'mind': 1415, 'fuming!': 1416, 'Fucking': 1417, 'fuming': 1418, '@laura221b': 1419, 'fright': 1420, '😓': 1421, '@BBHOH': 1422, 'Paul': 1423, 'deserved': 1424, 'win!!!': 1425, '#movie': 1426, '#ChildrenOfMen.\\\\n\\\\n#cages': 1427, '#refugees': 1428, 'hungry': 1429, 'wait': 1430, '#socialmedia': 1431, '#funny': 1432, '#laughing': 1433, '#panic': 1434, 'Panic': 1435, 'attack': 1436, 'starting': 1437, 'initiative': 1438, '😧': 1439, '@BorisJohnson': 1440, 'cost': 1441, '?': 1442, 'letter': 1443, 'reasons': 1444, 'stay': 1445, 'set': 1446, 'clock': 1447, 'smh.': 1448, 'stomach.': 1449, 'boys': 1450, 'awful': 1451, 'right?': 1452, \"someone's\": 1453, 'vs.': 1454, 'attacks': 1455, 'surprised': 1456, 'trains': 1457, 'love': 1458, 'ago': 1459, 'many': 1460, 'optimistic': 1461, 'starts': 1462, 'biggest': 1463, 'victim': 1464, 'Sharif': 1465, 'It': 1466, 'terrorism.': 1467, 'hurts': 1468, 'eat,': 1469, 'somewhere': 1470, 'marshmallows': 1471, 'soft': 1472, 'irritate': 1473, 'nervous': 1474, 'whole': 1475, 'Kid': 1476, 'Cali': 1477, 'makes': 1478, 'nervous.': 1479, 'satisfying': 1480, 'opening': 1481, \"'to\": 1482, \"do'.doc\": 1483, 'file': 1484, 'able': 1485, 'check': 1486, 'Treat': 1487, 'laughter': 1488, 'form': 1489, 'worship': 1490, 'spiritual': 1491, 'warfare!': 1492, '#live': 1493, '#victory': 1494, '#worship': 1495, '@britishairways': 1496, 'term': 1497, '5': 1498, 'security': 1499, 'queues': 1500, 'arrivals': 1501, 'color': 1502, '#nervous': 1503, '#change': 1504, 'Still': 1505, 'appearance': 1506, 'two': 1507, 'months': 1508, 'ordered': 1509, '@MHChat': 1510, 'sadness': 1511, 'felt': 1512, 'strongly': 1513, 'feels': 1514, 'takes': 1515, '#MHChat': 1516, '@TheNotoriousMMA': 1517, 'heyday': 1518, 'flat': 1519, 'party': 1520, 'instantly': 1521, 'bollocked': 1522, 'booty': 1523, '🙂': 1524, 'golden': 1525, 'brown': 1526, 'hell': 1527, 'up!': 1528, 'Congrats': 1529, 'folks': 1530, '#bb18': 1531, '#survivor': 1532, 'yr': 1533, 'threw': 1534, 'boiling': 1535, 'water': 1536, 'hit': 1537, 'wetter': 1538, 'Thanks': 1539, 'tip': 1540, 'First': 1541, 'hearty': 1542, 'Miss': 1543, 'Cookie': 1544, 'thanks!': 1545, \"She's\": 1546, 'spry': 1547, 'do!': 1548, \"'Bitch\": 1549, \"pillow'\": 1550, 'line': 1551, '#kurt': 1552, '@Gibberman10': 1553, '@ScottHoward42': 1554, \"y'all\": 1555, 'remember': 1556, 'MLB': 1557, 'tried': 1558, 'futuristic': 1559, 'jersey': 1560, 'adorable': 1561, 'pouring': 1562, 'positivity': 1563, 'green': 1564, \"you'll\": 1565, 'It’s': 1566, 'lack': 1567, '#faith': 1568, '#people': 1569, '#challenges': 1570, 'season': 1571, 'point.': 1572, 'No!': 1573, \"Y'all\": 1574, 'mean': 1575, 'fire': 1576, 'business': 1577, 'burning,': 1578, 'looting': 1579, 'Pitt': 1580, 'investigated': 1581, 'child': 1582, 'massive': 1583, 'success.': 1584, 'stumbling': 1585, 'block': 1586, 'pessimist': 1587, 'stone': 1588, 'video': 1589, 'lmao': 1590, '@DeionSandersJr': 1591, '@DeionSanders': 1592, 'bad...Slash': 1593, 'prices': 1594, 'send': 1595, 'refugee': 1596, 'camps,': 1597, 'team': 1598, 'gear': 1599, 'lose': 1600, 'championships.': 1601, 'Lol': 1602, 'yeah': 1603, \"didn't\": 1604, 'nap': 1605, 'collect': 1606, \"they've\": 1607, 'Most': 1608, 'Americans': 1609, 'media': 1610, 'Government': 1611, 'propaganda': 1612, 'BS.': 1613, '#lies': 1614, '#control': 1615, '#BS': 1616, '#RiggedSystem': 1617, '#garbage': 1618, '#oreillyfactor': 1619, 'great': 1620, 'tasting': 1621, 'words': 1622, 'it!😃👌🏻': 1623, '#herbalifenutrition': 1624, '#tastesogood': 1625, '#nowords': 1626, 'Tweeting': 1627, 'sporadic': 1628, 'wifi': 1629, 'tube': 1630, 'missed': 1631, 'late': 1632, 'working': 1633, 'Man': 1634, 'U': 1635, 'may': 1636, 'breakdown': 1637, 'weak': 1638, 'follow': 1639, 'own': 1640, 'dreams': 1641, 'discourage': 1642, 'yours.': 1643, 'Walker': 1644, 'Xbox': 1645, 'spends': 1646, 'dashboard.': 1647, '#humor': 1648, 'worrying/worried?\\\\n1Peter': 1649, '5:7\\\\nThrow': 1650, 'him,': 1651, 'cares': 1652, '#leadership': 1653, '#mindfulness': 1654, '#success': 1655, '#start': 1656, '#Nicole': 1657, 'Fix': 1658, '😒💁🏻': 1659, '#petty': 1660, 'often': 1661, 'disturbed': 1662, 'acceptable.': 1663, 'funny': 1664, 'nor': 1665, 'adults': 1666, 'stuff': 1667, 'humorous.': 1668, 'Corey': 1669, 'vote': 1670, 'Nicole??': 1671, '#snacole': 1672, '#paulsgonnawin': 1673, '#finale': 1674, '#halfamill': 1675, 'fret': 1676, 'heaven': 1677, '@EagleGiles23': 1678, '@tgilmore_92': 1679, 'miss?': 1680, '@joey_coops': 1681, 'Hun!': 1682, 'Avoid': 1683, 'costs!!': 1684, 'limbs': 1685, 'enjoy': 1686, 'life.': 1687, '😃': 1688, 'others': 1689, 'theirs.': 1690, '@TheBarmyArmy': 1691, \"we're\": 1692, 'offended.': 1693, 'blow': 1694, 'idk': 1695, 'sacrifice': 1696, 'willing': 1697, 'football': 1698, 'team.': 1699, 'ukulele': 1700, 'fallen': 1701, 'apart.': 1702, 'WELLL': 1703, 'AT': 1704, 'LEAST': 1705, \"hasn't\": 1706, 'yet!!': 1707, '#Joys\\\\n\\\\n#quote': 1708, '#problemsolving': 1709, 'comment': 1710, '#horrid': 1711, 'health': 1712, 'depression': 1713, 'cable': 1714, 'news': 1715, 'cheery': 1716, 'thinking': 1717, 'die': 1718, '@BarberCeleste': 1719, 'insta!!!...': 1720, 'furious': 1721, 'writers': 1722, 'style': 1723, 'taste': 1724, 'ultimately': 1725, 'jesus': 1726, 'thoughts': 1727, 'gloom': 1728, 'sleep': 1729, 'cuz': 1730, 'guilty': 1731, 'do.': 1732, 'daunting': 1733, 'typical': 1734, 'offer': 1735, 'proven': 1736, 'case': 1737, 'wrath': 1738, 'angry,': 1739, 'grandma': 1740, 'right,': 1741, 'terrifying.': 1742, '#life': 1743, 'hundred': 1744, 'cry,': 1745, '#smile.': 1746, '#quotes': 1747, 'Ever': 1748, 'put': 1749, 'fist': 1750, 'laptops': 1751, 'screen?': 1752, '#hp': 1753, 'Idk': 1754, 'depression.': 1755, \"wouldn't\": 1756, 'wish': 1757, 'upon': 1758, 'enemy.': 1759, 'cool': 1760, 'gag': 1761, 'quote': 1762, '@huntermcaseyy': 1763, 'guess': 1764, 'holding': 1765, 'grudge': 1766, 'brother,': 1767, 'forming': 1768, 'face.': 1769, 'investing': 1770, 'population': 1771, 'straight': 1772, 'streets': 1773, 'rage': 1774, 'stepped': 1775, 'buying': 1776, 'Death': 1777, 'hands': 1778, 'espresso': 1779, 'then.': 1780, 'kicking': 1781, 'ass': 1782, 'reminder': 1783, 'private': 1784, 'account': 1785, 'delight': 1786, 'oh,': 1787, '6': 1788, 'month': 1789, 'depression-free': 1790, 'relapse': 1791, 'now...': 1792, 'superb': 1793, 'For': 1794, 'found': 1795, '@Zen1dfabflake': 1796, 'angelic': 1797, 'comrades!': 1798, \"Haven't\": 1799, 'while,': 1800, 'watching': 1801, 'lots': 1802, 'TV.': 1803, 'Conclusion': 1804, '#whataloadoftat...if': 1805, 'depressed': 1806, 'afternoon': 1807, 'Bring': 1808, 'interview': 1809, 'hospital': 1810, '🙈🙈': 1811, '@AmyMek': 1812, '(if': 1813, 'future': 1814, 'country).': 1815, '#despair': 1816, '#wakeupcall': 1817, 'What': 1818, 'evening': 1819, 'clearing': 1820, 'cage': 1821, 'Now': 1822, 'final.': 1823, 'Goodbye': 1824, 'man....': 1825, 'Time': 1826, 'library': 1827, 'lovely': 1828, 'PILE': 1829, 'book': 1830, 'reservations': 1831, 'morning...': 1832, '#glee': 1833, '#books': 1834, '#reading': 1835, 'swear': 1836, 'divided': 1837, 'inflame': 1838, 'minority': 1839, 'disgrace.': 1840, 'ahead': 1841, 'today?': 1842, 'Laugh': 1843, 'hard?': 1844, 'so..we': 1845, 'NEED': 1846, 'Coming': 1847, 'Oh': 1848, '#tantrums': 1849, 'protein': 1850, 'pessimism': 1851, 'another': 1852, 'worried': 1853, 'stopping': 1854, '#terrorism.': 1855, 'Well,': 1856, 'easy': 1857, 'personal': 1858, 'dislike': 1859, 'animosity': 1860, 'etc.': 1861, 'watch.': 1862, 'funnier': 1863, '@kapilsharmak9': 1864, 'day.': 1865, '#challenge': 1866, '#kashmir': 1867, '#baloch': 1868, 'weird': 1869, 'stingrays': 1870, 'killed': 1871, 'Steve': 1872, 'white': 1873, 'stores': 1874, '@Twitch': 1875, 'themed': 1876, 'commercial?': 1877, 'Suddenly': 1878, 'hearing': 1879, 'screams': 1880, 'twitch.': 1881, 'Holding': 1882, 'anger': 1883, 'drinking': 1884, 'poison': 1885, 'expecting': 1886, 'KISSMARC': 1887, 'Or': 1888, 'it,': 1889, 'displeasure': 1890, 'setting': 1891, 'perfume': 1892, 'heart:': 1893, '8': 1894, 'coming': 1895, 'week.': 1896, 'brings': 1897, 'god': 1898, 'Alex': 1899, 'growl': 1900, 'me..': 1901, '😂😂😂': 1902, 'run': 1903, 'drag': 1904, 'madden': 1905, 'heyday,': 1906, 'page': 1907, 'full': 1908, 'up.': 1909, 'valid': 1910, 'question.': 1911, 'smashed': 1912, 'dashed': 1913, 'No': 1914, 'sense': 1915, 'worse,': 1916, 'Pizza': 1917, 'Hut': 1918, 'commercials': 1919, 'pizza': 1920, 'makes.': 1921, 'dying': 1922, 'ways': 1923, 'toward': 1924, 'fine': 1925, 'huff': 1926, 'yours': 1927, 'current': 1928, 'political': 1929, 'debate': 1930, 'fears:': 1931, 'incurable': 1932, \"STD's\": 1933, 'pregnancy...I': 1934, 'mean,': 1935, 'basically': 1936, 'anyway': 1937, '#forlife': 1938, '#annoying': 1939, '#weirdsmells': 1940, 'filled': 1941, 'report': 1942, 'lets': 1943, '#badbusiness': 1944, 'sweet': 1945, 'princess': 1946, 'arrive.': 1947, '37': 1948, 'Saturday!': 1949, '@SurfaceSupport': 1950, 'profoundly': 1951, 'disappointing': 1952, 'experience.': 1953, '$500': 1954, 'remedy': 1955, 'defect': 1956, '@Microsoft': 1957, '@StarklyDark': 1958, 'here.': 1959, 'Come': 1960, 'on.': 1961, 'goal': 1962, 'horrific.': 1963, 'instagram': 1964, 'dm': 1965, 'Want': 1966, 'smiles': 1967, 'reaches': 1968, 'playful': 1969, 'lol!': 1970, 'mention': 1971, 'PM': 1972, 'channel': 1973, 'holiday': 1974, 'natural': 1975, 'father': 1976, 'says': 1977, 'blood': 1978, 'cross': 1979, 'totally': 1980, 'Lord': 1981, 'turn': 1982, 'give': 1983, 'peace.': 1984, 'Numbers': 1985, '6:26': 1986, '#truth': 1987, '#trust': 1988, '#promise': 1989, '#calm': 1990, '#great': 1991, '#mighty': 1992, '#protected': 1993, '#fear': 1994, '#Lord': 1995, '#evil': 1996, '[1/2]': 1997, 'B4': 1998, 'couldnt': 1999, 'bed': 2000, 'mirror': 2001, 'support': 2002, 'dangerous': 2003, 'worrying': 2004, 'live': 2005, '#terrifying': 2006, '#Charlotte': 2007, 'Me': 2008, 'seriously': 2009, 'relentless': 2010, 'ears': 2011, 'wraps': 2012, 'itself': 2013, 'around': 2014, 'wants': 2015, 'her.': 2016, '#quote': 2017, '#poetry': 2018, 'Follow': 2019, 'through.': 2020, 'fuckin': 2021, 'luv': 2022, 'info': 2023, '#mentalhealth': 2024, '#anxiety': 2025, '#confused': 2026, 'question': 2027, 'vs': 2028, 'emotions.': 2029, '#burning': 2030, 'keeps': 2031, 'UP': 2032, 'TO': 2033, 'ME': 2034, 'Top': 2035, 'Johnson': 2036, 'double': 2037, '@TamraBarney': 2038, '@ShannonBeador': 2039, '@RHOC_KellyDodd': 2040, 'Tamra': 2041, 'F': 2042, 'Tamra\\\\nKelly': 2043, '💩': 2044, '#needstobeadmitted': 2045, 'Anyone': 2046, 'seems': 2047, 'says,': 2048, 'unless': 2049, 'one!': 2050, '#animated': 2051, 'film': 2052, 'war': 2053, 'fans': 2054, 'West': 2055, 'Ham': 2056, 'beat': 2057, 'house!': 2058, '#movies': 2059, 'joyful': 2060, 'people.': 2061, 'Choose': 2062, '#morning': 2063, '#happiness': 2064, '#grandmercurejktkemayoran': 2065, 'STAY': 2066, 'Well': 2067, 'great!': 2068, 'Zika': 2069, '#Hoax': 2070, 'Files:': 2071, 'DEET': 2072, 'part': 2073, 'binary': 2074, 'chemical': 2075, 'weapon': 2076, 'targeting': 2077, 'brain:': 2078, '#Toxin': 2079, '#neurological': 2080, '#USCitizens': 2081, '#Insect': 2082, '#mammal': 2083, 'Apocalypse': 2084, 'gym': 2085, 'be...\\\\n\\\\nEveryone': 2086, 'wearing': 2087, 'vests!': 2088, 'contagious?': 2089, 'An': 2090, 'taken': 2091, '@TheDemocrats': 2092, 'gleeful': 2093, '#Election2016': 2094, '#Trump': 2095, '@Singaholic121': 2096, 'morning,': 2097, 'love!': 2098, 'fall.': 2099, \"Let's\": 2100, 'awesome': 2101, '#autumnmemories': 2102, '#annabailey': 2103, 'Someone': 2104, 'throw': 2105, 'dance': 2106, 'Rest': 2107, 'Up': 2108, '🙏🏾': 2109, 'me.': 2110, 'butter': 2111, \"i'll\": 2112, 'false': 2113, '#NawazSharif': 2114, 'unacceptable': 2115, 'conditions': 2116, 'spirit,': 2117, 'cheering': 2118, 'dudes': 2119, 'definition': 2120, 'protest.': 2121, 'protesting': 2122, 'vandalism.': 2123, '#stop': 2124, \"What's\": 2125, 'Feel': 2126, 'Roll': 2127, 'track': 2128, 'spider': 2129, 'carpet.': 2130, 'Where': 2131, 'go?': 2132, '🕷': 2133, 'sneaking': 2134, '#frightened': 2135, 'sober': 2136, 'roll': 2137, 'Dutch': 2138, 'smoke': 2139, 'nigga': 2140, 'pour': 2141, 'cup': 2142, 'lady': 2143, 'painting': 2144, 'herself': 2145, 'internet': 2146, 'laughs': 2147, 'likes...': 2148, '#BadForm': 2149, '#DidntLaugh': 2150, 'United': 2151, 'managers': 2152, 'Twitter': 2153, 'despair': 2154, 'eh': 2155, '#MUFC': 2156, 'encouragement': 2157, 'dog': 2158, 'head': 2159, 'fog.': 2160, '#epicfail': 2161, '#feelingfedup': 2162, '#tired': 2163, '#ihaveheardeverything': 2164, '#wondering': 2165, '🔥': 2166, '100': 2167, \"You've\": 2168, 'tremendous': 2169, 'Evening': 2170, 'all.': 2171, 'forget': 2172, '#RobinHoodHour': 2173, 'TONIGHT': 2174, '#bizhour': 2175, '#southyorkshire': 2176, '#MansfieldHour': 2177, '#chirp': 2178, '#sheffieldHour': 2179, '#NottsHour': 2180, 'despite': 2181, 'absolute': 2182, 'home,': 2183, 'misery': 2184, 'husband': 2185, 'more.': 2186, 'Gotta': 2187, 'breezy': 2188, 'breaking': 2189, '@Uncle_Brown22': 2190, 'Appreciate': 2191, '#support!': 2192, '#Notorious': 2193, 'ABC,': 2194, 'peep': 2195, '#grateful': 2196, '#relentless': 2197, '@simmy_hanley': 2198, '@Schrise': 2199, '@SouthernRailUK': 2200, 'delays': 2201, 'Streatham': 2202, 'Cmn': 2203, 'Clap': 2204, 'Junc': 2205, '20': 2206, 'mins': 2207, '9': 2208, 'journey.': 2209, 'Missed': 2210, 'Reading': 2211, 'align': 2212, 'end.': 2213, '#forward': 2214, '“The': 2215, 'immense': 2216, 'sometimes': 2217, 'scary.': 2218, 'don’t': 2219, 'responsible': 2220, 'catch': 2221, '@adrian_ver': 2222, \"'s\": 2223, 'twitter.': 2224, \"aren't\": 2225, 'following': 2226, 'BASIC.': 2227, '#hilarity': 2228, 'smell': 2229, 'gives': 2230, '@realDonaldTrump': 2231, '@pbump': 2232, 'uses': 2233, 'secret': 2234, '@dish_answers': 2235, 'contacted': 2236, '@dish': 2237, '#service': 2238, '#whathappenedtocustomerservice': 2239, 'Three': 2240, 'wives': 2241, 'worse.': 2242, 'how,': 2243, '#oilandgas': 2244, 'senior': 2245, 'early': 2246, 'dismal': 2247, 'study': 2248, 'boss': 2249, '🙃': 2250, 'wounds': 2251, '#rt': 2252, '#lol': 2253, '#wisdom': 2254, '#comedy': 2255, '#self': 2256, '#Revenge': 2257, '#grudge': 2258, '#time': 2259, '#politics': 2260, '#POTUS2016': 2261, 'Each': 2262, '#work': 2263, '#help': 2264, '#world': 2265, 'Yo,my': 2266, 'name': 2267, '#DarthVader': 2268, 'puff': 2269, 'inhaler': 2270, \"(I'm\": 2271, 'rapper': 2272, 'bars)': 2273, '#breathless': 2274, '#bars': 2275, '#rap': 2276, 'formidable': 2277, 'cannot': 2278, 'themselves.': 2279, 'frustrating': 2280, '#ugh': 2281, '#raging': 2282, '@PhilGlutting': 2283, 'Hey': 2284, 'Phil': 2285, 'Glutting': 2286, 'thank': 2287, 'us,': 2288, 'appreciated': 2289, 'innocent': 2290, 'police': 2291, 'shot': 2292, 'ya': 2293, 'confident': 2294, 'sucks': 2295, 'Saga:': 2296, 'devices': 2297, 'teles': 2298, 'fail': 2299, '#gbbo': 2300, 'incense': 2301, '@DPD_UK': 2302, 'parcel': 2303, 'delivered': 2304, 'store': 2305, 'address': 2306, '#poorcustomerservice': 2307, '@BullSkitComedy': 2308, 'FUNdraiser': 2309, 'Fri.': 2310, '8pm': 2311, '@TheScottBlock.': 2312, 'Because': 2313, '#pie': 2314, '#face': 2315, '=': 2316, 'US': 2317, 'reply': 2318, \"'I\": 2319, 'fair': 2320, 'bit': 2321, 'timid': 2322, 'compared': 2323, 'Twitter!': 2324, '#madden': 2325, 'stories': 2326, 'backed': 2327, 'pats': 2328, '-2.5': 2329, '10/11': 2330, '#pleasing': 2331, 'cheese': 2332, '#delicious': 2333, 'Thank': 2334, '#horror': 2335, '#horrorfilm': 2336, 'doctor': 2337, 'relieve': 2338, 'reduce': 2339, \":')\": 2340, 'weirdest': 2341, 'note--or': 2342, 'worse--total': 2343, 'silence': 2344, 'acknowledgement.': 2345, 'react': 2346, 'uri': 2347, 'attack.....': 2348, 'write': 2349, '@devincameron23': 2350, 'blocks': 2351, 'joyed': 2352, 'Sometimes': 2353, 'alternate': 2354, \"'sleep-full'\": 2355, 'sleepless': 2356, 'nights.': 2357, 'Tonight': 2358, 'one.': 2359, '😕': 2360, '#insomnia': 2361, '#notfair': 2362, 'Stuck': 2363, 'scrum': 2364, 'hegemonists.': 2365, '#scrum': 2366, '#Stuck': 2367, 'thy': 2368, 'midst': 2369, 'thee': 2370, 'mighty;': 2371, 'save,': 2372, '3:17': 2373, '@sydneyswans': 2374, '#cheer': 2375, '#red': 2376, 'final': 2377, '#win': 2378, 'confused': 2379, 'American': 2380, '😩': 2381, 'times': 2382, 'runs': 2383, 'them...': 2384, 'Ask': 2385, 'yourself': 2386, 'ruled': 2387, 'hatred': 2388, 'does': 2389, 'work?': 2390, 'plus': 2391, '#yachtrock': 2392, '#mustacheharbor': 2393, 'common': 2394, 'fucked': 2395, 'situation': 2396, 'settle': 2397, 'conscience': 2398, 'Trying': 2399, 'violations': 2400, 'Kashmir': 2401, 'BUT': 2402, 'role': 2403, 'Candice': 2404, 'Imagine': 2405, 'net': 2406, '@AnthonyEinzig': 2407, 'sorry.': 2408, 'heartbreaking': 2409, 'happen': 2410, 'anywhere.': 2411, 'Please': 2412, '🙏🏻': 2413, 'gate': 2414, 'crash': 2415, 'dressed': 2416, 'lace': 2417, 'join': 2418, 'tomorrow': 2419, 'leave': 2420, 'ICQ': 2421, 'mad!!!😤': 2422, '#icq': 2423, 'nicest': 2424, 'cheerfully': 2425, 'apartment': 2426, 'continue': 2427, 'whistle': 2428, 'gained': 2429, 'vibes': 2430, '😊': 2431, 'work!!': 2432, 'dinner': 2433, 'well!': 2434, 'explain': 2435, '#Ferguson': 2436, 'platform.': 2437, 'years.': 2438, '#recovery': 2439, '#sobriety': 2440, 'kinda': 2441, 'girl': 2442, 'dick': 2443, \"'non-permissive\": 2444, \"environment'\": 2445, \"'battleground'\": 2446, '#MilSpeak': 2447, 'lot': 2448, 'issues': 2449, 'school.': 2450, 'terrible': 2451, 'day!': 2452, 'usually': 2453, 'reason': 2454, 'awe': 2455, 'onus': 2456, \"Pakistan'\": 2457, '#Uri': 2458, 'suddenly': 2459, 'became': 2460, 'lips': 2461, 'started': 2462, 'tremble': 2463, '2.': 2464, \"shouldn't\": 2465, 'funny.': 2466, 'middle': 2467, 'wet': 2468, 'slide': 2469, '#shy': 2470, 'Looks': 2471, '@ChronAVT': 2472, 'ummm,': 2473, 'blog': 2474, \"'with\": 2475, 'Simon': 2476, 'Stehr': 2477, 'faking': 2478, \"7th'...I'll\": 2479, 'investigation': 2480, 'forthwith.': 2481, 'scare': 2482, 'me?': 2483, 'reached': 2484, '1000': 2485, 'subscribers': 2486, 'YT!!': 2487, '#goodday,': 2488, '#thankful': 2489, 'signed': 2490, 'quality': 2491, 'CB': 2492, 'least.': 2493, ':P': 2494, 'finally': 2495, \"i've\": 2496, 'kind': 2497, 'de': 2498, 'affliction?': 2499, 'hairy': 2500, 'arms': 2501, 'Talk': 2502, '@YahooFantasy': 2503, 'update': 2504, 'mistake': 2505, 'Houston': 2506, 'coach': 2507, 'midnight.': 2508, '#yikes': 2509, 'overcoming': 2510, '2am': 2511, 'knew': 2512, 'me,': 2513, 'mistakes': 2514, 'Okay': 2515, 'similar': 2516, 'crack': 2517, 'tough': 2518, 'imagine': 2519, 'Thought': 2520, 'left': 2521, 'haunt': 2522, 'Once': 2523, 'sent': 2524, 'pitch': 2525, 'brand': 2526, 'relevant': 2527, 'myself.': 2528, '@Varneyco/@FoxBusiness': 2529, 'latest': 2530, '#Chelsea': 2531, 'Bombing': 2532, \"#Ahmad_Khan_Rahami's\": 2533, 'trips': 2534, '#Afghanistan/#Pakistan': 2535, '#tcot': 2536, 'fiery': 2537, 'demons': 2538, ';)': 2539, 'Carrick': 2540, 'under': 2541, 'pressure': 2542, 'Being': 2543, 'letting': 2544, 'concern': 2545, 'day,': 2546, '@mikeburke91': 2547, '@AP': 2548, 'guess.': 2549, 'ease': 2550, 'kill': 2551, 'wanted': 2552, 'Utd': 2553, 'Northampton': 2554, '@bt_uk': 2555, 'broadband': 2556, 'shocking': 2557, 'regretting': 2558, 'signing': 2559, '@GuardianAus': 2560, 'Maybe': 2561, '#Muslim': 2562, 'cos': 2563, 'horrific': 2564, '😭😭😭': 2565, '@gmail': 2566, '15': 2567, 'emails?': 2568, \"Where's\": 2569, 'thousands': 2570, 'gone?': 2571, ';': 2572, 'B': 2573, 'mini': 2574, 'car': 2575, '@russbully': 2576, 'Ended': 2577, 'paying': 2578, '75p': 2579, 'smarties.': 2580, 'pleasure': 2581, 'popping': 2582, 'plastic': 2583, 'lid': 2584, 'Regret': 2585, 'tempered': 2586, 'time;': 2587, 'regret': 2588, 'inconsolable.': 2589, 'Sydney': 2590, 'J.': 2591, 'Harris': 2592, 'Her': 2593, 'liveliness': 2594, 'else,': 2595, 'please': 2596, 'hesitate': 2597, 'reach': 2598, 'us.': 2599, 'mixing': 2600, 'well..using': 2601, 'slider': 2602, 'affective': 2603, 'far': 2604, '#thebabybombers': 2605, '#yankees': 2606, '#offense': 2607, 'Go': 2608, 'lively.': 2609, 'See': 2610, 'there!': 2611, 'update.': 2612, 'iPhone': 2613, 'Having': 2614, 'blues!': 2615, 'rare': 2616, 'land': 2617, 'afraid.': 2618, 'motivations': 2619, \"'proving\": 2620, \"wrong'\": 2621, '#energy': 2622, '#MotivationalQuotes': 2623, 'me:': 2624, 'dreary': 2625, 'fat': 2626, 'shaming': 2627, 'Great': 2628, 'example': 2629, \"she's\": 2630, 'Start': 2631, 'mournful': 2632, 'major': 2633, 'key': 2634, 'change': 2635, 'past': 2636, '10': 2637, ':-)': 2638, 'week,': 2639, 'horrific,': 2640, 'decided': 2641, 'summer': 2642, 'vacation': 2643, '#Rage': 2644, '#disappointment': 2645, 'what?': 2646, 'goes': 2647, 'first.': 2648, 'gets': 2649, 'barely': 2650, 'changes': 2651, 'Mary': 2652, 'Berry': 2653, 'icing': 2654, 'Bakewell': 2655, 'horrid': 2656, 'Mr': 2657, 'recognise': 2658, 'rojo': 2659, 'posting': 2660, 'career': 2661, 'primarily': 2662, 'you’re': 2663, 'rather': 2664, 'impression': 2665, 'lessens': 2666, 'social': 2667, 'anxiety.': 2668, 'depress': 2669, 'blake': 2670, 'busy': 2671, 'tired': 2672, '(but': 2673, 'Get': 2674, 'discover': 2675, 'shoes': 2676, '😤': 2677, '#rage': 2678, '#wwhhyyy': 2679, 'clearly': 2680, 'blatant': 2681, '#India': 2682, 'terror.': 2683, 'Irish': 2684, 'citizens': 2685, '2016': 2686, 'leaves': 2687, 'Rojo': 2688, '@RossKemp': 2689, 'programme': 2690, '#upsetting': 2691, '#extremeworld': 2692, 'followers': 2693, 'WOW': 2694, 'perfection,': 2695, 'fortunate': 2696, 'successes': 2697, 'mixed': 2698, 'sadness.': 2699, '#perfection': 2700, '#fortunate': 2701, '#mixed': 2702, '@cc_yandian': 2703, 'hat': 2704, 'daily': 2705, 'personality': 2706, '#drugged': 2707, '#yeller': 2708, '#screamer': 2709, '#😂😂': 2710, 'ladies': 2711, 'Have': 2712, 'lil': 2713, 'college': 2714, '#relieved': 2715, '#bathroom': 2716, 'realize': 2717, 'appealing': 2718, 'women': 2719, 'bout': 2720, 'article': 2721, \"'Moving\": 2722, 'Conversation': 2723, 'Forward:': 2724, 'Homosexuality': 2725, \"Christianity'\": 2726, 'foursquare': 2727, '@EE': 2728, 'data': 2729, 'Spain': 2730, 'Robert': 2731, 'Call': 2732, 'evil': 2733, 'exact': 2734, '#emoji': 2735, '@littlepieces': 2736, 'Customer': 2737, 'services': 2738, 'involved': 2739, 'eventually': 2740, 'wash': 2741, '#dreamornightmare': 2742, '@LBC': 2743, 'story.': 2744, 'chavs': 2745, 'Quite': 2746, 'attending': 2747, 'concert': 2748, 'May': 2749, 'him.': 2750, 'post': 2751, 'photo.': 2752, 'SO': 2753, 'pics': 2754, 'except': 2755, 'w': 2756, 'LOL': 2757, 'Too': 2758, 'existence': 2759, 'Wishing': 2760, 'Birthday': 2761, '#bday': 2762, 'messing': 2763, 'favourite': 2764, 'bakes': 2765, '11': 2766, 'lbs': 2767, 'married': 2768, 'healthy)': 2769, 'ive': 2770, 'gone': 2771, 'mile': 2772, 'weeks.': 2773, '#fitness': 2774, '@NativeApprops': 2775, '@SBShear': 2776, '@HuffingtonPost': 2777, 'Shew.': 2778, 'incredibly': 2779, 'song': 2780, 'yet': 2781, 'appendix.': 2782, 'purpose.': 2783, '#sad': 2784, '#depressed': 2785, '#alone': 2786, '#lonely': 2787, '#broken': 2788, '#cry': 2789, '#hurt': 2790, '#crying': 2791, 'night,': 2792, \"Didn't\": 2793, 'bother': 2794, 'order.': 2795, 'magazines': 2796, 'passage': 2797, 'mirth': 2798, 'treat': 2799, 'cried': 2800, 'laughter.': 2801, 'Migraine': 2802, 'hangover': 2803, 'Stood': 2804, 'dishes': 2805, 'exhausted': 2806, 'GAD,': 2807, 'chronic': 2808, '@corruptmelon': 2809, 'Super': 2810, 'shitting': 2811, 'tattoo': 2812, 'feelings': 2813, '😆': 2814, 'hand.': 2815, '@ananavarro': 2816, '@tcarrels': 2817, 'supporters': 2818, 'clue': 2819, 'meaning': 2820, '#nevertrump': 2821, 'DAY': 2822, 'OF': 2823, 'Kik': 2824, 'swap': 2825, '#kikme': 2826, '#snap': 2827, '#nudes': 2828, '#tits': 2829, '#snapchat': 2830, 'Loving': 2831, '#Pitch': 2832, '!!': 2833, '🤗🤗🤗': 2834, '@PITCHonFOX': 2835, '@Global_TV': 2836, '#chills': 2837, '101': 2838, 'Russell': 2839, 'Howard,Tom': 2840, 'Odell,Michael': 2841, 'Buble!!!': 2842, '#pants': 2843, '#nogood': 2844, 'minute': 2845, 'air.': 2846, 'cooped': 2847, 'inside': 2848, 'hahaha': 2849, 'dear': 2850, 'themselves,': 2851, 'unhappy,': 2852, 'lives.': 2853, 'b/c': 2854, 'minutes': 2855, 'hanging': 2856, '😀': 2857, 'step': 2858, 'long': 2859, '#visa': 2860, 'process': 2861, 'over.': 2862, 'Relief.': 2863, 'Onto': 2864, 'step.': 2865, '#expat': 2866, 'realized': 2867, 'pig': 2868, 'truly': 2869, 'home.': 2870, 'learning': 2871, 'coping': 2872, 'skill.': 2873, 'juggle,': 2874, 'balls': 2875, 'it.\\\\n': 2876, '#pun': 2877, '#punny': 2878, 'Southampton': 2879, 'wipe': 2880, 'ham': 2881, 'disheartened': 2882, 'Beyoncé': 2883, 'resentment': 2884, '@ManUtd': 2885, 'off!': 2886, 'dreadful!': 2887, '🙈🙈🙈': 2888, '@carras16': 2889, 'showing': 2890, 'blessed': 2891, 'Instagram': 2892, 'sort': 2893, 'sh*t': 2894, 'out.': 2895, 'ages': 2896, 'writing': 2897, 'caption': 2898, 'delete': 2899, '#fume': 2900, '#instagram': 2901, 'frown': 2902, 'showed': 2903, 'cat': 2904, \"'This\": 2905, 'Find': 2906, 'buoyant.': 2907, 'Gen': 2908, 'X': 2909, 'aaahhhh!': 2910, '@OtisRedding': 2911, 'soothe': 2912, 'soul.': 2913, '#bye': 2914, '@Brooke56_56': 2915, '#cheerchick': 2916, '#jeep': 2917, '#jeepgirl': 2918, '#IDriveAJeep': 2919, '#jeepjeep': 2920, '#Cheer': 2921, 'perfect': 2922, '@TedLeitner': 2923, '@jesseagler': 2924, 'TEN': 2925, 'TIMES': 2926, 'interesting': 2927, 'particular': 2928, 'goofballs': 2929, '(I': 2930, 'worse).': 2931, 'Omg': 2932, '#southpark': 2933, 'tbh': 2934, 'Sweden': 2935, 'Lundqvist': 2936, 'sky': 2937, 'background': 2938, 'dull': 2939, 'colors': 2940, '@JeffProbst': 2941, 'jovial.': 2942, 'darker': 2943, 'simply': 2944, 'sis': 2945, '@leesyatt': 2946, 'cruel,': 2947, 'cruel': 2948, '#therewillbeblood': 2949, '@mcrichard': 2950, 'PROFITABLE': 2951, 'FX': 2952, 'clients': 2953, 'share': 2954, 'Does': 2955, 'know,': 2956, 'Sims': 2957, 'dual': 2958, 'sim': 2959, 'locked': 2960, 'network!': 2961, 'William': 2962, 'em': 2963, 'Boss': 2964, 'jovial': 2965, 'met': 2966, 'person.': 2967, 'Ok,': 2968, '@iamjustinburke': 2969, 'game...': 2970, 'Hillary': 2971, '27': 2972, 'NOTHING': 2973, 'candidate': 2974, '#anxious': 2975, '#worry': 2976, '😶': 2977, 'slowly': 2978, '#mad': 2979, '@DeltaAssist': 2980, 'Tried': 2981, 'earlier': 2982, 'flt': 2983, '2day': 2984, '@BWI': 2985, 'Turnd': 2986, 'bcuz': 2987, 'Then': 2988, 'agent': 2989, 'pas': 2990, '#silvereliteleftbehind': 2991, '13': 2992, 'hour': 2993, '@bus': 2994, 'rides': 2995, '#sorry': 2996, 'do,': 2997, 'Brock': 2998, 'tag': 2999, 'mr': 3000, 'mrs': 3001, 'Remember': 3002, 'Christ.': 3003, 'Give': 3004, 'sting': 3005, 'Seriously': 3006, 'grumpy': 3007, 'food,': 3008, 'up?': 3009, 'bro': 3010, 'smh': 3011, 'customers': 3012, 'lights': 3013, 'hours': 3014, 'coincidence': 3015, 'recorded': 3016, 'noise.': 3017, 'Matty': 3018, 'Long': 3019, 'front': 3020, 'music': 3021, 'DC': 3022, 'tonight!': 3023, 'Tom': 3024, 'package': 3025, 'quite': 3026, 'juxtaposition': 3027, '#Broncos': 3028, 'Everything': 3029, 'weary.': 3030, 'depths': 3031, 'lackadaisical': 3032, 'head,': 3033, 'swinging': 3034, 'titans': 3035, 'fill': 3036, '2020': 3037, '#bad': 3038, 'planning': 3039, 'September': 3040, 'Fuckin': 3041, 'restless': 3042, 'base': 3043, 'rain': 3044, '@Support': 3045, 'reinstate': 3046, 'fights': 3047, 'Damn': 3048, 'keys': 3049, 'fault': 3050, 'worked': 3051, 'course': 3052, 'off,': 3053, 'no!': 3054, 'count': 3055, 'attitude': 3056, '#soywax': 3057, 'limited': 3058, 'edition': 3059, 'candles': 3060, '@scentedscreams!': 3061, 'news!!': 3062, 'irate': 3063, 'decide': 3064, \"'the\": 3065, '’s': 3066, 'Lmao': 3067, 'awareness': 3068, 'genuinely': 3069, 'Never': 3070, 'dancers': 3071, 'dream': 3072, '#worldpower': 3073, \"Doesn't\": 3074, 'suck': 3075, 'More': 3076, 'Val': 3077, 'ignoring': 3078, 'Italian': 3079, 'addition': 3080, 'luck': 3081, 'paper': 3082, 'oh': 3083, 'fest': 3084, 'potential': 3085, 'franchise': 3086, 'gone.': 3087, '@aGirlHasNo_Name': 3088, '@MdlMurray': 3089, 'woman': 3090, 'Typical': 3091, 'looney': 3092, 'toon': 3093, '#Hillary': 3094, '#divide': 3095, '#chaos': 3096, 'Max': 3097, 'British': 3098, '@KellyannePolls': 3099, 'slogan': 3100, \"idea...'I\": 3101, \"I?'\": 3102, '#Trump2016': 3103, '#yourefired': 3104, '#deflect': 3105, 'building': 3106, 'mix': 3107, '2-0': 3108, '4-0': 3109, 'Would': 3110, 'problem': 3111, 'sentence': 3112, 'Those': 3113, 'times,': 3114, 'sober.': 3115, 'grace': 3116, 'drive': 3117, 'censored': 3118, 'version': 3119, 'Spirits': 3120, 'Strumbellas.': 3121, \"'Guns'\": 3122, 'replaced': 3123, \"'dreams'.\": 3124, 'NO.': 3125, '#censorship': 3126, 'Mine': 3127, 'vengeful': 3128, 'male': 3129, '#rock': 3130, 'hannah': 3131, 'died': 3132, 'involvement': 3133, 'drawing': 3134, 'amount': 3135, 'fury': 3136, 'yesterday,': 3137, 'fell': 3138, 'woke': 3139, 'sink': 3140, 'cray': 3141, '#scared': 3142, '#Empire': 3143, 'growing': 3144, '@azizansari': 3145, 'South': 3146, '#EFT': 3147, 'single': 3148, 'effective': 3149, 'tool': 3150, 'learned': 3151, '40': 3152, 'therapist-Dr.': 3153, 'Curtis': 3154, 'A.': 3155, 'Steele': 3156, '(psychiatrist)': 3157, '#stress': 3158, '@residentadvisor': 3159, 'exemplary': 3160, 'customer': 3161, 'loyal': 3162, '#jk': 3163, '#residentadvisor': 3164, '#poorservice': 3165, 'sworn': 3166, 'ass,': 3167, 'opinions': 3168, 'checked': 3169, 'station': 3170, '@RealBD_': 3171, '@ReyesAverie': 3172, '47': 3173, 'unarmed': 3174, 'blacks': 3175, 'cops': 3176, '2015.': 3177, 'Chicago': 3178, 'wheres': 3179, 'Day': 3180, 'wasted': 3181, 'books': 3182, 'that.': 3183, 'Whatt': 3184, 'trailerrrr': 3185, '!!!': 3186, '@karanjohar': 3187, '@AnushkaSharma': 3188, '#RanbirKapoor': 3189, '#AishwaryaRaiBachchan': 3190, 'COMPLETELY': 3191, 'BLOWN': 3192, '#longingformore': 3193, '@FirstBSA': 3194, 'turning': 3195, 'surprised.': 3196, 'Late': 3197, 'again!': 3198, '#lost': 3199, 'Lost': 3200, 'without': 3201, 'Mom': 3202, 'tired,': 3203, '#upset': 3204, '#sick': 3205, '#kids': 3206, 'bare': 3207, 'now?': 3208, '😂😂': 3209, 'ppl': 3210, 'save': 3211, 'chance': 3212, 'dude': 3213, \"won't\": 3214, 'ye': 3215, 'so,': 3216, '#BridgetJonesBaby': 3217, 'funny,': 3218, 'meet': 3219, 'bunch!': 3220, 'Look': 3221, 'machine': 3222, 'sprightly': 3223, 're': 3224, 'depravity': 3225, '@ExpressScripts': 3226, 'shd': 3227, 'b': 3228, 'embrrssd.': 3229, 'jack': 3230, 'bp': 3231, 'meds': 3232, 'twice': 3233, '3-5': 3234, 'days?': 3235, 'express': 3236, '#expressscripts': 3237, 'suffer': 3238, 'ignorance': 3239, 'yourself,': 3240, 'matter': 3241, 'say.': 3242, '#sting': 3243, '&gt;.&lt;': 3244, 'sharing': 3245, 'Better': 3246, 'Than': 3247, '#offended': 3248, 'Patti': 3249, 'stamped': 3250, 'ran': 3251, 'sofa.': 3252, 'plenty': 3253, 'affection...more': 3254, 'usual.': 3255, '@WWE': 3256, 'event': 3257, 'Orton': 3258, 'Saturday': 3259, 'WWE': 3260, 'Network?': 3261, 'be!': 3262, '#wwe': 3263, '@RandyOrton': 3264, '@HeymanHustle': 3265, 'toe': 3266, '@smendler': 3267, 'w/': 3268, 'led': 3269, '@kana_blender': 3270, '@twojacksdetail': 3271, '@bluelivesmtr': 3272, 'Very': 3273, 'officer': 3274, 'shoots': 3275, 'regard.': 3276, 'conscience.': 3277, '#incite': 3278, 'upset': 3279, ':/': 3280, 'grow': 3281, 'ten': 3282, 'physical': 3283, 'strength': 3284, 'size.': 3285, '@haythatjamile8': 3286, 'second': 3287, '😘': 3288, 'huge': 3289, 'school': 3290, 'test': 3291, 'human.': 3292, '#lit': 3293, '#fire': 3294, 'Learning': 3295, 'trust': 3296, 'troubled': 3297, 'peace': 3298, 'weary': 3299, 'soul,': 3300, 'hopelessness': 3301, '#addiction': 3302, 'is!': 3303, 'Id': 3304, 'body': 3305, 'impress': 3306, 'much.': 3307, 'bigger': 3308, 'Recording': 3309, '#FNAF': 3310, 'FaceTime': 3311, 'mum': 3312, 'pitched': 3313, 'scream': 3314, '#suchagirl': 3315, 'wanting': 3316, 'past,': 3317, 'focusing': 3318, 'unknown': 3319, 'future.': 3320, 'cell': 3321, 'hold': 3322, 'To': 3323, 'hearts': 3324, 'families': 3325, 'profile': 3326, 'dollar': 3327, 'can’t': 3328, 'meal': 3329, '#yeg': 3330, 'rock': 3331, 'seasons': 3332, '#NJDevils': 3333, 'damn': 3334, 'better!': 3335, '@CNN': 3336, 'CNN': 3337, 'grief': 3338, 'email': 3339, 'either.': 3340, '#FF': 3341, '🎶': 3342, '@SaraLuvvXXX': 3343, 'Whaaaat?!?': 3344, 'fuck,': 3345, 'level.': 3346, '#conflicted😬': 3347, 'else': 3348, 'darkest': 3349, 'nights': 3350, 'solemn': 3351, 'pre': 3352, 'answers': 3353, 'hilarity': 3354, 'Decide': 3355, 'stop.': 3356, '#free': 3357, '#honest': 3358, '#healthy': 3359, '#living': 3360, 'bottle': 3361, 'on,': 3362, 'winning': 3363, '@LucidHurricane_': 3364, 'wait,': 3365, 'armed': 3366, 'book?': 3367, 'Swear': 3368, 'bf': 3369, 'Half': 3370, 'loud': 3371, 'door,': 3372, 'rape': 3373, 'cases': 3374, 'Edinburgh': 3375, 'crushed': 3376, 'dries': 3377, 'wicked': 3378, '*Sigh*': 3379, '#saddness': 3380, '#afterellen': 3381, '#shitsucks': 3382, 'blame': 3383, 'Natalie!': 3384, 'turned': 3385, 'alliance!': 3386, '#pissed': 3387, 'beside': 3388, 'her,': 3389, 'cheeks': 3390, '—': 3391, 'here!': 3392, 'bet': 3393, 'dat': 3394, 'cant': 3395, 'Canada': 3396, 'working.': 3397, 'gutted,': 3398, 'helping': 3399, 'important.': 3400, 'failure': 3401, 'productive': 3402, '#TerrorStatePak': 3403, 'confirm': 3404, 'student': 3405, 'university': 3406, 'himself.': 3407, 'notice': 3408, 'happens': 3409, 'hate.': 3410, 'favorite': 3411, 'point': 3412, 'winter': 3413, 'rn': 3414, 'something,': 3415, 'go.': 3416, 'back,': 3417, 'will.': 3418, '@EurekaForbes': 3419, 'kidding': 3420, 'Anu': 3421, 'firm': 3422, 'responded': 3423, 'contact': 3424, 'details.': 3425, '#customerexperience': 3426, \"ya'll\": 3427, 'talkin': 3428, 'bout,': 3429, 'shit....chuckin': 3430, 'ma': 3431, 'deuces......🔥🔥': 3432, '#kanye': 3433, '#breezy': 3434, \"life's\": 3435, '#awestruck': 3436, 'annoyed': 3437, 'across': 3438, 'news.': 3439, '@jeremycorbyn': 3440, 'lifetime': 3441, 'per': 3442, 'drowning.': 3443, '#falure': 3444, '#worthless': 3445, 'appearances': 3446, 'games': 3447, 'nearly': 3448, '#crap': 3449, '#Rooney': 3450, 'Africa': 3451, 'unique': 3452, 'problems': 3453, 'war,': 3454, 'hard.': 3455, 'focused': 3456, '@CallofDuty': 3457, 'determine': 3458, 'teams?': 3459, 'Cause': 3460, '80%': 3461, 'shitty': 3462, '#cod': 3463, 'LOVE': 3464, '#fun': 3465, '#relaxationiskey': 3466, '@jpodhoretz': 3467, 'Hate': 3468, 'who,': 3469, 'opportunity': 3470, 'knocks,': 3471, 'complains': 3472, 'noise': 3473, 'sulk.': 3474, 'request': 3475, 'know.': 3476, '#memories': 3477, 'accept': 3478, 'gratefully,': 3479, 'Much': 3480, 'expected': 3481, 'lol.': 3482, \"God's\": 3483, 'proud': 3484, 'Hi!': 3485, 'curious': 3486, '#confident': 3487, 'harder': 3488, '@gurrie_j': 3489, 'Pizza.': 3490, '#freepizza': 3491, 'Murdered': 3492, 'Mother': 3493, '#SpookyTv': 3494, 'Bro': 3495, 'brain': 3496, 'sake': 3497, 'moan': 3498, 'staid': 3499, 'horribly': 3500, 'seemed': 3501, 'Taylor': 3502, 'row.': 3503, 'travel': 3504, '700': 3505, 'miles': 3506, 'leave.': 3507, 'men': 3508, 'themselves': 3509, '🙄': 3510, 'possible': 3511, 'care': 3512, 'move': 3513, '@p4pictures': 3514, 'crashes': 3515, '😱.': 3516, 'people,': 3517, '@JackCurryYES': 3518, 'lucky...bad': 3519, 'pitchers...#WHATEVER...ElKracken': 3520, '#legit': 3521, '#gottawearshades': 3522, '#LetsGoYankees': 3523, '🎧': 3524, '@aradsliff': 3525, 'nj': 3526, 'fact,': 3527, \"'The\": 3528, 'year,': 3529, \"child's\": 3530, 'joyful,': 3531, 'Peace': 3532, 'caught': 3533, 'astounded': 3534, 'respect': 3535, 'towards': 3536, 'bigotry': 3537, 'Pats': 3538, 'awesome.': 3539, 'Belichick': 3540, '...they': 3541, 'are.': 3542, '#revenge.': 3543, 'slightly': 3544, 'reality': 3545, 'comments': 3546, 'section': 3547, 'thumbs': 3548, 'disappointed': 3549, 'campus': 3550, 'messenger': 3551, 'wear': 3552, 'Friday': 3553, 'yourselves': 3554, 'planet': 3555, 'explosion': 3556, '#YouTube': 3557, 'reaction': 3558, 'sulk': 3559, 'good.': 3560, 'truth': 3561, 'public': 3562, 'figuring': 3563, 'nothing.': 3564, '#mean': 3565, '#troubled': 3566, '#vile': 3567, 'Watching': 3568, 'Follows.': 3569, 'freaky': 3570, 'movie.': 3571, '#scary': 3572, 'ball': 3573, 'Sigh.': 3574, 'whenever': 3575, 'someone.': 3576, 'yesterday': 3577, 'driving': 3578, 'there,': 3579, 'hi': 3580, 'left,': 3581, 'affront': 3582, 'Need': 3583, 'outlet': 3584, 'certain': 3585, 'fine,': 3586, 'others.': 3587, '@Rovers': 3588, '30': 3589, 'seconds': 3590, '#venkysout': 3591, 'excuses': 3592, 'both.': 3593, '#regret': 3594, '#LifeCoach': 3595, 'Blake': 3596, 'together,': 3597, 'bless': 3598, 'couple': 3599, \"There's\": 3600, 'darkness': 3601, 'fills': 3602, 'Ah,': 3603, 'Grand': 3604, 'Old': 3605, 'state': 3606, 'loving': 3607, 'Skiving': 3608, '#Freshers2016': 3609, '#nails': 3610, '#sunbeds': 3611, '#gym': 3612, '😉💜👑': 3613, '#priorities': 3614, '#student': 3615, '#studentnurse': 3616, '#pampered': 3617, 'short': 3618, 'assured': 3619, 'eventual': 3620, 'destruction': 3621, 'would,': 3622, 'interests': 3623, 'public,': 3624, \"own.'\": 3625, '#pessimist': 3626, 'wind;': 3627, 'expects': 3628, 'change;': 3629, 'realist': 3630, 'adjusts': 3631, 'Arthur': 3632, '@GrimsToyShow': 3633, 'Matt': 3634, 'shift': 3635, 'hysterical': 3636, 'terrific': 3637, 'Power': 3638, '4.': 3639, 'funeral': 3640, 'mourn': 3641, 'death': 3642, 'binge': 3643, 'sell': 3644, 'Im': 3645, 'ima': 3646, 'Life': 3647, 'hitting': 3648, 'sadly,': 3649, 'factor': 3650, 'jump': 3651, 'economic': 3652, 'English': 3653, 'sparkling': 3654, 'wine': 3655, 'Thanks.': 3656, 'be!!': 3657, 'powerful': 3658, 'retarded': 3659, '10000': 3660, 'retweets': 3661, '2012': 3662, 'challenge': 3663, 'tax': 3664, \"Tonight's\": 3665, '#DragRace': 3666, '#AllStars2': 3667, 'GAVE': 3668, 'LIFE!': 3669, 'Yaassss': 3670, 'queens!': 3671, '#teamalaska': 3672, '#teamkatya': 3673, '#bwahaha': 3674, 'pop': 3675, 'matt': 3676, 'you?': 3677, 'attention': 3678, 'accidentally': 3679, '👀': 3680, 'forest': 3681, 'cunt': 3682, 'mates': 3683, 'shock': 3684, 'majority': 3685, '#awe': 3686, '#gratitude': 3687, 'Hell': 3688, 'hath': 3689, 'bureaucrat': 3690, 'scorned.': 3691, 'Friedman': 3692, '1.5': 3693, 'defending': 3694, 'Schalke': 3695, '#nervouswreck,': 3696, '#pileup.': 3697, '#GoingCrazy': 3698, '#HelpMe': 3699, '#Insane': 3700, '#Antisocial': 3701, 'Editing': 3702, 'bride': 3703, 'speech.': 3704, 'wrap': 3705, 'minutes.': 3706, 'Jorge': 3707, 'deserves': 3708, 'honestly.': 3709, 'weak.': 3710, '#90dayfiance': 3711, 'fly': 3712, 'Finally': 3713, 'finished': 3714, 'Sky': 3715, 'tears': 3716, '#good': 3717, '(your': 3718, 'twins': 3719, '#BB18': 3720, '@Toucherandrich': 3721, 'diver': 3722, 'named': 3723, 'steele': 3724, 'johnson.': 3725, \"i'd\": 3726, 'barred': 3727, 'olympics.': 3728, 'exhilaration': 3729, 'funds.': 3730, 'however,': 3731, 'whats': 3732, 'search': 3733, 'blind': 3734, 'aesthetically': 3735, 'omg': 3736, 'Angelina': 3737, 'Jolie': 3738, 'can.': 3739, 'dead': 3740, 'mourn.': 3741, 'understand.': 3742, '@YouTube': 3743, 'teeth': 3744, '2b': 3745, 'cynicism': 3746, 'YOUR': 3747, 'pardon': 3748, 'despair,': 3749, '@BBCNews': 3750, '😝': 3751, 'anniversary': 3752, 'impact': 3753, ':-(': 3754, 'Our': 3755, 'constitutional': 3756, 'RIGHT': 3757, 'Yet': 3758, 'rights': 3759, 'bar': 3760, '#ahs6': 3761, \"'nope\": 3762, 'nope': 3763, \"now.'\": 3764, \"'MOVE'\": 3765, \"'GTFO'\": 3766, 'Band': 3767, 'members': 3768, 'Contact': 3769, 'Mind': 3770, 'cheerfully,': 3771, '•': 3772, 'Dentist': 3773, \"me'\": 3774, 'numb': 3775, \"it'll\": 3776, 'Pete': 3777, 'Burns!......': 3778, '#pout': 3779, 'himself': 3780, 'asking': 3781, 'spoke': 3782, '@huwellwell': 3783, 'chosen': 3784, 'CLP': 3785, 'members!': 3786, 'MP': 3787, 'seats': 3788, 'dole': 3789, 'mates,': 3790, 'elect': 3791, 'candidates.': 3792, 'please.': 3793, 'clouded': 3794, 'passion.': 3795, 'leads': 3796, 'truth.': 3797, 'rudely': 3798, '#irritated': 3799, 'David': 3800, 'D': 3801, 'longer': 3802, 'glee.': 3803, '#furious': 3804, 'present': 3805, 'severe': 3806, 'happily': 3807, 'rude': 3808, 'girls': 3809, 'attracted': 3810, 'dad!': 3811, '👌': 3812, 'Got': 3813, '$20': 3814, 'drunk': 3815, 'passenger.': 3816, '$25': 3817, 'parking': 3818, 'ticket.': 3819, 'karma': 3820, 'dumb': 3821, 'meter.': 3822, '23': 3823, 'decent': 3824, '@mcdermo11': 3825, '@rogerc32': 3826, 'Laura': 3827, 'constructive': 3828, 'criticism': 3829, 'blocked': 3830, \"'Lazy\": 3831, 'Hope': 3832, \"Retire'\": 3833, 'Heather': 3834, 'Tiger': 3835, 'aggressive': 3836, 'kid.': 3837, 'options': 3838, 'table': 3839, 'coming.': 3840, 'energy': 3841, 'Michael': 3842, 'coward': 3843, '#': 3844, 'accepted': 3845, 'again,': 3846, 'yo': 3847, 'finish!': 3848, 'seek': 3849, 'chasing': 3850, '#Peace': 3851, 'bite': 3852, 'bee': 3853, 'among': 3854, '@TheBadgerBoy': 3855, '@SaintSkipper5': 3856, '@dailyecho': 3857, 'carry': 3858, 'fun': 3859, 'funniest': 3860, 'Thinking': 3861, 'comedy': 3862, 'youtube.': 3863, 'fond': 3864, 'nut': 3865, '#maybeoneday': 3866, '#hopefullyfunny': 3867, '#LOL': 3868, 'Nah': 3869, 'random': 3870, 'After': 3871, 'becoming': 3872, '🤓': 3873, 'important': 3874, '#bestrong': 3875, '#thoughts': 3876, '@xandraaa5': 3877, '@amayaallyn6': 3878, 'shut': 3879, 'hashtags': 3880, '#ContentwiththeLordsPortion:O': 3881, 'satisfy': 3882, '#mercy;that': 3883, '#rejoice': 3884, 'days.#Ps': 3885, '90:14': 3886, '#gladness': 3887, '#joy': 3888, 'actors': 3889, 'perform': 3890, 'Note': 3891, '~': 3892, 'Stop': 3893, 'scares': 3894, 'revenge.': 3895, '@Rosie': 3896, 'terrify': 3897, 'down.': 3898, 'rough': 3899, 'destroy': 3900, 'Flint': 3901, '#emo': 3902, '#scene': 3903, '#die': 3904, '#hatered': 3905, '@buzzlightbeard2': 3906, 'yourself...': 3907, 'Honesty': 3908, 'policy': 3909, 'harm': 3910, 'Twain': 3911, 'mode': 3912, 'too.': 3913, 'Fifa': 3914, '17': 3915, 'yoga': 3916, 'breakfast': 3917, 'routine': 3918, '#preparation': 3919, '#sunriseyoga': 3920, '#bodyawareness': 3921, '#health': 3922, '#yoga': 3923, '#stretch': 3924, '#dire': 3925, 'potato': 3926, 'faced': 3927, 'errrr': 3928, 'infuriating': 3929, '😠😠😠😠😠': 3930, '#mufc': 3931, 'badly': 3932, 'dye': 3933, 'soooo': 3934, 'Philippines': 3935, 'Trust': 3936, 'wallet': 3937, 'Lifeguard': 3938, 'Swimmers': 3939, 'VC': 3940, '@YSJFC': 3941, 'sending': 3942, 'then,': 3943, 'excuse': 3944, 'twice.': 3945, 'Live': 3946, 'deal': 3947, 'Roy': 3948, 'born': 3949, 'nobody': 3950, 'abusive': 3951, 'Bloody': 3952, 'Pam,': 3953, 'carpet,': 3954, '#perilsoflivingalone': 3955, '🤑': 3956, 'apples': 3957, '🤔': 3958, 'happiness.': 3959, 'Anthony': 3960, 'Weiner': 3961, 'Bill': 3962, 'Clinton': 3963, 'prayer': 3964, 'exist': 3965, 'heyday.': 3966, \"haven't\": 3967, '🙄🙄': 3968, '“Set': 3969, 'achieve': 3970, 'big,': 3971, 'excites': 3972, 'time.”': 3973, '\\\\n―': 3974, '@MagicalMunicorn': 3975, 'suggest,': 3976, 'beans,': 3977, 'onions': 3978, 'garlic,': 3979, 'somebody': 3980, 'calls': 3981, 'record': 3982, 'rush': 3983, '@CGasparino': 3984, 'Gas,': 3985, 'u,': 3986, 'rudeness.': 3987, 'DM': 3988, 'quick': 3989, '#listen,': 3990, 'slow': 3991, '#speak,': 3992, '#anger.': 3993, 'thread': 3994, '😁': 3995, 'walking': 3996, '🙈': 3997, '#positive': 3998, '#motivation': 3999, 'training': 4000, 'course,': 4001, 'photos,': 4002, \"Photo's\": 4003, '#Boostercourse': 4004, 'RIP': 4005, 'agree.': 4006, 'start.': 4007, '@BBCPolitics': 4008, '#shudder': 4009, 'alone': 4010, 'above': 4011, '#tax': 4012, 'NEVER': 4013, '#Snowgang': 4014, '♥@Amynicolehill12': 4015, '♥': 4016, '#Princess': 4017, '#bodyposi': 4018, '#haircut': 4019, '#Whitegirlwednesday': 4020, 'Morning': 4021, 'all!': 4022, 'Of': 4023, 'Monday': 4024, 'welcome': 4025, 'downstairs': 4026, 'server': 4027, 'Ralph': 4028, 'Waldo': 4029, 'Emerson': 4030, 'freaking': 4031, 'things.': 4032, 'exposed': 4033, 'provocation': 4034, 'Another': 4035, 'encounter': 4036, 'Tribez': 4037, 'Castlez!': 4038, 'is?': 4039, 'Download': 4040, 'niggas': 4041, 'design': 4042, 'internship': 4043, \"i'm\": 4044, \"how's\": 4045, 'day?': 4046, ':D': 4047, 'Apple': 4048, 'including': 4049, '#grim': 4050, 'recent': 4051, 'suspicion': 4052, 'though.': 4053, 'noticed': 4054, 'become': 4055, 'mode.': 4056, '@HillaryClinton,': 4057, 'tolerance': 4058, 'habitual': 4059, 'liars.': 4060, 'fan': 4061, 'citizen': 4062, 'do?': 4063, '@mdivincenzo9': 4064, 'stupid,': 4065, 'touch': 4066, '🍱sushi': 4067, 'date🍙': 4068, '@AnzalduaG': 4069, '🍝an': 4070, 'olive': 4071, 'guarded': 4072, 'date🧀': 4073, '@lexiereid369': 4074, '👊🏼Rockys': 4075, 'date🍕': 4076, 'brave': 4077, 'else.': 4078, 'prolly': 4079, 'cancelled': 4080, 'allow': 4081, 'outrage': 4082, 'dreadful.': 4083, '#gossip': 4084, '#melancholy': 4085, 'Can': 4086, 'status': 4087, 'id': 4088, 'Cops': 4089, 'FBI': 4090, 'cheerfulness': 4091, 'extremely': 4092, '#ALDUB62ndWeeksary': 4093, 'honor': 4094, 'Shawty': 4095, 'Lo': 4096, 'Dey': 4097, 'Know': 4098, 'sad:': 4099, 'suppose': 4100, '26': 4101, 'ppl.': 4102, 'in.': 4103, 'trusted': 4104, 'days!': 4105, 'alcohol': 4106, 'specific': 4107, 'circumstances': 4108, 'careful': 4109, 'position': 4110, '@JoeShennan': 4111, 'Meanwhile': 4112, '@JoshuaMurrayBM': 4113, '7.40am': 4114, 'train.': 4115, 'really,': 4116, 'hotel,': 4117, 'Shennan.': 4118, '@Joey7Barton': 4119, 'Joey': 4120, 'slagging': 4121, 'England': 4122, \"player's\": 4123, 'crap': 4124, 'tournaments..same': 4125, 'same..crap': 4126, 'Whatever': 4127, 'Everyone': 4128, 'grim.': 4129, 'glows': 4130, 'lighter': 4131, 'Democracy': 4132, '#mentality': 4133, '#mass': 4134, '#hysteria': 4135, '#mongering': 4136, '#oligarchy': 4137, 'code': 4138, '😑': 4139, 'tryna': 4140, 'Marcus': 4141, 'seen.': 4142, 'bastard': 4143, 'Who': 4144, 'add': 4145, '@ErinAndrews': 4146, '❤️you': 4147, 'DWTS': 4148, 'show!': 4149, 'worry.': 4150, '@1NatalieMaines': 4151, 'spray': 4152, 'tan': 4153, 'him?': 4154, '@stephtikkanen': 4155, 'true,': 4156, 'true.': 4157, 'subway': 4158, 'jail': 4159, \"Today's\": 4160, '😭💔': 4161, 'Only': 4162, '@paulzimmer': 4163, 'Nobody': 4164, 'street': 4165, 'Somebody': 4166, 'braved': 4167, 'storm': 4168, 'brewing.': 4169, '#rage.': 4170, 'like,': 4171, 'bias': 4172, 'dating': 4173, 'threats': 4174, 'Like': 4175, 'why?': 4176, 'classes': 4177, 'Projection': 4178, 'perception.': 4179, 'else?': 4180, 'level': 4181, 'bitterness': 4182, 'gifts.': 4183, '\\\\n': 4184, 'quarter': 4185, 'tomorrow.': 4186, '😰': 4187, '#blargh': 4188, 'worst.': 4189, 'Feeling': 4190, 'shaking.': 4191, 'casuals': 4192, 'tweets': 4193, 'Vic': 4194, 'faved': 4195, 'Actually': 4196, 'controls': 4197, '90%': 4198, 'low': 4199, 'lovers': 4200, 'back!': 4201, '#SurvivorMillennialsVsGenX': 4202, '@virginmedia': 4203, 'putting': 4204, 'up!!': 4205, 'celebrate': 4206, 'Jesus': 4207, 'alive': 4208, 'However': 4209, 'foreign': 4210, 'country.': 4211, 'Yeah,': 4212, '#blm': 4213, 'number': 4214, 'prank': 4215, 'pretty.': 4216, 'included': 4217, '@APkrawczynski': 4218, 'Any': 4219, 'possibly': 4220, 'KG': 4221, 'bought': 4222, 'Glen': 4223, 'owner?': 4224, '@antoboyle': 4225, 'someday': 4226, 'play,': 4227, '#vinb': 4228, 'alot': 4229, 'interested': 4230, 'differences': 4231, 'murky': 4232, 'origins': 4233, 'annoying': 4234, 'ringing': 4235, 'will,': 4236, 'learn': 4237, 'nightmare!': 4238, '@kylegriffin1': 4239, 'family.': 4240, 'Dawson': 4241, 'scored': 4242, 'there!!!!!': 4243, 'enjoyed': 4244, 'White': 4245, 'Sox': 4246, 'catching': 4247, 'yield': 4248, 'smackdown': 4249, '@JasonJordanJJ': 4250, '@WWEGable': 4251, 'lose.': 4252, '#sohurt': 4253, 'sweater': 4254, '16': 4255, '#struggles': 4256, \"do.'\": 4257, '~Tim': 4258, 'Ferriss': 4259, '#inspiring': 4260, '#inspired': 4261, '#hustle': 4262, 'Depression': 4263, 'sucks!': 4264, '5:55am.': 4265, 'food.': 4266, '@dburka': 4267, 'worse:': 4268, 'that,': 4269, 'Comic': 4270, 'Sans': 4271, '(or': 4272, 'anywhere': 4273, 'else)': 4274, '#comicsans': 4275, 'l': 4276, '#twitter': 4277, 'life,': 4278, 'THAT': 4279, 'pretending': 4280, 'Muslim': 4281, 'countries': 4282, 'women.': 4283, 'uni': 4284, 'soon!': 4285, '@cassidyyy_0': 4286, 'Nicole': 4287, 'seasons.': 4288, 'that!': 4289, '#yummy': 4290, 'Bake': 4291, 'Off': 4292, 'brought': 4293, 'emotions': 4294, 'everyone.': 4295, 'articles': 4296, 'conversation.': 4297, 'discouraged.': 4298, 'refund': 4299, 'finger': 4300, 'angrily': 4301, 'reveal': 4302, 'lips,': 4303, 'stifled': 4304, 'expression': 4305, 'chance.': 4306, 'elephants': 4307, 'wrestled': 4308, 'pigs.': 4309, '#quoteoftheday': 4310, 'of.': 4311, '#irritation': 4312, 'miserable': 4313, '😭': 4314, 'three': 4315, 'dad': 4316, 'episodes': 4317, 'falling': 4318, '\\\\nSo': 4319, 'mind,': 4320, 'pal?': 4321, '#fraud': 4322, '#misogynist': 4323, '#liar': 4324, '#psychopath': 4325, '#narcissist': 4326, '#revolting': 4327, '#conartist': 4328, 'bum': 4329, 'flight': 4330, 'provided': 4331, '#horrific': 4332, 'maybe,': 4333, \"couldn't\": 4334, 'Yep,': 4335, 'peeps': 4336, 'afraid,': 4337, '#burst': 4338, '#business': 4339, 'response': 4340, 'Heyyyy': 4341, 'warriors!!!!!': 4342, '#panicattacks': 4343, 'snapchat': 4344, 'hoe': 4345, 'sitting': 4346, '@Owlman2011': 4347, '@charitypricey': 4348, '@jon_newsome': 4349, '@PRAWNSANDOWl': 4350, '@smith_alister': 4351, '@MikeConnelly9': 4352, '22000': 4353, 'massif...': 4354, 'delightful': 4355, 'stars': 4356, 'huff.': 4357, '@SomersetCCC': 4358, 'ways,': 4359, \"Who's\": 4360, 'idea': 4361, 'that?!': 4362, 'wished': 4363, 'received': 4364, 'JUST': 4365, 'reply.': 4366, \"who's\": 4367, 'fav': 4368, 'minds': 4369, 'Yesterday': 4370, 'history,': 4371, 'amystery,': 4372, 'gift;': 4373, '#livelife': 4374, '#humbleness': 4375, 'Take': 4376, 'kindness': 4377, 'weakness': 4378, 'silly': 4379, 'forté': 4380, '#ChrisBrown': 4381, '#TeamBreezy': 4382, 'life!': 4383, '*He': 4384, 'expectation': 4385, 'government': 4386, 'fearful': 4387, 'cops.': 4388, 'alive.': 4389, 'combined': 4390, 'Charlotte': 4391, 'reminds': 4392, 'now,': 4393, 'today,': 4394, 'happens.': 4395, '#interview': 4396, '#jobinterview': 4397, 'bounce': 4398, 'refuse': 4399, 'balance': 4400, '@BarclaysUK': 4401, 'Loughborough': 4402, 'is,': 4403, 'favors': 4404, 'worthy': 4405, 'itself.': 4406, 'ground': 4407, 'die.': 4408, 'Modern': 4409, \"'Don't\": 4410, 'intimidate': 4411, 'marriages': 4412, 'grinding': 4413, 'bright': 4414, 'af.': 4415, 'ECT': 4416, 'work.': 4417, 'Men': 4418, 'shadow': 4419, 'former': 4420, '@nytimes': 4421, 'punk': 4422, 'mostly': 4423, 'throwing': 4424, 'kitchen': 4425, 'thrown': 4426, 'm': 4427, 'liked': 4428, '#weary': 4429, 'lame': 4430, 'once.': 4431, 'Islamic': 4432, 'terrorist,': 4433, 'somehow': 4434, 'groups': 4435, 'drop': 4436, 'cheated': 4437, 'bridge': 4438, 'be.': 4439, 'Happiness': 4440, 'choice.': 4441, '--': 4442, 'tries': 4443, 'walk': 4444, 'away.': 4445, '@VectoneMobileUK': 4446, 'professionalism': 4447, 'provider!': 4448, '#phoneprovider': 4449, 'third': 4450, 'kit': 4451, '😡': 4452, 'airport': 4453, 'loved': 4454, 'November': 4455, '@olark': 4456, '@mashable': 4457, '#awesome': 4458, 'migraines': 4459, \"people's\": 4460, 'Has': 4461, 'killing': 4462, \"yet?'\": 4463, 'negative': 4464, 'Such': 4465, 'trigger': 4466, 'finish': 4467, 'reign': 4468, 'over,': 4469, 'burn': 4470, 'out;': 4471, 'alert': 4472, 'Romans': 4473, 'out!': 4474, 'choice': 4475, 'birthdays': 4476, 'hide': 4477, 'advise': 4478, '@KevinCanWaitCBS': 4479, ',or': 4480, '@danawhite': 4481, \"he'll\": 4482, '@Policy_Exchange': 4483, 'point,': 4484, 'queue': 4485, 'loos.': 4486, 'points?': 4487, 'Nope,': 4488, '#sexism': 4489, '@aidankerrpol': 4490, 'involved.': 4491, 'Jesus,': 4492, 'Nice': 4493, '#America': 4494, 'finding': 4495, 'amidst': 4496, 'frustration': 4497, '#fear,': 4498, 'remain': 4499, 'hopeful': 4500, 'separation': 4501, 'suicide': 4502, 'obviously': 4503, '🎉': 4504, 'love.': 4505, '@hannah..mccloud': 4506, 'roblox': 4507, 'termianted': 4508, ':((((((((((((((((((((((((': 4509, '#robloxgamer': 4510, 'youthful': 4511, \"morning.Let's\": 4512, \"smile!\\\\nLet's\": 4513, \"way!\\\\nDon't\": 4514, 'happy!': 4515, 'Idea': 4516, 'automatic': 4517, 'Root': 4518, 'canal': 4519, 'therapy': 4520, 'reputation': 4521, 'past...': 4522, 'technology': 4523, 'comfortable': 4524, 'procedures!': 4525, '#dental': 4526, 'distrust': 4527, 'President': 4528, 'worth': 4529, 'deleted': 4530, 'drinks': 4531, 'animal': 4532, 'hostile': 4533, 'individual': 4534, 'pants.': 4535, \"It'd\": 4536, 'useful': 4537, 'women,': 4538, 're-reading': 4539, 'harassed': 4540, 'subway.': 4541, '@matildaswish': 4542, 'Matilda': 4543, 'chair': 4544, 'provide': 4545, 'access': 4546, 'experiences.': 4547, 'confusion': 4548, 'rules': 4549, '#pride': 4550, 'unto': 4551, '#Pain': 4552, 'aspect': 4553, '#human': 4554, 'evolution;': 4555, 'evolution': 4556, '#consciousness.': 4557, '#attachments': 4558, '#desire': 4559, '#apathy': 4560, '#sentimentality': 4561, '#tears': 4562, '#O': 4563, 'spend': 4564, 'Mel': 4565, 'Sue': 4566, 'Almost': 4567, 'respond': 4568, 'Bitch': 4569, 'telling': 4570, \"'but\": 4571, \"you'\": 4572, '#looting': 4573, 'Fox': 4574, 'truth,': 4575, 'D:': 4576, 'fought': 4577, '20+': 4578, 'whatever': 4579, 'online': 4580, 'Accept': 4581, 'well.': 4582, 'likes': 4583, '#werewolves': 4584, 'force': 4585, 'ef': 4586, 'whichever': 4587, 'butt': 4588, 'pulled': 4589, 'davis': 4590, 'asleep': 4591, '#hangry': 4592, '######': 4593, 'scroll': 4594, 'media,': 4595, '#everyday': 4596, '#KeithLamontScott': 4597, 'Lets': 4598, 'products': 4599, '??': 4600, '@Fly_Norwegian': 4601, '#worst': 4602, '#airline': 4603, '#worstairline': 4604, 'used!': 4605, '#appauling': 4606, '#dismal': 4607, '#beyondajoke': 4608, '#useless': 4609, 'Am': 4610, 'sensors': 4611, 'manages': 4612, 'reverse': 4613, 'things?': 4614, '@USAneedsTRUMP': 4615, 'serious.': 4616, 'religion.': 4617, 'fancy': 4618, 'match': 4619, 'witness': 4620, '#500thTest': 4621, '@BCCI': 4622, 'Boys': 4623, 'Dm': 4624, 'cocks!': 4625, 'uploaded!': 4626, '☺️💦💦': 4627, '#Cumtribute': 4628, '#dm': 4629, '#snapme': 4630, '#dickpic': 4631, '#cocktribute': 4632, 'Rangers': 4633, 'Celtic': 4634, 'll': 4635, 'wishing': 4636, '#smiles': 4637, 'bday': 4638, '#mhchat': 4639, 'experiences': 4640, 'adult': 4641, 'relationships.': 4642, 'memories': 4643, 'Set': 4644, 'enjoyment': 4645, 'exhilarating,': 4646, 'exciting': 4647, 'further': 4648, 'frowning': 4649, 'Police': 4650, 'pigs': 4651, '@Dominos_UK': 4652, 'confimation': 4653, 'hilarity.': 4654, 'struggles': 4655, 'equally': 4656, 'actions': 4657, '@LoriAlan1': 4658, 'Seriously.': 4659, 'Digging': 4660, 'eyebrows.': 4661, 'atm': 4662, 'bt': 4663, 'emotional': 4664, 'tears.': 4665, 'Anger,': 4666, 'resentment,': 4667, 'destroyer': 4668, 'fortune': 4669, 'okay,': 4670, 'grateful.': 4671, '#inspiration': 4672, 'Sounds': 4673, '#justsaying': 4674, 'log': 4675, 'view': 4676, '#saddened': 4677, 'culture.': 4678, 'roommate': 4679, 'turns': 4680, 'avoid': 4681, 'plz': 4682, 'greys': 4683, 'anatomy': 4684, '\\uf602': 4685, '@MSNBC': 4686, '#thoughts.': 4687, 'YouTube': 4688, 'intimidated': 4689, 'ethic': 4690, 'audience': 4691, 'crucial': 4692, 'proper': 4693, 'continues': 4694, 'supposed': 4695, 'lunch,': 4696, 'dinner,': 4697, '#day5': 4698, 'daughter': 4699, 'charming': 4700, 'nail': 4701, 'Kurt': 4702, 'polish': 4703, 'baseball': 4704, '@washingtonpost': 4705, 'baby': 4706, 'created': 4707, 'evil.': 4708, 'strong': 4709, 'strong.': 4710, 'action': 4711, '#silence': 4712, 'sing': 4713, '#giggles': 4714, '@thomeagle': 4715, 'maintain': 4716, 'boost': 4717, 'education,': 4718, 'culture': 4719, 'tolerance.': 4720, 'penny': 4721, 'today!': 4722, 'editing': 4723, 'power': 4724, '#fail': 4725, 'Atlanta': 4726, 'cheap': 4727, '#dreamer': 4728, 'Karev': 4729, 'out!!!': 4730, 'DONE': 4731, '@GreysABC': 4732, '#unfair': 4733, 'blues?': 4734, 'Hopefully': 4735, 'Michelle': 4736, 'bb': 4737, 'history': 4738, 'need.': 4739, '#tomourssuck': 4740, '#prayinsnotcancer': 4741, 'behavior': 4742, 'inner': 4743, \"peace.'\": 4744, '-Dalai': 4745, 'Lama': 4746, '@OWNTV': 4747, '#healing': 4748, '#intuition': 4749, '#meditation': 4750, '#book': 4751, '@thehill': 4752, 'George': 4753, \"Trump's\": 4754, 'son': 4755, 'support,': 4756, 'attempt': 4757, 'levity.': 4758, 'angry.': 4759, '@MariamVeiszadeh': 4760, 'threat': 4761, 'raised': 4762, 'Action': 4763, 'foundational': 4764, 'success': 4765, '~Pablo': 4766, 'Picasso': 4767, '#action': 4768, '#dosomething': 4769, 'wave': 4770, 'is.': 4771, '|': 4772, 'cure': 4773, 'ideas': 4774, 'Red': 4775, 'equivalent': 4776, '#with': 4777, 'openly': 4778, '@TDsNation': 4779, 'videos': 4780, '#goals': 4781, '#ThursdayThoughts': 4782, 'thin': 4783, 'woman.': 4784, 'constant': 4785, 'coffee': 4786, 'artists': 4787, 'love,': 4788, 'Snapchat': 4789, '👻': 4790, 'Carlabtst15': 4791, '@macmacm43': 4792, 'jeezus': 4793, 'returned': 4794, 'raising': 4795, 'eyebrows': 4796, 'witches': 4797, 'chicken': 4798, '@panerabread': 4799, '😑😑😑': 4800, 'goals': 4801, 'won': 4802, 'facing': 4803, 'sexuality': 4804, 'AM': 4805, 'damage': 4806, 'violent': 4807, 'sausage': 4808, 'pasta': 4809, 'bottom': 4810, 'leftover': 4811, 'Worst': 4812, 'steak': 4813, 'speed': 4814, 'Pochettino': 4815, 'players.': 4816, 'James:': 4817, '500k,': 4818, '50k,': 4819, '25k,': 4820, '10k.': 4821, '#shouldofVotedforNicole': 4822, 'Russian': 4823, 'positive': 4824, 'meldonium': 4825, 'North': 4826, 'indignant': 4827, 'shit.': 4828, '#angry.': 4829, 'Dead.': 4830, 'Online': 4831, 'model': 4832, 'appear': 4833, '@IreneEstry': 4834, 'Hun': 4835, '#cuddles': 4836, 'girly': 4837, 'nails': 4838, '@Orioles': 4839, 'nation': 4840, 'empty': 4841, 'TheNiceBot:': 4842, 'place.': 4843, '#TheNiceBot': 4844, 'brother': 4845, 'Shriekfest': 4846, 'lining': 4847, 'VOLUNTEERS!': 4848, 'Oct': 4849, '6-9,': 4850, 'inquiries': 4851, 'please!': 4852, 'shriekfest@aol.com': 4853, 'films!': 4854, 'famous': 4855, 'dex': 4856, 'ourselves': 4857, 'pleasure.': 4858, 'whos': 4859, 'attractive': 4860, 'way,': 4861, 'content': 4862, '@FreeBeacon': 4863, 'ignore': 4864, 'facts': 4865, 'overcome': 4866, 'them,': 4867, 'cheerfulness,': 4868, 'temper': 4869, 'tantrums': 4870, 'speaks': 4871, 'listen.': 4872, '#problem?': 4873, 'Yes!': 4874, '#something': 4875, '#believe': 4876, 'lover,': 4877, '#soup': 4878, 'prayers': 4879, 'strange': 4880, '#lovemysleep': 4881, '@lennyabrahamson': 4882, '#HeroTheGreyhound?': 4883, 'Either': 4884, 'e-book': 4885, 'greyhound': 4886, '@DxfyingGrxvity': 4887, 'chirp': 4888, 'nature': 4889, '#laugh': 4890, '@ittzdevin': 4891, 'accurate': 4892, '#savage': 4893, '#uhoh': 4894, 'offended,': 4895, 'goofy': 4896, '630am': 4897, 'Olympic': 4898, 'House': 4899, '#10golds24': 4900, '#neverquit': 4901, '#dreambig': 4902, '#TeamTTO': 4903, '#going4gold': 4904, 'Niggas': 4905, 'old,': 4906, '#blackish': 4907, '#rollin': 4908, 'strength,': 4909, 'Book': 4910, \"he'd\": 4911, 'kidding.': 4912, 'hot': 4913, 'windows': 4914, 'terrible.': 4915, '90s': 4916, 'Don': 4917, 'sadden': 4918, 'did,': 4919, 'fury,': 4920, '@RogueCoder250': 4921, 'trouble!!': 4922, 'Rev': 4923, 'project.': 4924, '@Ashleyavitia_': 4925, 'forever': 4926, '@ibishotelsuk': 4927, '@ibisHotels_FR': 4928, '@ibishotelbr': 4929, '@ibishotel': 4930, '@ibishotelBDG': 4931, '@ibishotel1': 4932, 'anybody': 4933, '@caseycdutch': 4934, '@m_rath': 4935, 'rioters': 4936, 'butterflies': 4937, '#anxietyproblems': 4938, 'flavored': 4939, 'man,': 4940, 'assume': 4941, 'argument': 4942, 'Xx': 4943, 'buses': 4944, 'ticket': 4945, 'unable': 4946, 'semi': 4947, 'days.': 4948, '@paulkrugman': 4949, 'Bin': 4950, 'Try': 4951, 'faux': 4952, 'outrage.': 4953, 'admire': 4954, 'Putin': 4955, 'wtf': 4956, 'clean': 4957, 'lit': 4958, 'disconnected': 4959, 'whilst': 4960, '1st': 4961, 'October': 4962, '#intimidated': 4963, '@eugenelaverty': 4964, '@WorldSBK': 4965, 'Moto': 4966, 'GP': 4967, 'loosing': 4968, 'talented': 4969, 'rider': 4970, 'fail...': 4971, 'goin': 4972, '90': 4973, 'stadium': 4974, 'old.': 4975, 'supports': 4976, 'tweeted': 4977, 'righteous': 4978, 'indignation.': 4979, '@savageimiike': 4980, 'songs': 4981, 'talk.': 4982, '@HoustonTexans': 4983, '#losers': 4984, 'prevail': 4985, 'election': 4986, 'Hitler': 4987, 'elected': 4988, 'wholly': 4989, \"'reasonable'\": 4990, 'society.': 4991, '#terrorist': 4992, 'Use': 4993, 'world.': 4994, '#actorslife': 4995, 'Dear': 4996, '@ShivAroor': 4997, 'ruins': 4998, '@grahnort': 4999, 'at.': 5000, '@BBCLetItShine': 5001, 'thankyou': 5002, 'Colors': 5003, 'horror,': 5004, 'cheery,': 5005, 'ALL': 5006, 'cheery!': 5007, 'Internet': 5008, '@1barkcom': 5009, '#follow.': 5010, 'entertaining!': 5011, '@thebrandonrobert': 5012, 'Worry': 5013, 'promise.': 5014, '#problem': 5015, '#God': 5016, '#theanswer': 5017, '#spiritu...': 5018, 'designed': 5019, 'spending': 5020, 'offered': 5021, 'weekend?': 5022, 'Was': 5023, 'statement': 5024, '🙄😂': 5025, 'cab': 5026, 'emotion,': 5027, 'control': 5028, 'job,': 5029, '#career': 5030, 'booked': 5031, 'on?': 5032, 'begins': 5033, 'holiday!': 5034, 'possess': 5035, 'source': 5036, 'f': 5037, 'Changing': 5038, 'kept': 5039, 'prime': 5040, '#CGI2016': 5041, 'beauty': 5042, 'These': 5043, 'jerseys': 5044, 'days,': 5045, '#TerenceCrutcher': 5046, 'Danish': 5047, 'boots': 5048, 'Tell': 5049, 'feel.': 5050, '@wabermes': 5051, '@RavalliRepublic': 5052, 'reporter': 5053, 'quit.': 5054, 'Seeing': 5055, ':o': 5056, 'this!': 5057, 'Laughing': 5058, 'works': 5059, 'too!': 5060, '#katherinemansfield': 5061, '#failure': 5062, '#dealingwithfailure': 5063, 'Baluchistan': 5064, 'teacher': 5065, 'said,': 5066, 'walked': 5067, '😂😭': 5068, '@Daniel_Sankey': 5069, '@hayleyp79': 5070, 'Haha....': 5071, 'Actually,': 5072, 'Doggies': 5073, 'barracking': 5074, 'GWS!': 5075, 'Loved': 5076, 'points': 5077, 'flag': 5078, 'lead': 5079, 'td': 5080, 'da': 5081, 'talent': 5082, 'selling': 5083, 'tickets': 5084, 'unbelievably': 5085, 'loose': 5086, \"'cause\": 5087, 'sting.': 5088, 'again:': 5089, 'God!': 5090, '#archippusawakening': 5091, '#entirelybyhisgrace': 5092, 'there.': 5093, 'shop': 5094, 'everywhere': 5095, 'cheerfully.': 5096, 'pool.': 5097, 'Army': 5098, 'follows': 5099, 'Watched': 5100, 'So?': 5101, 'feed': 5102, 'irritation': 5103, 'gift': 5104, 'gods': 5105, 'all,': 5106, 'Texans': 5107, 'Bad': 5108, 'calling,': 5109, 'protection': 5110, 'ball,': 5111, 'coaching,': 5112, 'defense,': 5113, 'overall': 5114, 'performance.': 5115, '#Texans': 5116, 'surely': 5117, '@Mediaite': 5118, 'Childish': 5119, 'HAPPY': 5120, 'BIRTHDAY': 5121, '@troyesivan': 5122, '@Nick_Offerman': 5123, '@canada4trumpnow': 5124, '@donlemon': 5125, 'BAD': 5126, 'TEMPERAMENT': 5127, '#HissyFits': 5128, 'morning!': 5129, '#snap.': 5130, 'drove': 5131, 'better.': 5132, \"How'd\": 5133, 'lucky': 5134, '#lucky': 5135, 'light': 5136, 'mirth.': 5137, \"where's\": 5138, 'corrupt': 5139, 'Wont': 5140, '@mothercareuk': 5141, '@Mothercarehelp': 5142, 'again!!': 5143, 'right!!': 5144, 'heart.': 5145, '@GameGrumps': 5146, 'sexually': 5147, 'Lingys': 5148, 'Pretty': 5149, '#pretendinghesok': 5150, '#ruok': 5151, '#AFLCatsSwans': 5152, 'KEEP': 5153, 'GET': 5154, 'UR': 5155, 'interviewed': 5156, 'havent': 5157, 'Could': 5158, 'happier!!': 5159, 'passed': 5160, 'ths': 5161, 's': 5162, 'bodies': 5163, 'bubble': 5164, 'tape': 5165, '@berniedole': 5166, 'Rohan': 5167, 'BTS': 5168, '50': 5169, 'discouraged,': 5170, '#2': 5171, '💕': 5172, 'wasp': 5173, 'buzzing': 5174, 'window.': 5175, '#buzz': 5176, '#murky': 5177, 'died,': 5178, 'appreciate': 5179, 'Stevie': 5180, 'gay': 5181, 'whose': 5182, 'expressed': 5183, 'mighty': 5184, 'King': 5185, 'Black': 5186, 'paint': 5187, 'challenges': 5188, 'ole': 5189, 'dis': 5190, 'sticking': 5191, 'Left': 5192, 'Mcds': 5193, '@PanicAtTheDisco': 5194, 'hey,': 5195, 'announced': 5196, 'immediately': 5197, 'asked.': 5198, 'Nice.': 5199, 'ought': 5200, 'greatest': 5201, 'push': 5202, 'goals.': 5203, 'fear,': 5204, 'stock': 5205, 'visit': 5206, 'happened.': 5207, 'smoke.': 5208, 'Research': 5209, 'determined': 5210, '70%': 5211, 'Been': 5212, 'laughing.': 5213, 'Let': 5214, '#MrRobot': 5215, 'Last': 5216, 'Dr.': 5217, 'Wake': 5218, 'needed': 5219, 'sit': 5220, 'minuscule': 5221, 'ruin': 5222, 'somebodies': 5223, 'federal': 5224, 'prison': 5225, 'they?': 5226, 'Things': 5227, 'dire': 5228, 'win.': 5229, 'changed': 5230, 'trip': 5231, 'ha': 5232, 'freshers': 5233, 'there....': 5234, 'hello?': 5235, 'jokes.': 5236, 'irrelevant.': 5237, 'joke.': 5238, '#manutd': 5239, '#ticketing': 5240, '#noloyalty': 5241, '#joke': 5242, '#notimpressed': 5243, '@ChrisWarcraft': 5244, 'concept': 5245, 'they’re': 5246, 'upside': 5247, '@TeaPainUSA': 5248, 'threat.': 5249, 'lord': 5250, 'plays': 5251, 'education': 5252, 'False': 5253, 'stopped': 5254, 'load': 5255, '@priny_baby': 5256, 'happppy': 5257, 'happppyyyyyy': 5258, 'happppppyyyyy': 5259, 'haaapppyyyy': 5260, 'friend!!': 5261, '💖💖💖💖💖💖💖🎉🎊': 5262, '#chapter22': 5263, '#bdaygirl': 5264, 'math': 5265, 'professor': 5266, '@jk_rowling': 5267, 'Donald': 5268, 'blast': 5269, 'testimonies': 5270, 'Pastor': 5271, \"Jeremy's\": 5272, '#fellowship': 5273, '#praise': 5274, '#gospel': 5275, '#coffey1617': 5276, '@BluesfestByron': 5277, 'artist': 5278, 'announcement': 5279, '#bluesfest2017': 5280, '#Music': 5281, '#byronbay': 5282, '@groovydadad': 5283, 'sadness,': 5284, 'different.': 5285, 'q': 5286, '#writer': 5287, '#AI': 5288, '#tech': 5289, 'Congress': 5290, 'arrest': 5291, 'THIS': 5292, 'BOOK': 5293, 'IS': 5294, 'FRICKING': 5295, 'INSANE': 5296, 'LIKE': 5297, 'HOLY': 5298, 'CRAP.': 5299, '#annoyed': 5300, '#baby': 5301, '@TheOneSoleShoe': 5302, 'values': 5303, 'generation': 5304, 'yay': 5305, 'also,': 5306, 'toilet': 5307, 'complained': 5308, 'mercy': 5309, 'suggest': 5310, 'James': 5311, 'unlikely': 5312, '@DRUDGE_REPORT': 5313, 'switched': 5314, 'Wednesday': 5315, 'Using': 5316, 'multiple': 5317, 'combs': 5318, 'simultaneously': 5319, 'impressive': 5320, ';-O': 5321, '#ohsnap': 5322, '#daaamn': 5323, 'loss': 5324, 'for.': 5325, '@Bell': 5326, 'customer.': 5327, '#secreteyes': 5328, 'Especially': 5329, 'president.': 5330, 'sauce': 5331, 'saying.': 5332, 'ref': 5333, '#customerservice': 5334, '#dreadful': 5335, '#coding': 5336, 'network': 5337, 'manager': 5338, '#unity3d': 5339, 'based': 5340, '#steamworks': 5341, 'networking.': 5342, '#gamedev': 5343, '#indiedev': 5344, '#3amDeadTime': 5345, '#game': 5346, '#treason': 5347, 'humanity': 5348, 'blush': 5349, 'would.': 5350, 'center': 5351, 'Memphis,': 5352, 'Tasers': 5353, 'immobilize,': 5354, 'taser': 5355, 'later?!': 5356, 'sick!': 5357, '#wtf': 5358, '#murder': 5359, '@British_Airways': 5360, 'Aberdeen': 5361, 'st': 5362, 'Johnstone,': 5363, 'punt': 5364, 'furthest': 5365, 'chocolate': 5366, 'arrived': 5367, 'realise': 5368, 'laptop': 5369, 'bed.': 5370, '@620wtmj': 5371, 'sign': 5372, '#gaming': 5373, 'guts': 5374, 'nerves': 5375, \"This'll\": 5376, 'journey': 5377, \"'anniversary\": 5378, \"1607'\": 5379, 'Complete': 5380, 'damper': 5381, '@politicususa': 5382, 'anxious': 5383, '#fearful': 5384, '😅': 5385, 'terrible,': 5386, 'ending': 5387, 'Thoroughly': 5388, 'enjoying': 5389, 'AHS': 5390, '#ahs': 5391, '#americanhorrorstory': 5392, 'community': 5393, 'Peter': 5394, 'Drop': 5395, 'names': 5396, '#bored': 5397, '#swap': 5398, '#pics': 5399, 'duvet': 5400, '☃️❄️🌬☔️': 5401, 'park': 5402, 'nights!': 5403, 'economy': 5404, '@samsteinhp': 5405, 'presses,': 5406, 'said/proposed': 5407, 'racist.': 5408, 'universal': 5409, 'Taking': 5410, 'incredible': 5411, 'grim,': 5412, 'acrylic': 5413, 'coughing': 5414, 'ab': 5415, 'workout.': 5416, 'abs': 5417, 'defined': 5418, '😂😅': 5419, 'realistic': 5420, 'clown': 5421, 'BIG': 5422, 'MOMENT:\\\\nIf': 5423, \"natural!!!'-@PRINCESSTAYE\": 5424, '#suicide': 5425, '#racism': 5426, 'correct': 5427, 'Ha!': 5428, '#Friday': 5429, 'chuckle': 5430, 'rejoice.': 5431, 'change,': 5432, 'etc': 5433, 'Italy': 5434, 'ad': 5435, 'Point': 5436, 'extra': 5437, 'crisp': 5438, 'intimate': 5439, '4:18': 5440, 'dog,': 5441, 'album': 5442, 'Full': 5443, 'albums': 5444, 'underrated': 5445, 'Ibiza': 5446, 'scene': 5447, '#day': 5448, 'age': 5449, 'say,': 5450, 'Part': 5451, 'NOT': 5452, 'IT': 5453, 'UK': 5454, 'situations': 5455, 'younger': 5456, 'engaged': 5457, 'bored': 5458, 'ridiculously': 5459, '@knology': 5460, 'providing': 5461, 'w/equipment': 5462, 'deliver': 5463, 'speeds': 5464, 'charging.': 5465, '#scam': 5466, 'essay': 5467, '#death': 5468, 'Like,': 5469, 'Inner': 5470, 'odds': 5471, 'ourselves.': 5472, 'Honor': 5473, 'priorities.': 5474, '#innerconflict': 5475, '#conflict': 5476, '#values': 5477, 'placed': 5478, 'grand': 5479, 'camp': 5480, 'purely': 5481, 'normally': 5482, 'fab': 5483, 'guys,': 5484, 'dejected.': 5485, 'Something': 5486, 'right..': 5487, '#dull': 5488, '@LGCanada': 5489, 'promise!': 5490, '#CustomerService': 5491, 'to.': 5492, 'wise': 5493, 'Heading': 5494, 'cut': 5495, 'grass': 5496, 'heat.': 5497, 'air': 5498, 'conditioned.': 5499, '#AdultingIsTheWorst': 5500, 'came': 5501, \"boy'\": 5502, 'jokes': 5503, '@CBSBigBrother': 5504, 'Meech': 5505, 'Bridgette.': 5506, 'Crying': 5507, 'Ugh,': 5508, '#Snapchat': 5509, 'belly': 5510, '@bradshawjp': 5511, 'Sweet!': 5512, 'Jaime': 5513, 'Garcia': 5514, 'outing.': 5515, 'merriment': 5516, 'pack': 5517, 'chilly': 5518, 'mountain': 5519, '#bitter.': 5520, '#free.': 5521, 'require': 5522, 'advances': 5523, 'achievements': 5524, 'individual.': 5525, '~Charles': 5526, 'Towne\\\\n': 5527, 'closed': 5528, 'happening': 5529, 'Wtf': 5530, '#POTUS': 5531, 'information': 5532, '😥😥': 5533, 'doctors': 5534, 'appointment': 5535, '@OniLink86': 5536, '@DarekMeridian': 5537, 'awe...': 5538, '@AdoreDelano': 5539, 'there...': 5540, 'VIP': 5541, 'TICKETS!': 5542, 'before!': 5543, 'heavy': 5544, 'given': 5545, '@WestHamUtd': 5546, 'impossible': 5547, 'error': 5548, 'scowl': 5549, '#joyful': 5550, 'poll': 5551, 'Sunday': 5552, 'Paranormal': 5553, 'Activity:': 5554, 'Ghost': 5555, 'Dimension.': 5556, 'options.': 5557, 'energy.': 5558, 'Manchester': 5559, 'legs': 5560, 'hurt.': 5561, '#running': 5562, '#5kin26mins': 5563, '#flatfeet': 5564, 'mother': 5565, '@_MariaPetrova': 5566, \"'smiled'.\": 5567, 'rude=not': 5568, 'funny.It': 5569, '#stoppickingonwomen': 5570, 'Back': 5571, 'despondent': 5572, 'BEEN': 5573, 'Losing': 5574, 'whoever': 5575, 'dropped': 5576, 'post,': 5577, '#Brendonati': 5578, 'offense,': 5579, 'BLUES': 5580, 'friend,': 5581, '#devastated': 5582, 'rt': 5583, '2k': 5584, '😭😭': 5585, 'Anniversary': 5586, 'advice': 5587, 'rut!!!!': 5588, '#needmotivation': 5589, 'tend': 5590, 'pessimism,': 5591, 'Civil': 5592, 'chances': 5593, 'crossed': 5594, 'stretch': 5595, 'handle': 5596, 'Had': 5597, 'Skywalkers': 5598, '7-8': 5599, 'Hillsboro': 5600, 'us!': 5601, '#opengym': 5602, '#tumbling': 5603, 'Perhaps': 5604, 'sink,': 5605, 'twenty': 5606, '@FoxNews': 5607, 'protests': 5608, 'rate': 5609, '@CNNPolitics': 5610, 'brilliant': 5611, 'Hawking...': 5612, 'rich...': 5613, 'poorest': 5614, 'taste!': 5615, 'Rooney.': 5616, 'cold,': 5617, 'Nor': 5618, 'scorned': 5619, 'spent,': 5620, 'remains.': 5621, '2016,': 5622, 'STILL': 5623, 'recognized': 5624, 'beings.': 5625, '#cantsleep': 5626, '@F1abraham': 5627, 'holy': 5628, 'shit...what': 5629, 'lips!!': 5630, 'shit!': 5631, '#mtv': 5632, '#teenmom': 5633, '💔': 5634, 'forth': 5635, '@JaredWyand': 5636, 'transgender': 5637, 'along': 5638, 'playful.': 5639, 'savvy😝': 5640, 'Facebook': 5641, 'Help': 5642, 'gain': 5643, '#blog': 5644, '#selfhelp': 5645, 'wrapped': 5646, 'Bon': 5647, 'Food': 5648, '😍🙌🏻': 5649, '#Obama': 5650, 'destroyed': 5651, '#CharlotteProtest': 5652, 'acts': 5653, 'treated': 5654, 'advantage': 5655, 'Caballero': 5656, 'clowns': 5657, 'right.': 5658, 'ignorant': 5659, '#c$%t': 5660, 'produces': 5661, 'protect': 5662, 'Stay': 5663, 'fun.': 5664, 'sad,': 5665, 'apparently': 5666, 'supported': 5667, '@mark_slifer': 5668, 'donation': 5669, 'saved': 5670, 'lives??': 5671, 'elated.': 5672, 'shall': 5673, 'president': 5674, 'author,': 5675, '@StephenKing': 5676, '#author': 5677, '@rohan_connolly': 5678, 'high-profile': 5679, 'female': 5680, 'colleague': 5681, 'yhat': 5682, 'category...': 5683, '#massexodus': 5684, '@RiveraJose39': 5685, 'seed‼️‼️‼️': 5686, '#renewtherivalry': 5687, '#imyourdaddy': 5688, '#cantbeatme': 5689, '#tater': 5690, 'irony': 5691, '@Rocks_n_Ropes': 5692, 'cashier': 5693, 'returning': 5694, 'item!': 5695, 'slacking.': 5696, 'doom': 5697, '@JuliaHB1': 5698, 'god,': 5699, 'fake': 5700, \"it'd\": 5701, 'sixth': 5702, 'help.': 5703, 'touch.': 5704, 'endless': 5705, 'first,': 5706, 'frightened': 5707, 'Gordon': 5708, 'IN': 5709, '#creepy': 5710, '@DrJillStein': 5711, 'conversion': 5712, 'fellow': 5713, 'passenger': 5714, '#melbourne': 5715, '@metrotrains': 5716, '#astounded': 5717, '#youwouldntreadaboutit': 5718, 'smart': 5719, 'meter': 5720, 'company,': 5721, 'daft': 5722, 'bills,': 5723, 'visits': 5724, 'Gas': 5725, '#stressed': 5726, 'blah': 5727, 'again....': 5728, '@__.mila.__': 5729, 'global': 5730, '♪OLD': 5731, 'FISH': 5732, 'beef': 5733, 'mother.': 5734, '@katrinalaw': 5735, '#Twitter': 5736, 'Turns': 5737, 'jerk.': 5738, '#NyssaAlghul': 5739, '@Budget': 5740, 'rental': 5741, '@nationalcares!!!!': 5742, 'anyway,': 5743, 'levity,': 5744, 'opinion': 5745, 'dear,': 5746, 'hang': 5747, 'Already': 5748, 'plotting': 5749, 'steps': 5750, 'minivan': 5751, \"tomorrow's\": 5752, 'drop-off': 5753, 'line.': 5754, '#preschoolpolitics': 5755, '#momthings': 5756, 'cow': 5757, 'ended': 5758, 'sandwich': 5759, \"you'd\": 5760, 'self.': 5761, 'agree': 5762, 'tinder': 5763, '🤣': 5764, 'with,': 5765, 'ignored': 5766, 'great.': 5767, 'Excited': 5768, 'Tuesday': 5769, 'clean.': 5770, 'mission': 5771, 'talked': 5772, 'auto': 5773, 'EA': 5774, 'Team': 5775, 'support.': 5776, 'off.': 5777, 'wing': 5778, 'tears,': 5779, 'Knowing': 5780, 'magpies': 5781, 'swooped': 5782, '#nuclear': 5783, '#missiles.\\\\n\\\\n#IndianArmy': 5784, 'heads': 5785, 'melted,': 5786, '#dream': 5787, '#bliss': 5788, 'yourself.': 5789, '@jaredhorgan': 5790, '@douglas_nat': 5791, '@one11north': 5792, 'French': 5793, 'plaits': 5794, 'morn': 5795, 'stroppy': 5796, 'old!': 5797, 'night!': 5798, '@NBCNews': 5799, 'Making': 5800, 'buddy': 5801, 'heaviness': 5802, 'Lots': 5803, '@kayleighmcenany': 5804, '@DonaldJTrumpJr': 5805, 'haunting': 5806, '#Talking': 5807, '#Problems': 5808, '#Addiction#Break': 5809, '#habitTalk': 5810, '#Joys#quote': 5811, 'Multitasking': 5812, 'induce': 5813, 'seeds': 5814, 'endorsing': 5815, 'criticize': 5816, 'w/o': 5817, 'hesitation': 5818, 'untill': 5819, '#cutealert': 5820, 'envy': 5821, 'ice,': 5822, 'warmth': 5823, 'melts': 5824, '#TaylorLautner': 5825, '#Twilight': 5826, 'events': 5827, \"we've\": 5828, 'snap/kik': 5829, 'hiya2247': 5830, '#kik': 5831, '#horny': 5832, '#porn': 5833, '#naked': 5834, '#young': 5835, 'choose': 5836, 'stars.': 5837, 'ever,': 5838, '➡': 5839, 'cheddar': 5840, 'around!': 5841, '☺': 5842, 'fails': 5843, 'planned': 5844, 'freedom': 5845, '#WeirdWednesday': 5846, 'OKAY!': 5847, 'jump-scared': 5848, '#Poop': 5849, 'BAD!': 5850, 'Total': 5851, 'code-brown': 5852, '#Damnit': 5853, 'several': 5854, '#fall': 5855, '#asleep': 5856, 'class,': 5857, '#True': 5858, '#whileyouweresleeping': 5859, '#TeamFollowBack': 5860, '#RockTheReTweet': 5861, '#smartassfamily': 5862, 'idiot': 5863, '#philosophy': 5864, '#thoughtsbecomethings': 5865, '#news': 5866, '#lifehacks': 5867, '#you': 5868, '#LIFE': 5869, '#PleaseRT': 5870, '#ProblemSolving': 5871, 'Stupid': 5872, 'off...busted': 5873, 'ass...and': 5874, 'coworker': 5875, 'tips...thnx': 5876, '#thatsmyluck': 5877, 'richness': 5878, 'Florida': 5879, 'teach': 5880, 'protest': 5881, 'shootings.': 5882, 'next?': 5883, 'Smh.': 5884, '#whenwillitstop': 5885, '#howmanymoretimes': 5886, 'disappointed.': 5887, 'not.': 5888, '@GaryDelaney': 5889, 'Burslem.': 5890, 'AMAZING!!': 5891, 'Face': 5892, 'quit': 5893, 'glee!': 5894, 'top,': 5895, 'annoy': 5896, 'Goddamn': 5897, 'headache.': 5898, 'border': 5899, \"you?'\": 5900, 'testing': 5901, 'speak': 5902, 'Anger': 5903, 'general,': 5904, '#police,': 5905, 'WORST,': 5906, 'indefensible': 5907, 'merriment.': 5908, 'Tomorrow': 5909, '😳': 5910, '#pizza.': 5911, 'Work': 5912, '@LoveIsland': 5913, 'Angel': 5914, 'villa': 5915, '#twd': 5916, 'isnt': 5917, 'member': 5918, 'covered': 5919, 'shiver': 5920, 'disgusted': 5921, 'presidential': 5922, 'voting': 5923, 'Plus': 5924, '#crazy': 5925, '#hatred': 5926, 'trouble': 5927, '#nuclearcodes': 5928, 'Hi': 5929, '#follow': 5930, 'thru': 5931, '😜': 5932, 'See,': 5933, '#boxing': 5934, 'America': 5935, 'Yeah': 5936, 'award': 5937, 'bust': 5938, 'Sept': 5939, 'night?': 5940, '@ASFCofficial': 5941, 'struggle': 5942, 'year.': 5943, 'moments': 5944, 'sedate': 5945, 'myself,': 5946, '😍😍😍': 5947, 'crazy': 5948, 'tastings': 5949, 'Whisky': 5950, 'Shop': 5951, 'Dufftown': 5952, 'Autumn': 5953, 'festival!': 5954, '#murraymcdavid': 5955, '#whisky': 5956, '#drams': 5957, 'Flight': 5958, 'gud': 5959, '#premiere': 5960, '#LethalWeapon...#funny': 5961, 'Reflection:': 5962, 'grind': 5963, 'REAL!': 5964, 'Working': 5965, 'jobs': 5966, '#ksudsm': 5967, '#ksu': 5968, '#recruiter': 5969, '#instructor': 5970, '#tumble': 5971, '#gradschool': 5972, 'older': 5973, 'aware': 5974, 'life?': 5975, '#depression.': 5976, 'office': 5977, '#TMS': 5978, 'treatment': 5979, '@Justin_Gau': 5980, '@JamesMelville': 5981, 'certainly': 5982, 'multitude.': 5983, '#ghastly': 5984, '/': 5985, 'FF': 5986, 'deal.': 5987, '@B4caferacer': 5988, 'clouds': 5989, '#independent': 5990, 'quad': 5991, 'running': 5992, 'muppet.': 5993, '@jRwild1': 5994, '#stalker.': 5995, '@JoshNoneYaBiz': 5996, 'parody': 5997, 'accounts!': 5998, 'Vote': 5999, '#Trump.': 6000, 'pass': 6001, 'pussy': 6002, '@evanhufferd': 6003, '@coltonflurry': 6004, '@StrangeFacesLA': 6005, 'CBS': 6006, 'feeds': 6007, 'JC': 6008, 'AFP.': 6009, 'Paul.should': 6010, 'IMO': 6011, 'unfulfilled': 6012, 'juror': 6013, 'ever?': 6014, 'Michelle.': 6015, \"Nicole's\": 6016, '@SenatorReid': 6017, '@DanEggenWPost': 6018, 'orange!': 6019, 'horrible!': 6020, 'face?': 6021, 'exhilaration:': 6022, '30%': 6023, 'so...': 6024, 'Right': 6025, 'Etep': 6026, 'drug': 6027, 'Marcos': 6028, 'laughter,': 6029, 'mate,': 6030, 'smile,': 6031, 'laugh,': 6032, 'S.': 6033, '#entrepreneur': 6034, 'mine.': 6035, 'happier': 6036, 'managing': 6037, '#TNF': 6038, 'hours.': 6039, 'Zero': 6040, '@ups': 6041, 'pushing': 6042, 'buck': 6043, 'promising': 6044, 'callbacks': 6045, 'happen.': 6046, '#loathing': 6047, 'uniform': 6048, 'grieve.': 6049, 'Jeans': 6050, 'pockets': 6051, 'decisions': 6052, 'swim': 6053, '#playful': 6054, '😉': 6055, 'happening.': 6056, 'concern.': 6057, 'best.': 6058, 'Apparently': 6059, 'silent': 6060, 'anger.': 6061, 'press': 6062, 'fully': 6063, '#awareness': 6064, '@mrgummyking': 6065, 'memes': 6066, 'power.': 6067, 'rise': 6068, 'desire': 6069, 'guys!': 6070, 'T_T': 6071, '#iPhone7': 6072, '#coffee': 6073, 'that?': 6074, 'manga': 6075, 'melancholy': 6076, 'though..': 6077, 'cuddles': 6078, 'Muslims': 6079, '@60DaysInJail': 6080, 'Dafron': 6081, 'loser': 6082, 'planet!!!': 6083, '#lifer': 6084, 'OUT': 6085, '#PeopleLikeMeBecause': 6086, 'exterior,': 6087, 'inside.': 6088, '#anxietyprobz': 6089, '#CNN': 6090, 'ashamed': 6091, 'followers.': 6092, 'irrelevant': 6093, '#harvest16': 6094, 'chopper': 6095, 'closer': 6096, '@mountaindairy': 6097, '#farm365': 6098, '@driverminnie': 6099, 'dejected': 6100, 'dancing': 6101, '#gloomy': 6102, 'Sarah': 6103, 'grateful': 6104, 'overseas..DO': 6105, 'EVER': 6106, 'USE': 6107, '@FastLaneInt': 6108, 'woods': 6109, 'parked': 6110, \"Isn't\": 6111, 'long?': 6112, 'note': 6113, 'liar': 6114, 'pits': 6115, '@SkyUK': 6116, 'fb': 6117, 'sorted': 6118, 'Onus': 6119, 'types': 6120, 'terror:': 6121, '#MEA': 6122, '#fury': 6123, 'LMAO': 6124, '/:': 6125, 'hurts,': 6126, '#silly': 6127, '#family': 6128, '#friends': 6129, 'produced': 6130, 'frowning.': 6131, 'blessing': 6132, 'Make': 6133, 'regardless': 6134, 'local': 6135, '32': 6136, '#scare': 6137, '@DSDambuster': 6138, '#homefronttherevolution,': 6139, 'gameplay???': 6140, '#wasteofmoney': 6141, 'Big': 6142, 'trashy': 6143, 'modicum': 6144, 'build': 6145, 'article.': 6146, 'indignation': 6147, '@CapehartJ': 6148, 'agree!': 6149, 'polls': 6150, 'challenge,': 6151, 'STRANGERS': 6152, '😁and': 6153, 'vile': 6154, 'scum': 6155, \"'if\": 6156, 'concerned': 6157, 'privacy': 6158, \"home.'\": 6159, 'hilarious.': 6160, 'long,': 6161, 'dentist': 6162, 'hating': 6163, 'great,': 6164, '😄': 6165, 'rabid': 6166, 'Wow.': 6167, 'living,': 6168, 'optimist,': 6169, 'foolish': 6170, \"come'\": 6171, 'Ustinov': 6172, 'it..': 6173, '#LMFAO': 6174, '#racepimp': 6175, 'Tamron': 6176, 'Hall': 6177, \"'fscts'\": 6178, \"'MSNBC'\": 6179, '#libtard': 6180, '#biasedmedia': 6181, '#neverHillary': 6182, 'unattractive': 6183, 'pro': 6184, '#writing': 6185, 'you’ve': 6186, 'fear.': 6187, '–George': 6188, 'Addair': 6189, '#yourpushfactor': 6190, 'lads': 6191, 'anime': 6192, 'direct': 6193, 'wind': 6194, 'financial': 6195, 'racism': 6196, 'overnight.': 6197, 'Drake': 6198, 'Selasi': 6199, 'worthless': 6200, 'Recommended': 6201, 'reading:': 6202, 'Prisoners': 6203, 'Aaron': 6204, 'Beck': 6205, 'out,': 6206, 'Ive': 6207, 'crap.': 6208, 'gon': 6209, 'lie': 6210, 'Mint': 6211, 'outfit': 6212, '😩😩🙈': 6213, 'foaming': 6214, 'hips': 6215, 'lyrics': 6216, 'north': 6217, 'ohio': 6218, 'Overwhelming': 6219, 'pass.': 6220, '#lonley': 6221, '#startingover': 6222, 'varsity': 6223, 'riding': 6224, 'Wait': 6225, 'morning.': 6226, 'hard.,': 6227, 'stupid': 6228, '#sadderness': 6229, '#moreofsad': 6230, '#howdoestears': 6231, '#whatislife': 6232, '😊😊': 6233, 'af': 6234, '@AfroNewtzz': 6235, 'hahahah': 6236, \"'oh\": 6237, 'lemme': 6238, 'rearrange': 6239, \"quickly'\": 6240, 'rip': 6241, 'bees': 6242, 'buoyant': 6243, 'swimming': 6244, 'Optimism': 6245, 'Tremor!!!\\\\n': 6246, 'neighbors': 6247, 'Apologies': 6248, 'fed': 6249, 'info.': 6250, 'board': 6251, 'field.': 6252, 'Shame': 6253, 'credit': 6254, 'Otherwise': 6255, '#Halloween': 6256, '@JogglingDroid': 6257, '@BrancoCarmine': 6258, '@Otto_English': 6259, 'yeah,': 6260, '#UK': 6261, '.@Tolumanda': 6262, '@Deedeey_': 6263, 'taught': 6264, 'illusion.': 6265, '#coaching': 6266, '#courage': 6267, 'then!': 6268, 'Moving': 6269, 'Day!': 6270, '#hope': 6271, 'posted': 6272, 'pic': 6273, 'pray,': 6274, 'stealing': 6275, 'End': 6276, 'Should': 6277, 'realising': 6278, 'crash...': 6279, 'bit...': 6280, 'cake...': 6281, 'sick.': 6282, 'expose': 6283, 'rappers': 6284, 'Soon': 6285, 'racist': 6286, 'Gahh...BT,': 6287, 'minutes..': 6288, 'BT': 6289, 'Sport': 6290, 'dept': 6291, 'cancel...': 6292, 'again...': 6293, 'comparing': 6294, '#lesson': 6295, '#teacher': 6296, 'lesson': 6297, 'beating': 6298, '#real': 6299, '#america': 6300, 'Wonder': 6301, 'leather': 6302, '#tmobile': 6303, '#stores,': 6304, '#original': 6305, '#note7': 6306, '#customer': 6307, 'zero': 6308, '#results...': 6309, 'guys?': 6310, '#2hour': 6311, '#waittime': 6312, 'Way': 6313, 'properly': 6314, 'causing': 6315, '@RandPaul': 6316, 'exists': 6317, 'recently': 6318, 'result': 6319, 'knife': 6320, 'Add': 6321, '#story': 6322, 'WE': 6323, 'waves': 6324, 'gold': 6325, '@maisiev': 6326, 'mega': 6327, 'changing': 6328, 'stress.': 6329, '😒': 6330, '@evanareteos': 6331, ':))': 6332, 'industry': 6333, 'tr': 6334, ':)))': 6335, '@WelshGasDoc': 6336, '@PlaidCymru': 6337, 'supporter': 6338, '@reesmarshall239': 6339, '#prejudice': 6340, '#disabled': 6341, '#disabledlivesmatter': 6342, '#bbcnews': 6343, '#skynews': 6344, 'reporting': 6345, '@CNNAshleigh.': 6346, 'explore': 6347, 'businesses': 6348, 'symbolizes': 6349, 'neither': 6350, 'run.': 6351, '#cheerful,': 6352, 'happy,': 6353, 'others,': 6354, 'hahahaha': 6355, 'xx': 6356, 'tips': 6357, '@OC_Transpo': 6358, 'unbelievable': 6359, 'regular': 6360, 'buses?': 6361, '#solate': 6362, 'large': 6363, 'ballons': 6364, 'fireworks': 6365, '#amazing': 6366, 'etc,': 6367, '@makemytripcare': 6368, 'control,': 6369, '#AvoidMMT': 6370, 'wrath.': 6371, '24': 6372, 'itching': 6373, 'battle,': 6374, 'adrenaline': 6375, '*on': 6376, '😱': 6377, 'areas': 6378, 'only.': 6379, 'difficulties': 6380, 'am.': 6381, 'announce': 6382, 'yep': 6383, 'ESPN': 6384, '#RIPShawtyLo': 6385, 'droop': 6386, '#LethalWeapon': 6387, 'suicidal': 6388, 'FUCKING': 6389, 'awaits': 6390, '#AskAMan': 6391, 'Chris': 6392, 'Pro': 6393, 'Tip:': 6394, 'mos': 6395, 'longer,': 6396, 'practice': 6397, 'depression?': 6398, 'patient': 6399, 'person,': 6400, 'Texans!': 6401, 'go!': 6402, '#noheart': 6403, 'main': 6404, '@FitnessFirstAU': 6405, 'hogging': 6406, 'machines': 6407, '#whypay': 6408, 'shots': 6409, '😂🙃': 6410, '#killary': 6411, 'toaster': 6412, '#MakeAmericaGreatAgain': 6413, 'moon': 6414, 'feature': 6415, '@KennyCoble': 6416, 'trump': 6417, 'ago.': 6418, 'Job': 6419, '😎': 6420, 'ring': 6421, 'bad.': 6422, 'God.': 6423, 'ghost': 6424, 'indignity': 6425, 'murdered': 6426, '@shaney_waney1': 6427, 'non': 6428, 'gender': 6429, \"box'\": 6430, 'Same': 6431, '😩😩😩': 6432, 'spin': 6433, 'down,': 6434, 'USA': 6435, 'during': 6436, 'laughed': 6437, 'blithe': 6438, 'goats': 6439, ':((': 6440, 'forced': 6441, 'optimist': 6442, 'U20': 6443, 'Rugby': 6444, 'Roosters!': 6445, '#nrl': 6446, '@buryprofs': 6447, '@DittoBistro': 6448, 'leg': 6449, '@everycolorbot': 6450, '#triggered': 6451, '#colorblind': 6452, 'bloody': 6453, '@katyy.mae': 6454, 'Less': 6455, 'worry,': 6456, 'look,': 6457, 'elder': 6458, 'honestly': 6459, 'assignment': 6460, \"'so\": 6461, 'shines': 6462, 'Charlie': 6463, 'solid': 6464, 'restaurant.': 6465, 'medical': 6466, '…': 6467, 'perspective': 6468, 'you.#faith': 6469, 'dumped': 6470, '😫': 6471, 'season.': 6472, 'pumped': 6473, '@JessicaZ00': 6474, '@ZRlondon': 6475, 'ditto!!': 6476, 'atmosphere!': 6477, '#PhilippPlein': 6478, '#cheerleaders': 6479, '#stunt': 6480, '#LondonEvents': 6481, 'accomplish': 6482, 'lmfao': 6483, 'strike': 6484, '#negative': 6485, '#best': 6486, 'guard': 6487, 'hell.': 6488, 'joke!!': 6489, 'Cut': 6490, \"'by\": 6491, \"mistake'\": 6492, 'engineer': 6493, '@tomsteinfort': 6494, 'corn': 6495, '😡😡': 6496, '😳😳': 6497, '@m_giacchino': 6498, 'aired': 6499, 'radio': 6500, 'filmed?': 6501, 'pond': 6502, '#wales': 6503, 'american': 6504, 'much!': 6505, '@npagliaro1': 6506, 'awesome!': 6507, 'p.s.': 6508, 'swapping': 6509, 'neighborhoods?': 6510, \"'get\": 6511, 'Sutton': 6512, 'tv': 6513, 'campaign?': 6514, 'Spread': 6515, '#pundit': 6516, '#noclue': 6517, 'forcing': 6518, 'wait.': 6519, 'Remembering': 6520, 'joyless': 6521, \"izn't\": 6522, \"'yeah,\": 6523, 'shooting': 6524, 'backyard,': 6525, \"so..'\": 6526, 'eternally': 6527, 'welcome.': 6528, 'unfortunately': 6529, 'Kardashian': 6530, 'weekly': 6531, '#riots': 6532, '@matt.boss': 6533, '#musicallyjh': 6534, 'rose': 6535, 'Which': 6536, '#producer': 6537, 'Adam': 6538, 'shame': 6539, 'smile!': 6540, 'crossing': 6541, 'blew': 6542, 'Trigger': 6543, 'ugly.': 6544, 'realised': 6545, '#tru': 6546, '#tumblr': 6547, 'Favourite': 6548, '@ameliameech': 6549, 'swore': 6550, \"parsnip'\": 6551, 'gotten': 6552, 'sleep...': 6553, 'rolling': 6554, 'one,': 6555, 'tea': 6556, 'milk': 6557, '25': 6558, 'fury.': 6559, 'patience.': 6560, '@DFSCare': 6561, 'Sofas': 6562, 'Sitting': 6563, 'floor.': 6564, 'sofas!': 6565, 'cheerful.': 6566, 'recognizing': 6567, 'impending': 6568, 'doom?': 6569, 'frustrated': 6570, 'hates': 6571, '#goksfillyourhouseforfree': 6572, 'retitled': 6573, 'repainted': 6574, '#junk': 6575, '#trash': 6576, '#wonderful': 6577, 'pointless': 6578, 'wit': 6579, 'dynamic': 6580, 'Cosmos': 6581, '#humanism': 6582, 'period': 6583, 'mate': 6584, 'puns': 6585, 'made.': 6586, 'return': 6587, 'about,': 6588, 'but...': 6589, 'near': 6590, \"Won't\": 6591, 'people?': 6592, \"people'\": 6593, '#Success': 6594, 'reading': 6595, '#dread': 6596, '@OstinOng': 6597, 'YUUUHH': 6598, '🙄😭': 6599, 'clin': 6600, 'ep': 6601, 'prevmed': 6602, 'ugghhh': 6603, 'dark,': 6604, 'freaked': 6605, 'death...and': 6606, 'God!!': 6607, '#mommaGrendel': 6608, 'fail.': 6609, 'Aw': 6610, 'equipment': 6611, 'delivered,': 6612, \"wasn't?\": 6613, 'delayed?': 6614, \"We've\": 6615, 'away!': 6616, 'arrive': 6617, 'No.': 6618, '@JustinRow10': 6619, 'snapped': 6620, 'clapping': 6621, 'white,': 6622, 'apprehend': 6623, 'BLM': 6624, 'outraged': 6625, 'pointed': 6626, 'police.': 6627, '@BTCare': 6628, 'rude.': 6629, 'acc': 6630, 'willynilly!': 6631, 'subscribe': 6632, 'Jared': 6633, 'marry': 6634, '@liamch88': 6635, 'yeah!': 6636, '#radio': 6637, '@Channel4': 6638, 'listening.': 6639, 'cunts': 6640, 'chase': 6641, 'Fear': 6642, 'cancel': 6643, 'greet': 6644, 'storm.': 6645, '#dissapointed': 6646, 'his/her': 6647, '@ClintonGlobal': 6648, '@TalkTalkCare': 6649, 'customer!!!': 6650, '#lovely': 6651, '.@Travelanswerman:': 6652, 'salt': 6653, 'salty': 6654, '#aloha': 6655, 'wee': 6656, 'socks': 6657, 'FALLING': 6658, 'OFF': 6659, 'INSIDE': 6660, 'SHOES': 6661, '@JackHoward': 6662, '@afneil': 6663, 'rich': 6664, 'fam': 6665, 'Williams': 6666, 'disabled': 6667, 'pontefract': 6668, 'monkhill?': 6669, '#USAToday': 6670, 'fur': 6671, 'singing,': 6672, 'choir,': 6673, '#KWOIR': 6674, '@theartworksuk': 6675, '#Choir': 6676, '#musiclondon': 6677, '😥': 6678, 'Asked': 6679, '#SCFC': 6680, '\\\\nHe': 6681, 'don': 6682, '@jccrocker': 6683, '#wait': 6684, '#video': 6685, 'questions': 6686, 'later': 6687, '#protest': 6688, '#PoliceShootings': 6689, '#suggestions': 6690, 'fans,': 6691, 'Leave': 6692, 'rule,nimber': 6693, 'carpet': 6694, 'cleaning!!!': 6695, '#worsethananatomicbomb': 6696, '#accidentlyspillbeeronthecarpet': 6697, 'def': 6698, '#hell': 6699, 'Miami': 6700, 'GaGa': 6701, 'country,': 6702, 'Beatles': 6703, 'opera': 6704, '&lt;3': 6705, 'Sting': 6706, 'earnest': 6707, 'mixture': 6708, '#ExtremeWorld': 6709, 'optimism.': 6710, 'them!': 6711, 'trap': 6712, 'gifs': 6713, 'updated': 6714, 'yeah.': 6715, 'gloomy.': 6716, 'figure': 6717, 'babies': 6718, 'so.': 6719, '#fear.': 6720, 'Smile': 6721, 'nomore': 6722, '@EtherealMystic_': 6723, 'was,': 6724, '#ukedchat': 6725, 'A4': 6726, 'hall)': 6727, 'play!': 6728, '#learning': 6729, 'addicted': 6730, '#GLEEK': 6731, 'characteristic': 6732, 'leadership': 6733, '#activism': 6734, '#equity': 6735, '#revolution': 6736, 'sav': 6737, 'responds': 6738, \"'Oh.'\": 6739, '@rosannahill': 6740, 'homie': 6741, 'lost...': 6742, 'tweets,': 6743, '80s': 6744, 'jazz': 6745, 'excitement': 6746, 'you!!!': 6747, 'cheer!!': 6748, '@lindseylouwho_': 6749, 'fuller': 6750, 'Hopkins': 6751, 'chance!!!': 6752, 'fume': 6753, '@chelseahandler': 6754, '#celebeffer': 6755, 'mess': 6756, '#mess': 6757, 'shove': 6758, 'thousand': 6759, 'comic': 6760, 'con': 6761, \"'you\": 6762, 'shell': 6763, 'Kerry': 6764, 'publicly': 6765, '@Bungie': 6766, 'dam': 6767, 'SIVA': 6768, 'fragment': 6769, 'Fellwinters': 6770, 'peak': 6771, '@SeanUnfiltered': 6772, 'NA': 6773, '@EASPORTSFIFA': 6774, 'technical': 6775, 'suprised': 6776, 'SUPRISED': 6777, 'HOW': 6778, 'SHIT': 6779, 'THEY': 6780, 'WERE': 6781, '#massiah': 6782, 'Riggs': 6783, 'lolol': 6784, 'midfield': 6785, 'help!': 6786, 'apply': 6787, 'thick': 6788, 'tfw': 6789, 'en-route': 6790, '@HUCJIR': 6791, 'ya!': 6792, '#openhouse': 6793, '#futurecantor': 6794, '#NYCletsgo': 6795, 'knw': 6796, 'dedicated': 6797, 'Yes,': 6798, \"me.'\": 6799, 'Jack': 6800, 'leaned': 6801, 'fifa': 6802, 'slept': 6803, 'denigrate': 6804, '#pray': 6805, 'cars': 6806, '0': 6807, 'weekend': 6808, '#cheering': 6809, \"terrorist's\": 6810, 'father.': 6811, 'streak': 6812, 'forgive': 6813, 'written': 6814, 'naming': 6815, 'til': 6816, 'hv': 6817, 'sadly.': 6818, 'Okay.': 6819, 'Brace': 6820, 'loaf': 6821, 'bread': 6822, 'dutch': 6823, 'oven.': 6824, 'dough': 6825, 'Made': 6826, 'Mr.': 6827, 'TY': 6828, 'fun,': 6829, \"You'll\": 6830, 'smells': 6831, 'besides': 6832, '@GameOfThrones': 6833, '@FieldYates': 6834, '@MatthewBerryTMR': 6835, '@Stephania_ESPN': 6836, '@MikeClayNFL': 6837, '@FrankCaliendo': 6838, 'goddamn...the': 6839, \"'celebrity'\": 6840, 'draft': 6841, 'classic.': 6842, 'Island': 6843, 'Makes': 6844, 'fire.': 6845, 'then?': 6846, \"women's\": 6847, 'friends.': 6848, \"know.'\": 6849, '#what': 6850, '#offend': 6851, '@Airbnb': 6852, '21': 6853, 'pulls': 6854, 'Valley': 6855, 'swallow': 6856, 'Test': 6857, 'he?': 6858, 'peanut': 6859, 'give\\\\nTo': 6860, '@ThomsonCares': 6861, 'Sam-': 6862, 'have!': 6863, 'helpful': 6864, 'sorting': 6865, 'ASAP!': 6866, 'happen!!!!': 6867, 'Rush': 6868, 'use.': 6869, '4min': 6870, 'sweating.': 6871, '#smrtruinslives': 6872, 'sure,': 6873, 'there?': 6874, 'problem.': 6875, 'shameful': 6876, 'numbers': 6877, 'drain': 6878, '#sotired': 6879, '#needtosleepforhours': 6880, 'photos': 6881, 'Scott': 6882, 'download': 6883, 'Dehydrated,': 6884, 'exhausted,': 6885, 'stressed': 6886, 'blessed.': 6887, 'cmon': 6888, 'united!': 6889, '@stevie7t': 6890, 'talksport': 6891, 'broadcasted': 6892, 'basement': 6893, '#quality': 6894, '#amateurs': 6895, 'star': 6896, \"Quarterback'\": 6897, 'wrecks': 6898, 'time..': 6899, 'beats': 6900, 'blue': 6901, 'burns': 6902, 'pitches': 6903, '😢😢': 6904, 'joined': 6905, 'despondency,': 6906, 'Sc.verses': 6907, 'memorized': 6908, 'shine': 6909, 'Ex:': 6910, 'Lam': 6911, '3:22-25': 6912, '@airtelindia': 6913, ',I': 6914, 'charged': 6915, 'airtel..': 6916, 'reasoning': 6917, 'Saudi': 6918, 'national': 6919, '@ajjaffe': 6920, '@MattMurph24': 6921, 'in?': 6922, 'Place': 6923, 'Own': 6924, '#worstenemy': 6925, '#thinktoomuch': 6926, '#Kashmir': 6927, 'hooked': 6928, '#smoke': 6929, 'Green': 6930, 'official': 6931, 'suggested': 6932, 'aid': 6933, 'starving': 6934, '@Mickeyplyler': 6935, '@QualkTalk': 6936, 'refs': 6937, \"GT's\": 6938, 'favor': 6939, 'cookies,': 6940, 'Join': 6941, '@Bell_Support': 6942, 'Cancelling': 6943, 'Fibe,': 6944, 'arrange': 6945, 'Internet.': 6946, '2/2': 6947, '#fedup': 6948, 'king': 6949, '🙁': 6950, 'Sadly,': 6951, 'tour': 6952, '@easyjet': 6953, 'flight!!!!': 6954, '#easyjet': 6955, '#alwaysdelayed': 6956, '@GSchwartz_': 6957, 'votes': 6958, 'converting': 6959, 'leaning': 6960, 'not,': 6961, 'div': 6962, '@AndyBarmyArmy?': 6963, '#leictershireaway': 6964, '#therey': 6965, 'Wow!': 6966, '🔪': 6967, 'eternal': 6968, 'save.': 6969, 'Unbelievable': 6970, 'hangs': 6971, '#treatcustomersfairly': 6972, 'staff': 6973, 'evening.': 6974, 'useless': 6975, 'america': 6976, 'ours': 6977, '#damn': 6978, 'sudden': 6979, 'exhilarating.': 6980, 'hrs': 6981, '@swagrman_fan': 6982, 'Obama': 6983, 'ways.': 6984, 'weight': 6985, 'character': 6986, '@JoyAnnReid': 6987, 'moping': 6988, 'complaining': 6989, 'afford': 6990, '@dilancliff': 6991, '@jackcourtney95': 6992, '@ConnorGarnett1': 6993, 'steal': 6994, 'everyone,': 6995, 'shaytan': 6996, 'read.': 6997, 'shape': 6998, 'FUCK': 6999, '#arsehole': 7000, 'Honestly,': 7001, 'sat': 7002, '#FirstDayofFall': 7003, 'covering': 7004, 'suit': 7005, 'didn’t': 7006, 'flinch': 7007, 'game.': 7008, 'cracks': 7009, 'Speech': 7010, 'Failure': 7011, 'landscape': 7012, 'greater': 7013, 'boiling.': 7014, 'original': 7015, 'furious.': 7016, 'discouraged!': 7017, 'cards': 7018, 'pressed': 7019, 'realizing': 7020, 'stuff.': 7021, '@JaySekulow': 7022, 'taxes?': 7023, 'immediate': 7024, 'danger.': 7025, 'battling': 7026, 'handled': 7027, 'March': 7028, '@ATT': 7029, 'more!': 7030, '@Speechless_ABC': 7031, '@ikhras': 7032, '@benglaze': 7033, 'Amal': 7034, 'Clooney': 7035, 'prosecute': 7036, '#Bush/': 7037, '#Blair': 7038, 'crimes': 7039, 'down&amp;created': 7040, 'real.': 7041, 'vision-\\\\n\\\\nHelen': 7042, 'Keller-\\\\n\\\\n-Begin': 7043, 'mind-\\\\n\\\\nStephen': 7044, 'direction': 7045, 'hale': 7046, '@amityaffliction': 7047, '#dailyfeels': 7048, 'Wanted': 7049, 'cake': 7050, 'lost.': 7051, '@dc_mma': 7052, '@ChampionsFight': 7053, 'shes': 7054, 'Holly.': 7055, 'thinks': 7056, 'Cyborg': 7057, 'phone,': 7058, '[': 7059, ']': 7060, '*she': 7061, 'folding': 7062, 'assistance': 7063, '#insult': 7064, 'inspire': 7065, '&lt;': 7066, 'oil': 7067, 'higher': 7068, 'village': 7069, 'town': 7070, 'PR': 7071, 'guest': 7072, 'literary': 7073, 'analogy.': 7074, 'up...': 7075, 'delivery': 7076, 'yrs': 7077, '@NandosSA': 7078, '@OrderInSA': 7079, 'chips': 7080, 'raw!!!': 7081, 'Usually': 7082, '#notcool': 7083, '#redwine': 7084, 'forever.': 7085, 'creating': 7086, 'Tuesday!': 7087, '#toddler': 7088, '#ridicule,': 7089, 'HATE': 7090, '@BlairWitchMovie': 7091, 'opens': 7092, '@ClearwaterJazz': 7093, '2016!!': 7094, 'stage': 7095, 'Oct.': 7096, '3:30!!': 7097, '#jazzholiday': 7098, '#riesbrothers': 7099, '#jam': 7100, 'hill': 7101, 'dead,': 7102, '#virgin': 7103, 'delayed.': 7104, 'total': 7105, 'momma': 7106, 'Tony': 7107, 'ceased.': 7108, '#like': 7109, '#home': 7110, '@mikefreemanNFL': 7111, \"\\\\nIsn't\": 7112, 'OBrien': 7113, 'offensive': 7114, 'genius': 7115, '@Its_just_Huong': 7116, 'gryffindor': 7117, '😨😨😨': 7118, '#hyper': 7119, 'peoples': 7120, 'alarming.': 7121, '#new': 7122, 'want!': 7123, 'MUCH': 7124, 'driven': 7125, 'bash': 7126, '@TheeCurrentYear': 7127, 'prick.': 7128, '(so': 7129, 'age,': 7130, 'Post': 7131, 'hurting': 7132, '3.4': 7133, '#rhabdo.': 7134, 'tomorrow..': 7135, \"here's\": 7136, '@STLouis_RamsFan': 7137, 'language': 7138, '#kindness': 7139, 'pastry': 7140, 'yet!': 7141, 'plans': 7142, 'Somewhere': 7143, 'tht': 7144, 'pudding': 7145, 'injury': 7146, 'Corbyn': 7147, 'loses': 7148, 'Thursday': 7149, 'arc': 7150, 'standing': 7151, 'excited,': 7152, 'nervous,': 7153, 'kicked': 7154, 'cultural': 7155, 'Season': 7156, '@luxbet': 7157, 'pizzas': 7158, 'Serious': 7159, '#hungry': 7160, '@broitzmax': 7161, 'Black,': 7162, 'joyous,': 7163, 'peaceful,': 7164, 'Went': 7165, 'dreadful,': 7166, 'sue': 7167, '#LSAT': 7168, 'missing.': 7169, 'Fair': 7170, 'windy?': 7171, 'bike.': 7172, '#wind': 7173, '#wisewords': 7174, 'gif': 7175, 'ban': 7176, 'bass': 7177, 'session': 7178, 'hmu': 7179, 'snap,': 7180, '#be': 7181, '#weekend': 7182, 'tarts': 7183, '#yuk': 7184, 'rid': 7185, 'owe': 7186, 'lot.': 7187, '#comfort': 7188, '#mourn,': 7189, 'console': 7190, '#mourn': 7191, '#Zion,': 7192, '@partydelightsUK': 7193, '5679787.': 7194, 'Cannot': 7195, '#party': 7196, '#letdown': 7197, '#concert': 7198, 'fiery.': 7199, 'pickup': 7200, '@RVAGameBreak': 7201, '@GAHSBasketball': 7202, '@GAJagsFootball': 7203, '\\\\nGo': 7204, 'Jags!!🐆': 7205, 'Deep': 7206, 'Run': 7207, 'dude?': 7208, 'pissing': 7209, 'raid': 7210, 'politicians': 7211, 'survey': 7212, 'consumer': 7213, 'again...this': 7214, '(2/2)': 7215, '@EGX': 7216, 'attended': 7217, 'cons': 7218, 'hella': 7219, 'exec': 7220, 'backing': 7221, 'gloom.': 7222, '#blessed': 7223, 'Bayern': 7224, 'annoys': 7225, 'sniffle': 7226, '#house': 7227, 'desolate': 7228, '@ggreenwald': 7229, 'Smh,': 7230, 'remove': 7231, 'ideologically': 7232, 'bankrupt': 7233, 'opportunistic': 7234, 'establishment': 7235, 'bridges': 7236, 'contracts.': 7237, 'food': 7238, 'drivers': 7239, 'traffic': 7240, 'shower': 7241, 'spidey': 7242, 'senses': 7243, 'tangled.': 7244, 'directly': 7245, 'head.': 7246, 'button': 7247, '@ReadingFC': 7248, '@EFLCup': 7249, 'remind': 7250, \"'Twenty's\": 7251, \"Plenty'\": 7252, \"we'll\": 7253, 'Self': 7254, 'refer': 7255, 'cooking': 7256, '#firsttweetever': 7257, 'sippin': 7258, '#hotchocolate': 7259, 'wondering': 7260, '#why': 7261, '#hellloooootwitter': 7262, '...its': 7263, '#facebookisforfamily': 7264, '❤': 7265, \"one's\": 7266, '@flydudern': 7267, '#Muslims': 7268, 'religion': 7269, 'kills': 7270, 'Avoiding': 7271, '#backtoreality': 7272, '#revenge!': 7273, 'snow': 7274, 'purchased': 7275, 'eclipse': 7276, 'nice.': 7277, '@shimian': 7278, 'DK': 7279, 'table,': 7280, 'surprisingly': 7281, 'Arms': 7282, 'Warrior': 7283, 'DPS': 7284, 'sugar': 7285, 'remembered': 7286, \"woman's\": 7287, 'fairly': 7288, 'messages': 7289, 'terms': 7290, 'sun': 7291, 'stronger': 7292, '😟': 7293, 'Japanese': 7294, 'distracting': 7295, 'Issue': 7296, 'tart': 7297, 'tastes': 7298, 'almond': 7299, 'shit...': 7300, 'works...': 7301, 'negative.': 7302, \"'What\": 7303, 'Pauline': 7304, 'cam': 7305, 'posted.': 7306, '#Jesus': 7307, 'road': 7308, 'drives': 7309, 'system.': 7310, 'ranks': 7311, '@SheriffClarke': 7312, 'embarrassed': 7313, 'flew': 7314, 'through,': 7315, 'posts': 7316, '#UN': 7317, 'rejoicing!': 7318, '@westelm': 7319, 'ship': 7320, '12,': 7321, 'arriving': 7322, '19.': 7323, '22.': 7324, '#whereismyfurniture': 7325, 'over..': 7326, 'heading': 7327, 'OK': 7328, 'Vale!': 7329, 'Halloween': 7330, 'sword': 7331, '#champ': 7332, 'winning.': 7333, '@SkySportsRL': 7334, 'referees': 7335, 'tones': 7336, '1/2': 7337, 'mt': 7338, '@Sami749263491': 7339, 'whatever,': 7340, 'whahibbi': 7341, '#muslims': 7342, 'sect,': 7343, '#islam': 7344, 'synonymous': 7345, '#rape': 7346, \"good'\": 7347, 'Brown': 7348, 'cower': 7349, 'gently.': 7350, 'beings': 7351, '@Ren102e906': 7352, '@slb42jcb': 7353, '@swoozyqyah': 7354, '@MCHorseFayse': 7355, '@bockaguyjim': 7356, '@generalgoodsman': 7357, '@nevernotdavid': 7358, 'owned': 7359, 'losers': 7360, 'struggled': 7361, 'Town': 7362, '@ABC': 7363, '@NRA': 7364, 'this?!': 7365, 'united': 7366, 'everytime': 7367, '@Sargon_of_Akkad': 7368, \"It'll\": 7369, 'gosh': 7370, 'darn': 7371, '@MendipHillsAONB': 7372, 'swallows': 7373, 'swifts': 7374, \"Photo'd\": 7375, 'since.': 7376, '#beauty': 7377, '@theJeremyVine': 7378, 'does.': 7379, 'mistake.': 7380, '@NHLexpertpicks': 7381, '@usahockey': 7382, 'game..?': 7383, '#tiff': 7384, 'words,': 7385, 'praying': 7386, 'depth': 7387, 'devil': 7388, '#politicallycorrect': 7389, 'century': 7390, 'Welcome': 7391, '21st': 7392, 'yelling': 7393, 'currently': 7394, 'breathe': 7395, 'liking': 7396, 'strive': 7397, 'embracing': 7398, 'racism.': 7399, 'radio,': 7400, 'names?': 7401, 'tesco.': 7402, 'OH': 7403, 'Visa': 7404, 'electron': 7405, '55': 7406, '@finkowska': 7407, 'brothers': 7408, 'Mark': 7409, 'Ffs': 7410, 'cheeseburger': 7411, 'uses.': 7412, 'boring': 7413, 'hockey': 7414, 'waited': 7415, 'web': 7416, 'THE': 7417, '@markhberman2003': 7418, '@LanceZierlein': 7419, '@790blessing': 7420, 'coaches': 7421, 'coached': 7422, 'jumpstreet.': 7423, '3:45am': 7424, 'hospital!': 7425, \"Elouise's\": 7426, 'waters': 7427, 'gone!': 7428, '#Labour': 7429, '#LittleSister': 7430, '#superexcited': 7431, 'formed': 7432, 'Feels': 7433, '#fml': 7434, 'levels': 7435, 'understood': 7436, '#eclipse': 7437, 'throughout': 7438, 'homecoming': 7439, 'things,': 7440, 'flourish.': 7441, 'grew': 7442, 'little,': 7443, 'BB': 7444, 'milk,': 7445, 'future,': 7446, '#sweet': 7447, '#heart': 7448, 'here,': 7449, '#zen': 7450, 'chewing': 7451, 'I?': 7452, 'ppl,': 7453, 'feeling.': 7454, 'Arab': 7455, 'tea!': 7456, '#goodday': 7457, '@NHLstoreNYC': 7458, '@TeamNA_WCH': 7459, 'Texas': 7460, 'program.': 7461, '@MarianKeyes': 7462, 'ridiculous': 7463, 'KKk': 7464, 'minimum': 7465, 'sentence..just': 7466, 'wattch': 7467, 'route': 7468, 'R': 7469, \"weren't\": 7470, '#charming': 7471, 'part,': 7472, 'sulky': 7473, 'Over': 7474, 'million': 7475, 'Ya': 7476, 'selfish': 7477, '#AnthonyWeiner': 7478, '#DISTRACTION': 7479, '#selection': 7480, '#election': 7481, '#Syria': 7482, '#race': 7483, '#GasCrisis2016': 7484, '#NoDAPL': 7485, 'Hello': 7486, '\\\\n\\\\n': 7487, 'movie,': 7488, 'awhile': 7489, \"time'\": 7490, '@RanaAyyub': 7491, 'Bored': 7492, 'Kik/Snapchat': 7493, '#kikmessage': 7494, '#boredaf': 7495, '#snapchatme': 7496, '#country': 7497, '#countrygirl': 7498, 'Check': 7499, 'rises,': 7500, 'consequences.': 7501, 'sight': 7502, '😷': 7503, '@ChrisChristie': 7504, 'credentials-You': 7505, 'litigator.': 7506, 'more-No': 7507, '#Sad': 7508, '#TrumpPuppet': 7509, '#Felon': 7510, '#jersey4sale': 7511, 'Ugh..': 7512, 'Fml.': 7513, '#SleeplessNight': 7514, '#sleepy': 7515, 'Lysol': 7516, 'suffocating': 7517, 'Febreeze': 7518, 'factory.': 7519, 'hugging': 7520, 'easier': 7521, '#somber': 7522, 'burgers': 7523, 'and/or': 7524, 'AFL': 7525, 'cramps': 7526, '#smackdev': 7527, '#ptp': 7528, 'nick': 7529, 'ok..': 7530, 'know..': 7531, 'it.\\\\n#funny': 7532, 'glowing': 7533, '@kingcharles9th': 7534, 'Lowkey': 7535, 'bound': 7536, 'battle': 7537, '#origin': 7538, 'pity': 7539, 'script': 7540, 'MFA': 7541, 'thing?': 7542, '#GradSchoolProblems': 7543, '#someonetelltinafeytohireme': 7544, 'officially': 7545, 'sounds': 7546, 'Changed': 7547, 'clothes': 7548, 'pre-workout..': 7549, 'workout': 7550, 'in..': 7551, 'expensive': 7552, 'Fall': 7553, '#bestdayever': 7554, '#magic': 7555, 'bully.': 7556, 'T': 7557, 'minus': 7558, 'designer': 7559, '😬😶': 7560, '#nervous!!!': 7561, '@UNHumanRights': 7562, '@UNDP_Pakistan': 7563, 'wat': 7564, 'irony?': 7565, 'lecturing': 7566, 'curbing': 7567, '#happy.': 7568, 'suffering': 7569, 'Omg.': 7570, \"Us'.....wow.\": 7571, '#moretears': 7572, 'KNOW': 7573, 'affliction!': 7574, '#ProudlySydney': 7575, 'scariest': 7576, 'Horror': 7577, 'Story': 7578, 'daytime.': 7579, 'Forever': 7580, 'blowing': 7581, 'ate': 7582, 'mac': 7583, 'imma': 7584, 'taffy': 7585, '#disheartening': 7586, 'GAMEDAY': 7587, 'VS': 7588, 'BUFORD': 7589, 'TODAY': 7590, '5:30': 7591, 'HOME!!!!!!!!!': 7592, 'EXCITED': 7593, '@Avanquest': 7594, 'unsubscribed': 7595, 'spam': 7596, 'emails': 7597, 'coming?': 7598, 'STOP': 7599, 'EMAILS': 7600, '#avanquest': 7601, '#software': 7602, 'wept!': 7603, 'RNS': 7604, '#rusty': 7605, '@metaltigerplc': 7606, \"'Price\": 7607, 'sensitive': 7608, 'news,': 7609, 'Price': 7610, 'Sensitive': 7611, \"news'\": 7612, '#Ramping': 7613, 'story,': 7614, 'wakes': 7615, 'ON': 7616, '#birthday': 7617, 'rob': 7618, '@Patriots': 7619, '#hugeletdown': 7620, 'producers': 7621, '@soverybritish': 7622, 'country?': 7623, 'problems.': 7624, '#worldwide': 7625, 'wisdom': 7626, '@beingbrilliant': 7627, '@johnmurrays': 7628, 'wobble': 7629, 'far.': 7630, 'said.': 7631, '#qld': 7632, '@marthalyssa': 7633, 'yep.': 7634, 'psychological': 7635, 'more,': 7636, '@mywrldsbl': 7637, 'wolf': 7638, 'want.': 7639, 'Hihi~': 7640, 'rlly': 7641, 'ed': 7642, 'atop': 7643, '48': 7644, 'Skipping': 7645, 'meals': 7646, '#wiz': 7647, 'Circle': 7648, 'K': 7649, 'slushie': 7650, 'machine.': 7651, '#livid': 7652, 'ffs,': 7653, 'woken': 7654, '#Aleppo': 7655, '#terribledebatequestions': 7656, 'car.': 7657, 'scratched': 7658, '#Roanoke': 7659, '#AHSRoanoke': 7660, 'system': 7661, 'broken.': 7662, 'Hoping': 7663, 'horse': 7664, '@UN': 7665, 'Pak': 7666, '#Taurus': 7667, 'fu*k!': 7668, 'heck!': 7669, 'fridge!...': 7670, 'knock': 7671, 'landlord': 7672, 'door.': 7673, '##': 7674, 'Public': 7675, 'M.I.L.F': 7676, 'Thorpe': 7677, 'rage,': 7678, '@eileen_davidson': 7679, 'RHOBH,': 7680, 'affair': 7681, '@LisaVanderpump!': 7682, 'Show': 7683, 'shouting': 7684, 'fulfilled': 7685, 'lately': 7686, 'iced': 7687, 'Kinda': 7688, 'naked': 7689, 'body.': 7690, 'intruder': 7691, 'activated': 7692, 'Angelou': 7693, '@SusannahSpot': 7694, 'perfect.': 7695, 'dull.': 7696, 'Justin': 7697, 'Sometimes,': 7698, 'target': 7699, '#pottermore': 7700, 'HUFFLEPUFF': 7701, '😡😡😡': 7702, 'Anytime': 7703, '@perezed': 7704, 'mic,': 7705, 'smack': 7706, 'bat.': 7707, '@BBTN': 7708, '#marblesinmouth': 7709, '#Wimbledon': 7710, 'Brian': 7711, 'America.': 7712, 'religious': 7713, 'pretend': 7714, 'withdrawals': 7715, '@comcast': 7716, '150': 7717, 'robbery.': 7718, '#cable': 7719, 'short.': 7720, 'complain': 7721, '@Max_Kellerman': 7722, 'helps': 7723, 'NFL': 7724, 'coaching': 7725, 'inept.': 7726, \"O'Brien's\": 7727, 'wow,': 7728, '#GOPATS': 7729, 'NY': 7730, 'drink.': 7731, 'Cam': 7732, 'QB': 7733, 'suffered': 7734, \"o'clock\": 7735, 'nowhere': 7736, 'played.': 7737, 'recognize': 7738, 'laundry': 7739, \"70's\": 7740, 'strangers.': 7741, '#to': 7742, 'Joshua': 7743, 'Tumblr': 7744, 'Christie': 7745, 'insurance': 7746, 'TMS': 7747, '#ECT': 7748, 'popped': 7749, '@its.finfin': 7750, 'crime': 7751, 'NASCAR': 7752, 'Both': 7753, 'Step': 7754, \"\\\\nIt's\": 7755, 'porn': 7756, 'brilliant.': 7757, '#need': 7758, 'appears': 7759, 'decade': 7760, '#London': 7761, '#Brighton': 7762, '#cycle': 7763, '@DMTFYP': 7764, '🚴100k': 7765, 'asks': 7766, 'font': 7767, '#warrior': 7768, '😠': 7769, 'essentially': 7770, 'followed': 7771, 'lazy': 7772, 'faint.': 7773, 'spit': 7774, 'before.': 7775, ':O': 7776, 'politics': 7777, '#chiropractor': 7778, '9/10': 7779, '@msdhoni': 7780, '#dhoni': 7781, 'bcoz': 7782, 'calmness': 7783, 'finishers': 7784, '#miltirian': 7785, '#dad#husband': 7786, 'humanbeing': 7787, '#rejoicing': 7788, 'Finn': 7789, \"'Can't\": 7790, 'Fight': 7791, \"Feeling'\": 7792, 'spying': 7793, 'scenes': 7794, 'commit': 7795, 'melancholic': 7796, '#intimidate': 7797, 'hole': 7798, \"one?'\": 7799, '#pussy': 7800, '#cock': 7801, '#cum': 7802, 'panic.': 7803, 'Beat': 7804, 'sacrificed': 7805, '@lynnew69': 7806, 'wills': 7807, 'uncontrollable': 7808, 'animals': 7809, 'link.': 7810, '@Ms_HeartAttack': 7811, 'him..': 7812, '@Nikhilv95': 7813, '@LydiajaneF': 7814, 'wish,': 7815, 'banter.': 7816, 'Jimmy': 7817, 'Carr': 7818, '*shiver*': 7819, 'vids': 7820, 'fave': 7821, 'Ooh': 7822, '#hygge,': 7823, 'candles,': 7824, 'jasmine': 7825, 'Australian': 7826, 'author': 7827, '@KristyBerridge': 7828, '#fiction': 7829, '#zombies': 7830, '#angels': 7831, '#demons': 7832, '#vampires': 7833, '#authorlove': 7834, 'Bes!': 7835, 'blooded': 7836, 'hoopjunkie': 7837, \"f*c@n'\": 7838, 'juz': 7839, \"don't!\": 7840, '#oil': 7841, 'easily': 7842, 'Vice': 7843, 'broke,': 7844, 'polished': 7845, '#peace': 7846, 'grapes': 7847, 'Bank': 7848, 'school,': 7849, 'Listening': 7850, 'Currently': 7851, 'relating': 7852, 'Florida!': 7853, '#Terrorism': 7854, 'shining': 7855, 'blend': 7856, 'victims': 7857, '7th': 7858, 'height': 7859, 'shirt': 7860, 'gleeful,': 7861, 'shark': 7862, 'smiling!': 7863, 'grabbed': 7864, 'manner': 7865, 'yellow': 7866, 'of!!': 7867, 'break!!': 7868, 'thats': 7869, 'pieces': 7870, 'politeness': 7871, 'expensive.': 7872, 'polite.': 7873, '#ThoughtfulThursday': 7874, '#politeness': 7875, 'disney': 7876, '@BlackishWriters': 7877, 'are!': 7878, 'worries': 7879, 'nots': 7880, 'gifts': 7881, 'awful!': 7882, 'religion,': 7883, 'picking': 7884, 'homely': 7885, 'gold.': 7886, 'Channel': 7887, 'Mary,': 7888, '👋': 7889, \"4's\": 7890, 'adverts': 7891, 'encouraging': 7892, 'Georgia': 7893, \"Tech's\": 7894, 'Secondary': 7895, 'marshmallow.': 7896, 'WTF.': 7897, 'odd': 7898, 'answered': 7899, '✨': 7900, '@ScottFoxonair': 7901, '@KatCallaghan': 7902, '@Z1035Toronto': 7903, 'podcasts!!': 7904, '#yvr': 7905, '#missyou': 7906, 'Amazon': 7907, '5am': 7908, 'Sure': 7909, \"NL's\": 7910, 'director': 7911, '#Bot': 7912, 'price.': 7913, 'platform': 7914, 'Charlotte.': 7915, '@WellerMonica': 7916, 'Monica,': 7917, 'regularly': 7918, '@ctysmallholding': 7919, 'dared': 7920, '#HONEY': 7921, '#answer': 7922, '@LethalWeaponFOX': 7923, 'promised': 7924, 'tweet,': 7925, '#WorldPeaceDay': 7926, 'players,': 7927, 'coffee,': 7928, 'thinking,': 7929, 'suspect': 7930, \"Hasn't\": 7931, 'built': 7932, 'lonely.': 7933, 'lonely?': 7934, 'empty;': 7935, '#aloneinthecity': 7936, '@elise_awsome_11': 7937, 'Patton': 7938, 'likely': 7939, 'beer': 7940, 'WANNA': 7941, 'DANCE!!!!': 7942, 'bed)': 7943, '😯': 7944, '#letsdance': 7945, '#dirtydancinginthemoonlight👌': 7946, 'Shoutout': 7947, '@VZWSupport': 7948, 'order!!': 7949, 'truck': 7950, 'receiving': 7951, 'condemn': 7952, 'throws': 7953, '@yonahimes': 7954, 'this?????\\\\ni': 7955, 'wasnt': 7956, 'Staff': 7957, '@ryainair': 7958, 'FR1005.': 7959, 'online.': 7960, '#Ryanair': 7961, '@STN_Airport': 7962, '#Compensation': 7963, 'begun': 7964, '💥⚖️Yeah‼️': 7965, 'PAUL‼️⚖️💥': 7966, '#glorious': 7967, 'mini-comics': 7968, 'Prime': 7969, 'solos.': 7970, 'Queen': 7971, '@kevinrouth': 7972, 'gameface!': 7973, '#gameface': 7974, 'sweat': 7975, 'coz': 7976, 'handed': 7977, 'side.': 7978, '&amp;&amp;': 7979, '@cxmbeferre': 7980, 'WOULDNT': 7981, 'me?????': 7982, '#jazz': 7983, 'peace,': 7984, 'understands': 7985, 'Misery': 7986, 'company.': 7987, 'finds': 7988, 'none.\\\\n-Pastor': 7989, 'Kris': 7990, 'Theobald': 7991, 'wink': 7992, 'whiskey': 7993, 'Scottish': 7994, 'accent???': 7995, 'sci-fi': 7996, 'Starting': 7997, 'utterly': 7998, 'tactics': 7999, 'speaker': 8000, '@abra': 8001, '#irate': 8002, '@BrightPigSEO': 8003, 'TED': 8004, 'foundation': 8005, 'promise': 8006, 'Moses': 8007, 'basket': 8008, 'case.': 8009, '\\\\nToday,': 8010, '#Moses': 8011, 'source.': 8012, \"Sharif's\": 8013, '#novel': 8014, 'aversion': 8015, 'sisters': 8016, 'judge': 8017, 'optimism,': 8018, 'attack.': 8019, 'liberal': 8020, 'dreams.': 8021, 'bullshit': 8022, '#marmite': 8023, 'Australia.': 8024, '`:)': 8025, 'Close': 8026, 'stomach': 8027, 'Prayers': 8028, 'Protection': 8029, '#against': 8030, '#machines': 8031, 'you!!': 8032, '@Montel_Williams': 8033, 'veterans,': 8034, '#chronicpain,': 8035, '#iamkratom': 8036, 'siblings': 8037, 'nawaz': 8038, 'complaint': 8039, 'accommodate': 8040, 'successfully,': 8041, 'views.': 8042, 'department': 8043, 'rewatching': 8044, '😭😢': 8045, 'i.e.': 8046, 'Kelvin': 8047, 'Ortiz': 8048, 'Hey,': 8049, 'tomorrow?': 8050, '#jesus': 8051, '19': 8052, 'candy': 8053, 'LOST': 8054, 'referred': 8055, '@smb_ryan': 8056, '@Kamper10': 8057, '#GOTHAM.': 8058, 'mid': 8059, '1.': 8060, '#picoftheday': 8061, 'side:': 8062, 'kiss': 8063, 'Bilal': 8064, 'Abood,': 8065, '#Iraq': 8066, '#immigrant': 8067, 'Mesquite,': 8068, 'Texas,': 8069, 'sentenced': 8070, 'Feds': 8071, 'neighbor': 8072, 'Clayton': 8073, 'Homes': 8074, 'commercial': 8075, 'cop': 8076, 'shopping': 8077, 'figured': 8078, 'massali': 8079, '#sulk': 8080, 'yall': 8081, 'hacked.': 8082, 'fixed': 8083, ':-/': 8084, '@PapaJohnsUK': 8085, '£40.24': 8086, 'Friday,': 8087, 'refund!!': 8088, 'Ding': 8089, 'arch': 8090, 'enemy': 8091, 'missus?': 8092, '#angryman': 8093, 'Laser': 8094, 'Vista': 8095, 'lens': 8096, 'implantation': 8097, '#LaserVista': 8098, 'gloomy,': 8099, 'cereal': 8100, 'available': 8101, 'Bremen': 8102, 'hiding.': 8103, 'fingers': 8104, 'horny': 8105, 'concerns': 8106, '@jamiesmart': 8107, 'Huh!': 8108, '&gt;:(': 8109, 'BITCH,': 8110, '#drained': 8111, 'legit': 8112, 'japanese': 8113, 'I’ll': 8114, 'awkward': 8115, \"They'll\": 8116, 'Out': 8117, 'drama': 8118, 'braces': 8119, 'hotter': 8120, 'Angry': 8121, 'program': 8122, 'twats': 8123, 'balanced': 8124, 'already.': 8125, 'iOS10': 8126, \"@%$!'\": 8127, 'szn': 8128, '&gt;&gt;&gt;': 8129, 'milkshake': 8130, 'RM': 8131, '\\\\nS': 8132, '🎭': 8133}\n"
          ]
        }
      ]
    },
    {
      "cell_type": "code",
      "source": [
        "my_config = CustomConfig(vocab_size=len(tweet_vocab),\n",
        "                         embedding_dim=500,\n",
        "                         hidden_dim1=500,\n",
        "                         hidden_dim2=300,\n",
        "                         hidden_dim3=200,\n",
        "                         num_labels=11)"
      ],
      "metadata": {
        "id": "4cXeHy6WRyL4"
      },
      "execution_count": 22,
      "outputs": []
    },
    {
      "cell_type": "code",
      "source": [
        "my_config.id2label = {i: label for i, label in zip(range(11), ['anger', 'anticipation', 'disgust', 'fear', 'joy', 'love', 'optimism', 'pessimism', 'sadness', 'surprise', 'trust'])}\n"
      ],
      "metadata": {
        "id": "AARVnDtnUTJ2"
      },
      "execution_count": 23,
      "outputs": []
    },
    {
      "cell_type": "code",
      "source": [
        "print(my_config.id2label)\n"
      ],
      "metadata": {
        "colab": {
          "base_uri": "https://localhost:8080/"
        },
        "id": "BCVeBW_xVoWf",
        "outputId": "38e337e1-7de3-4e94-86e4-1d7952f58d07"
      },
      "execution_count": 24,
      "outputs": [
        {
          "output_type": "stream",
          "name": "stdout",
          "text": [
            "{0: 'anger', 1: 'anticipation', 2: 'disgust', 3: 'fear', 4: 'joy', 5: 'love', 6: 'optimism', 7: 'pessimism', 8: 'sadness', 9: 'surprise', 10: 'trust'}\n"
          ]
        }
      ]
    },
    {
      "cell_type": "code",
      "source": [
        "# Generate label to id mapping by reversing the key-value pairs in id2label\n",
        "my_config.label2id = {v: k for k, v in my_config.id2label.items()}"
      ],
      "metadata": {
        "id": "Fv2p64saVusl"
      },
      "execution_count": 25,
      "outputs": []
    },
    {
      "cell_type": "code",
      "source": [
        "print(my_config.label2id)"
      ],
      "metadata": {
        "colab": {
          "base_uri": "https://localhost:8080/"
        },
        "id": "p-xExw_QVwP4",
        "outputId": "dec0fe69-073f-4e7b-e9fd-e27b0d0cf56b"
      },
      "execution_count": 26,
      "outputs": [
        {
          "output_type": "stream",
          "name": "stdout",
          "text": [
            "{'anger': 0, 'anticipation': 1, 'disgust': 2, 'fear': 3, 'joy': 4, 'love': 5, 'optimism': 6, 'pessimism': 7, 'sadness': 8, 'surprise': 9, 'trust': 10}\n"
          ]
        }
      ]
    },
    {
      "cell_type": "code",
      "source": [
        "model = CustomMLP(config=my_config)"
      ],
      "metadata": {
        "id": "zYSwq-VeWFxU"
      },
      "execution_count": 27,
      "outputs": []
    },
    {
      "cell_type": "code",
      "source": [
        "model"
      ],
      "metadata": {
        "colab": {
          "base_uri": "https://localhost:8080/"
        },
        "id": "q1HoNFByWM33",
        "outputId": "5c59ef4f-e981-491a-d884-a1309daea386"
      },
      "execution_count": 28,
      "outputs": [
        {
          "output_type": "execute_result",
          "data": {
            "text/plain": [
              "CustomMLP(\n",
              "  (embedding_bag): EmbeddingBag(8134, 500, mode='mean')\n",
              "  (layers): Sequential(\n",
              "    (0): Linear(in_features=500, out_features=500, bias=True)\n",
              "    (1): BatchNorm1d(500, eps=1e-05, momentum=0.1, affine=True, track_running_stats=True)\n",
              "    (2): LeakyReLU(negative_slope=0.01)\n",
              "    (3): Dropout(p=0.2, inplace=False)\n",
              "    (4): Linear(in_features=500, out_features=300, bias=True)\n",
              "    (5): BatchNorm1d(300, eps=1e-05, momentum=0.1, affine=True, track_running_stats=True)\n",
              "    (6): LeakyReLU(negative_slope=0.01)\n",
              "    (7): Dropout(p=0.2, inplace=False)\n",
              "    (8): Linear(in_features=300, out_features=200, bias=True)\n",
              "    (9): BatchNorm1d(200, eps=1e-05, momentum=0.1, affine=True, track_running_stats=True)\n",
              "    (10): LeakyReLU(negative_slope=0.01)\n",
              "    (11): Dropout(p=0.2, inplace=False)\n",
              "    (12): Linear(in_features=200, out_features=11, bias=True)\n",
              "  )\n",
              ")"
            ]
          },
          "metadata": {},
          "execution_count": 28
        }
      ]
    },
    {
      "cell_type": "code",
      "source": [
        "# compute_metrics function using the F1 macro-average score\n",
        "from sklearn.metrics import f1_score\n",
        "import numpy as np\n",
        "import torch\n",
        "\n",
        "def compute_metrics(eval_pred):\n",
        "    logits, labels = eval_pred\n",
        "    # Apply sigmoid to logits to get probabilities and then threshold them at 0.5 to get binary labels\n",
        "    predictions = (torch.sigmoid(torch.tensor(logits)) > 0.5).int().numpy()\n",
        "    # print(predictions)\n",
        "    # Calculate F1 macro-average score\n",
        "    f1_macro = f1_score(labels, predictions, average=\"macro\")\n",
        "\n",
        "    return {\"f1_macro\": f1_macro}\n"
      ],
      "metadata": {
        "id": "PXR2iEtgWNhS"
      },
      "execution_count": 29,
      "outputs": []
    },
    {
      "cell_type": "code",
      "source": [
        "# Configure training parameters\n",
        "training_args = TrainingArguments(\n",
        "\n",
        "    # Training-specific configurations\n",
        "    num_train_epochs=25,\n",
        "    per_device_train_batch_size=128, # Number of samples per training batch\n",
        "    per_device_eval_batch_size=128, # Number of samples per validation batch\n",
        "    weight_decay=0.1, # weight decay (L2 regularization)\n",
        "    learning_rate=0.01, # learning arte\n",
        "    optim='adamw_torch', # optimizer\n",
        "    remove_unused_columns=False, # flag to retain unused columns\n",
        "\n",
        "    # Checkpoint saving and model evaluation settings\n",
        "    output_dir=str(model_folder),  # Directory to save model checkpoints\n",
        "    evaluation_strategy='steps',  # Evaluate model at specified step intervals\n",
        "    eval_steps=50,  # Perform evaluation every 50 training steps\n",
        "    # Use 'accuracy' as the metric to determine the best model\n",
        "    metric_for_best_model=\"f1_macro\",\n",
        "    greater_is_better=True,  # A model is 'better' if its accuracy is higher\n",
        "\n",
        "\n",
        "    # Experiment logging configurations\n",
        "    logging_strategy='steps',\n",
        "    logging_steps=50\n",
        ")"
      ],
      "metadata": {
        "colab": {
          "base_uri": "https://localhost:8080/"
        },
        "id": "wzvAS1qdMQqH",
        "outputId": "ff89a048-0d0f-4095-a989-9ac4adc2d3d5"
      },
      "execution_count": 30,
      "outputs": [
        {
          "output_type": "stream",
          "name": "stderr",
          "text": [
            "/usr/local/lib/python3.10/dist-packages/transformers/training_args.py:1545: FutureWarning: `evaluation_strategy` is deprecated and will be removed in version 4.46 of 🤗 Transformers. Use `eval_strategy` instead\n",
            "  warnings.warn(\n"
          ]
        }
      ]
    },
    {
      "cell_type": "code",
      "source": [
        "trainer = Trainer(\n",
        "    model=model,\n",
        "    args=training_args,\n",
        "    train_dataset=trainset,\n",
        "    eval_dataset=validset,\n",
        "    data_collator=collate_fn,\n",
        "    compute_metrics=compute_metrics,\n",
        ")\n"
      ],
      "metadata": {
        "id": "8aOAwcfY5yyS"
      },
      "execution_count": 31,
      "outputs": []
    },
    {
      "cell_type": "code",
      "source": [
        "trainer.train()"
      ],
      "metadata": {
        "colab": {
          "base_uri": "https://localhost:8080/",
          "height": 1000
        },
        "id": "lisTs6ErOif1",
        "outputId": "bb75bd65-f835-44f5-805f-cc3c6d965421"
      },
      "execution_count": 32,
      "outputs": [
        {
          "output_type": "stream",
          "name": "stderr",
          "text": [
            "\u001b[34m\u001b[1mwandb\u001b[0m: \u001b[33mWARNING\u001b[0m The `run_name` is currently set to the same value as `TrainingArguments.output_dir`. If this was not intended, please specify a different run name by setting the `TrainingArguments.run_name` parameter.\n",
            "\u001b[34m\u001b[1mwandb\u001b[0m: Using wandb-core as the SDK backend. Please refer to https://wandb.me/wandb-core for more information.\n",
            "\u001b[34m\u001b[1mwandb\u001b[0m: Currently logged in as: \u001b[33mrucheekkashyap\u001b[0m (\u001b[33mrucheekkashyap-the-university-of-texas-at-dallas\u001b[0m). Use \u001b[1m`wandb login --relogin`\u001b[0m to force relogin\n"
          ]
        },
        {
          "output_type": "display_data",
          "data": {
            "text/plain": [
              "<IPython.core.display.HTML object>"
            ],
            "text/html": [
              "Tracking run with wandb version 0.18.3"
            ]
          },
          "metadata": {}
        },
        {
          "output_type": "display_data",
          "data": {
            "text/plain": [
              "<IPython.core.display.HTML object>"
            ],
            "text/html": [
              "Run data is saved locally in <code>/content/wandb/run-20241014_021639-2r9e92q9</code>"
            ]
          },
          "metadata": {}
        },
        {
          "output_type": "display_data",
          "data": {
            "text/plain": [
              "<IPython.core.display.HTML object>"
            ],
            "text/html": [
              "Syncing run <strong><a href='https://wandb.ai/rucheekkashyap-the-university-of-texas-at-dallas/huggingface/runs/2r9e92q9' target=\"_blank\">/content/drive/MyDrive/utd_classes/Sem3/NLP/HWs/HW5</a></strong> to <a href='https://wandb.ai/rucheekkashyap-the-university-of-texas-at-dallas/huggingface' target=\"_blank\">Weights & Biases</a> (<a href='https://wandb.me/run' target=\"_blank\">docs</a>)<br/>"
            ]
          },
          "metadata": {}
        },
        {
          "output_type": "display_data",
          "data": {
            "text/plain": [
              "<IPython.core.display.HTML object>"
            ],
            "text/html": [
              " View project at <a href='https://wandb.ai/rucheekkashyap-the-university-of-texas-at-dallas/huggingface' target=\"_blank\">https://wandb.ai/rucheekkashyap-the-university-of-texas-at-dallas/huggingface</a>"
            ]
          },
          "metadata": {}
        },
        {
          "output_type": "display_data",
          "data": {
            "text/plain": [
              "<IPython.core.display.HTML object>"
            ],
            "text/html": [
              " View run at <a href='https://wandb.ai/rucheekkashyap-the-university-of-texas-at-dallas/huggingface/runs/2r9e92q9' target=\"_blank\">https://wandb.ai/rucheekkashyap-the-university-of-texas-at-dallas/huggingface/runs/2r9e92q9</a>"
            ]
          },
          "metadata": {}
        },
        {
          "output_type": "display_data",
          "data": {
            "text/plain": [
              "<IPython.core.display.HTML object>"
            ],
            "text/html": [
              "\n",
              "    <div>\n",
              "      \n",
              "      <progress value='1225' max='1225' style='width:300px; height:20px; vertical-align: middle;'></progress>\n",
              "      [1225/1225 02:14, Epoch 25/25]\n",
              "    </div>\n",
              "    <table border=\"1\" class=\"dataframe\">\n",
              "  <thead>\n",
              " <tr style=\"text-align: left;\">\n",
              "      <th>Step</th>\n",
              "      <th>Training Loss</th>\n",
              "      <th>Validation Loss</th>\n",
              "      <th>F1 Macro</th>\n",
              "    </tr>\n",
              "  </thead>\n",
              "  <tbody>\n",
              "    <tr>\n",
              "      <td>50</td>\n",
              "      <td>0.475800</td>\n",
              "      <td>0.445409</td>\n",
              "      <td>0.196270</td>\n",
              "    </tr>\n",
              "    <tr>\n",
              "      <td>100</td>\n",
              "      <td>0.389600</td>\n",
              "      <td>0.420084</td>\n",
              "      <td>0.244602</td>\n",
              "    </tr>\n",
              "    <tr>\n",
              "      <td>150</td>\n",
              "      <td>0.333800</td>\n",
              "      <td>0.425322</td>\n",
              "      <td>0.294192</td>\n",
              "    </tr>\n",
              "    <tr>\n",
              "      <td>200</td>\n",
              "      <td>0.296500</td>\n",
              "      <td>0.420902</td>\n",
              "      <td>0.345228</td>\n",
              "    </tr>\n",
              "    <tr>\n",
              "      <td>250</td>\n",
              "      <td>0.261300</td>\n",
              "      <td>0.436469</td>\n",
              "      <td>0.367471</td>\n",
              "    </tr>\n",
              "    <tr>\n",
              "      <td>300</td>\n",
              "      <td>0.232600</td>\n",
              "      <td>0.460856</td>\n",
              "      <td>0.399918</td>\n",
              "    </tr>\n",
              "    <tr>\n",
              "      <td>350</td>\n",
              "      <td>0.206100</td>\n",
              "      <td>0.489367</td>\n",
              "      <td>0.397367</td>\n",
              "    </tr>\n",
              "    <tr>\n",
              "      <td>400</td>\n",
              "      <td>0.184100</td>\n",
              "      <td>0.552482</td>\n",
              "      <td>0.424339</td>\n",
              "    </tr>\n",
              "    <tr>\n",
              "      <td>450</td>\n",
              "      <td>0.160600</td>\n",
              "      <td>0.564030</td>\n",
              "      <td>0.422951</td>\n",
              "    </tr>\n",
              "    <tr>\n",
              "      <td>500</td>\n",
              "      <td>0.145800</td>\n",
              "      <td>0.601387</td>\n",
              "      <td>0.422119</td>\n",
              "    </tr>\n",
              "    <tr>\n",
              "      <td>550</td>\n",
              "      <td>0.130000</td>\n",
              "      <td>0.644577</td>\n",
              "      <td>0.430380</td>\n",
              "    </tr>\n",
              "    <tr>\n",
              "      <td>600</td>\n",
              "      <td>0.113100</td>\n",
              "      <td>0.685033</td>\n",
              "      <td>0.417110</td>\n",
              "    </tr>\n",
              "    <tr>\n",
              "      <td>650</td>\n",
              "      <td>0.105300</td>\n",
              "      <td>0.733532</td>\n",
              "      <td>0.423197</td>\n",
              "    </tr>\n",
              "    <tr>\n",
              "      <td>700</td>\n",
              "      <td>0.091800</td>\n",
              "      <td>0.761679</td>\n",
              "      <td>0.422163</td>\n",
              "    </tr>\n",
              "    <tr>\n",
              "      <td>750</td>\n",
              "      <td>0.083300</td>\n",
              "      <td>0.800324</td>\n",
              "      <td>0.429124</td>\n",
              "    </tr>\n",
              "    <tr>\n",
              "      <td>800</td>\n",
              "      <td>0.074600</td>\n",
              "      <td>0.834686</td>\n",
              "      <td>0.431278</td>\n",
              "    </tr>\n",
              "    <tr>\n",
              "      <td>850</td>\n",
              "      <td>0.065900</td>\n",
              "      <td>0.884982</td>\n",
              "      <td>0.419695</td>\n",
              "    </tr>\n",
              "    <tr>\n",
              "      <td>900</td>\n",
              "      <td>0.059700</td>\n",
              "      <td>0.899904</td>\n",
              "      <td>0.438520</td>\n",
              "    </tr>\n",
              "    <tr>\n",
              "      <td>950</td>\n",
              "      <td>0.050900</td>\n",
              "      <td>0.905394</td>\n",
              "      <td>0.431364</td>\n",
              "    </tr>\n",
              "    <tr>\n",
              "      <td>1000</td>\n",
              "      <td>0.046300</td>\n",
              "      <td>0.951027</td>\n",
              "      <td>0.433053</td>\n",
              "    </tr>\n",
              "    <tr>\n",
              "      <td>1050</td>\n",
              "      <td>0.041300</td>\n",
              "      <td>0.963763</td>\n",
              "      <td>0.427101</td>\n",
              "    </tr>\n",
              "    <tr>\n",
              "      <td>1100</td>\n",
              "      <td>0.035900</td>\n",
              "      <td>0.978351</td>\n",
              "      <td>0.430869</td>\n",
              "    </tr>\n",
              "    <tr>\n",
              "      <td>1150</td>\n",
              "      <td>0.032100</td>\n",
              "      <td>0.990637</td>\n",
              "      <td>0.432292</td>\n",
              "    </tr>\n",
              "    <tr>\n",
              "      <td>1200</td>\n",
              "      <td>0.029900</td>\n",
              "      <td>0.997726</td>\n",
              "      <td>0.431342</td>\n",
              "    </tr>\n",
              "  </tbody>\n",
              "</table><p>"
            ]
          },
          "metadata": {}
        },
        {
          "output_type": "execute_result",
          "data": {
            "text/plain": [
              "TrainOutput(global_step=1225, training_loss=0.14936058054164963, metrics={'train_runtime': 138.3372, 'train_samples_per_second': 1116.655, 'train_steps_per_second': 8.855, 'total_flos': 0.0, 'train_loss': 0.14936058054164963, 'epoch': 25.0})"
            ]
          },
          "metadata": {},
          "execution_count": 32
        }
      ]
    },
    {
      "cell_type": "code",
      "source": [
        "trainer.evaluate()"
      ],
      "metadata": {
        "colab": {
          "base_uri": "https://localhost:8080/",
          "height": 141
        },
        "id": "4JrB6mUhgkde",
        "outputId": "3368f184-8d35-4939-be39-015d8bf1115c"
      },
      "execution_count": 33,
      "outputs": [
        {
          "output_type": "display_data",
          "data": {
            "text/plain": [
              "<IPython.core.display.HTML object>"
            ],
            "text/html": [
              "\n",
              "    <div>\n",
              "      \n",
              "      <progress value='13' max='13' style='width:300px; height:20px; vertical-align: middle;'></progress>\n",
              "      [13/13 00:00]\n",
              "    </div>\n",
              "    "
            ]
          },
          "metadata": {}
        },
        {
          "output_type": "execute_result",
          "data": {
            "text/plain": [
              "{'eval_loss': 0.9939416646957397,\n",
              " 'eval_f1_macro': 0.43052443346806624,\n",
              " 'eval_runtime': 0.1926,\n",
              " 'eval_samples_per_second': 8021.856,\n",
              " 'eval_steps_per_second': 67.498,\n",
              " 'epoch': 25.0}"
            ]
          },
          "metadata": {},
          "execution_count": 33
        }
      ]
    },
    {
      "cell_type": "code",
      "source": [
        "valid_output = trainer.predict(validset)"
      ],
      "metadata": {
        "colab": {
          "base_uri": "https://localhost:8080/",
          "height": 17
        },
        "id": "Njf9jfWfQRwP",
        "outputId": "6987e680-8c69-4b52-a2d5-68a554c9549f"
      },
      "execution_count": 34,
      "outputs": [
        {
          "output_type": "display_data",
          "data": {
            "text/plain": [
              "<IPython.core.display.HTML object>"
            ],
            "text/html": []
          },
          "metadata": {}
        }
      ]
    },
    {
      "cell_type": "code",
      "source": [
        "valid_output._fields"
      ],
      "metadata": {
        "colab": {
          "base_uri": "https://localhost:8080/"
        },
        "id": "6ZThVA9N9Ben",
        "outputId": "d4a40e71-32c5-462f-9759-c6e79f9e14b5"
      },
      "execution_count": 35,
      "outputs": [
        {
          "output_type": "execute_result",
          "data": {
            "text/plain": [
              "('predictions', 'label_ids', 'metrics')"
            ]
          },
          "metadata": {},
          "execution_count": 35
        }
      ]
    },
    {
      "cell_type": "code",
      "source": [
        "# Assuming valid_output.predictions contains the raw logits\n",
        "valid_preds = (torch.sigmoid(torch.tensor(valid_output.predictions)) > 0.5).int().numpy()\n",
        "valid_labels = np.array(valid_output.label_ids)\n"
      ],
      "metadata": {
        "id": "t1fR3M969E7C"
      },
      "execution_count": 36,
      "outputs": []
    },
    {
      "cell_type": "code",
      "source": [
        "import numpy as np\n",
        "import matplotlib.pyplot as plt\n",
        "import seaborn as sns\n",
        "from sklearn.metrics import confusion_matrix\n",
        "\n",
        "# Convert valid_output to numpy arrays\n",
        "valid_labels_np = np.array(valid_output.label_ids)  # Shape: (n_samples, n_classes)\n",
        "valid_preds_np = np.array(valid_output.predictions)  # Shape: (n_samples, n_classes)\n",
        "\n",
        "# Convert probabilities to binary predictions\n",
        "threshold = 0.5\n",
        "valid_preds_np = (valid_preds_np > threshold).astype(int)  # Shape: (n_samples, n_classes)\n",
        "\n",
        "def plot_multilabel_confusion_matrix(valid_labels, valid_preds, class_labels):\n",
        "    \"\"\"\n",
        "    Plots confusion matrices for each class in multilabel classification.\n",
        "\n",
        "    Args:\n",
        "        valid_labels (array-like): True labels of the validation data (shape: [n_samples, n_classes]).\n",
        "        valid_preds (array-like): Predicted labels of the validation data (shape: [n_samples, n_classes]).\n",
        "        class_labels (list): List of class names for the labels.\n",
        "    \"\"\"\n",
        "    n_classes = len(class_labels)\n",
        "\n",
        "    # Create a figure to hold all the subplots\n",
        "    fig, axes = plt.subplots(nrows=(n_classes + 1) // 2, ncols=2, figsize=(12, n_classes * 2))\n",
        "    axes = axes.flatten()  # Flatten the axes array for easy iteration\n",
        "\n",
        "    for i in range(n_classes):\n",
        "        # Compute the confusion matrix for each class\n",
        "        cm = confusion_matrix(valid_labels[:, i], valid_preds[:, i], normalize='true')\n",
        "\n",
        "        # Plot the confusion matrix using Seaborn\n",
        "        ax = axes[i]\n",
        "        sns.heatmap(cm, annot=True, fmt=\".2f\", cmap=\"Reds\", ax=ax,\n",
        "                    xticklabels=[\"0\", \"1\"], yticklabels=[\"0\", \"1\"])\n",
        "\n",
        "        ax.set_title(f'Confusion Matrix for {class_labels[i]}')\n",
        "        ax.set_xlabel('Predicted Labels')\n",
        "        ax.set_ylabel('True Labels')\n",
        "\n",
        "    # Remove any empty subplots\n",
        "    for j in range(n_classes, len(axes)):\n",
        "        fig.delaxes(axes[j])\n",
        "\n",
        "    plt.tight_layout()  # Adjust layout\n",
        "    plt.show()\n",
        "\n",
        "# Call the function with the converted multilabel data\n",
        "plot_multilabel_confusion_matrix(valid_labels_np, valid_preds_np, class_labels=list(my_config.id2label.values()))\n"
      ],
      "metadata": {
        "colab": {
          "base_uri": "https://localhost:8080/",
          "height": 1000
        },
        "id": "F2bcXpPeAUe9",
        "outputId": "0b052763-f475-4609-811e-5628e1403214"
      },
      "execution_count": 37,
      "outputs": [
        {
          "output_type": "display_data",
          "data": {
            "text/plain": [
              "<Figure size 1200x2200 with 22 Axes>"
            ],
            "image/png": "[encoded data removed]"
          },
          "metadata": {}
        }
      ]
    },
    {
      "cell_type": "code",
      "source": [
        "# Make predictions on the test set\n",
        "predictions = trainer.predict(testset)"
      ],
      "metadata": {
        "colab": {
          "base_uri": "https://localhost:8080/",
          "height": 17
        },
        "id": "hBz3QZ2ACCrr",
        "outputId": "d40c968b-97a1-4cc9-ee20-702f766f2ba0"
      },
      "execution_count": 38,
      "outputs": [
        {
          "output_type": "display_data",
          "data": {
            "text/plain": [
              "<IPython.core.display.HTML object>"
            ],
            "text/html": []
          },
          "metadata": {}
        }
      ]
    },
    {
      "cell_type": "code",
      "source": [
        "# Extract the predicted logits\n",
        "pred_logits = predictions.predictions\n",
        "\n",
        "# Apply sigmoid to the logits to convert them into probabilities\n",
        "pred_probs = torch.sigmoid(torch.tensor(pred_logits))\n",
        "\n",
        "# Convert probabilities into binary labels (threshold at 0.5)\n",
        "pred_labels = (pred_probs > 0.5).int().numpy()  # Convert to numpy array with 0s and 1s"
      ],
      "metadata": {
        "id": "t7573Xzu2Wxu"
      },
      "execution_count": 39,
      "outputs": []
    },
    {
      "cell_type": "code",
      "source": [
        "pred_labels"
      ],
      "metadata": {
        "colab": {
          "base_uri": "https://localhost:8080/"
        },
        "id": "EdMapa7F6wFp",
        "outputId": "131f3e3e-09eb-4ed9-ce9c-889d51099dfa"
      },
      "execution_count": 40,
      "outputs": [
        {
          "output_type": "execute_result",
          "data": {
            "text/plain": [
              "array([[1, 1, 1, ..., 0, 1, 0],\n",
              "       [1, 0, 1, ..., 0, 0, 0],\n",
              "       [1, 0, 1, ..., 0, 1, 0],\n",
              "       ...,\n",
              "       [1, 0, 1, ..., 0, 0, 0],\n",
              "       [1, 0, 1, ..., 0, 0, 0],\n",
              "       [0, 1, 0, ..., 1, 0, 0]], dtype=int32)"
            ]
          },
          "metadata": {},
          "execution_count": 40
        }
      ]
    },
    {
      "cell_type": "code",
      "source": [
        "# Load the test dataset again from CSV files to include ID column\n",
        "test_df = pd.read_csv(data_folder / 'test.csv')"
      ],
      "metadata": {
        "id": "h5_z8Pqd6_Ll"
      },
      "execution_count": 41,
      "outputs": []
    },
    {
      "cell_type": "code",
      "source": [
        "test_df"
      ],
      "metadata": {
        "colab": {
          "base_uri": "https://localhost:8080/",
          "height": 614
        },
        "id": "m6XJk_qc7NSR",
        "outputId": "d2ab93c9-1a8c-49f8-c31d-19ce658c10bc"
      },
      "execution_count": 42,
      "outputs": [
        {
          "output_type": "execute_result",
          "data": {
            "text/plain": [
              "              ID                                              Tweet anger  \\\n",
              "0     2018-01559  @Adnan__786__ @AsYouNotWish Dont worry Indian ...  NONE   \n",
              "1     2018-03739  Academy of Sciences, eschews the normally sobe...  NONE   \n",
              "2     2018-00385                  I blew that opportunity -__- #mad  NONE   \n",
              "3     2018-03001             This time in 2 weeks I will be 30... 😥  NONE   \n",
              "4     2018-01988  #Deppression is real. Partners w/ #depressed p...  NONE   \n",
              "...          ...                                                ...   ...   \n",
              "3254  2018-03848  shaft abrasions from panties merely shifted to...  NONE   \n",
              "3255  2018-00416  @lomadia heard of Remothered? Indie horror gam...  NONE   \n",
              "3256  2018-03717        All this fake outrage. Y'all need to stop 🤣  NONE   \n",
              "3257  2018-03504  Would be ever so grateful if you could record ...  NONE   \n",
              "3258  2018-00115  I'm the wholesome drunk that sends people meme...  NONE   \n",
              "\n",
              "     anticipation disgust  fear   joy  love optimism pessimism sadness  \\\n",
              "0            NONE    NONE  NONE  NONE  NONE     NONE      NONE    NONE   \n",
              "1            NONE    NONE  NONE  NONE  NONE     NONE      NONE    NONE   \n",
              "2            NONE    NONE  NONE  NONE  NONE     NONE      NONE    NONE   \n",
              "3            NONE    NONE  NONE  NONE  NONE     NONE      NONE    NONE   \n",
              "4            NONE    NONE  NONE  NONE  NONE     NONE      NONE    NONE   \n",
              "...           ...     ...   ...   ...   ...      ...       ...     ...   \n",
              "3254         NONE    NONE  NONE  NONE  NONE     NONE      NONE    NONE   \n",
              "3255         NONE    NONE  NONE  NONE  NONE     NONE      NONE    NONE   \n",
              "3256         NONE    NONE  NONE  NONE  NONE     NONE      NONE    NONE   \n",
              "3257         NONE    NONE  NONE  NONE  NONE     NONE      NONE    NONE   \n",
              "3258         NONE    NONE  NONE  NONE  NONE     NONE      NONE    NONE   \n",
              "\n",
              "     surprise trust  \n",
              "0        NONE  NONE  \n",
              "1        NONE  NONE  \n",
              "2        NONE  NONE  \n",
              "3        NONE  NONE  \n",
              "4        NONE  NONE  \n",
              "...       ...   ...  \n",
              "3254     NONE  NONE  \n",
              "3255     NONE  NONE  \n",
              "3256     NONE  NONE  \n",
              "3257     NONE  NONE  \n",
              "3258     NONE  NONE  \n",
              "\n",
              "[3259 rows x 13 columns]"
            ],
            "text/html": [
              "\n",
              "  <div id=\"df-812a6d9f-4f2a-4491-b861-6be1a9a02c28\" class=\"colab-df-container\">\n",
              "    <div>\n",
              "<style scoped>\n",
              "    .dataframe tbody tr th:only-of-type {\n",
              "        vertical-align: middle;\n",
              "    }\n",
              "\n",
              "    .dataframe tbody tr th {\n",
              "        vertical-align: top;\n",
              "    }\n",
              "\n",
              "    .dataframe thead th {\n",
              "        text-align: right;\n",
              "    }\n",
              "</style>\n",
              "<table border=\"1\" class=\"dataframe\">\n",
              "  <thead>\n",
              "    <tr style=\"text-align: right;\">\n",
              "      <th></th>\n",
              "      <th>ID</th>\n",
              "      <th>Tweet</th>\n",
              "      <th>anger</th>\n",
              "      <th>anticipation</th>\n",
              "      <th>disgust</th>\n",
              "      <th>fear</th>\n",
              "      <th>joy</th>\n",
              "      <th>love</th>\n",
              "      <th>optimism</th>\n",
              "      <th>pessimism</th>\n",
              "      <th>sadness</th>\n",
              "      <th>surprise</th>\n",
              "      <th>trust</th>\n",
              "    </tr>\n",
              "  </thead>\n",
              "  <tbody>\n",
              "    <tr>\n",
              "      <th>0</th>\n",
              "      <td>2018-01559</td>\n",
              "      <td>@Adnan__786__ @AsYouNotWish Dont worry Indian ...</td>\n",
              "      <td>NONE</td>\n",
              "      <td>NONE</td>\n",
              "      <td>NONE</td>\n",
              "      <td>NONE</td>\n",
              "      <td>NONE</td>\n",
              "      <td>NONE</td>\n",
              "      <td>NONE</td>\n",
              "      <td>NONE</td>\n",
              "      <td>NONE</td>\n",
              "      <td>NONE</td>\n",
              "      <td>NONE</td>\n",
              "    </tr>\n",
              "    <tr>\n",
              "      <th>1</th>\n",
              "      <td>2018-03739</td>\n",
              "      <td>Academy of Sciences, eschews the normally sobe...</td>\n",
              "      <td>NONE</td>\n",
              "      <td>NONE</td>\n",
              "      <td>NONE</td>\n",
              "      <td>NONE</td>\n",
              "      <td>NONE</td>\n",
              "      <td>NONE</td>\n",
              "      <td>NONE</td>\n",
              "      <td>NONE</td>\n",
              "      <td>NONE</td>\n",
              "      <td>NONE</td>\n",
              "      <td>NONE</td>\n",
              "    </tr>\n",
              "    <tr>\n",
              "      <th>2</th>\n",
              "      <td>2018-00385</td>\n",
              "      <td>I blew that opportunity -__- #mad</td>\n",
              "      <td>NONE</td>\n",
              "      <td>NONE</td>\n",
              "      <td>NONE</td>\n",
              "      <td>NONE</td>\n",
              "      <td>NONE</td>\n",
              "      <td>NONE</td>\n",
              "      <td>NONE</td>\n",
              "      <td>NONE</td>\n",
              "      <td>NONE</td>\n",
              "      <td>NONE</td>\n",
              "      <td>NONE</td>\n",
              "    </tr>\n",
              "    <tr>\n",
              "      <th>3</th>\n",
              "      <td>2018-03001</td>\n",
              "      <td>This time in 2 weeks I will be 30... 😥</td>\n",
              "      <td>NONE</td>\n",
              "      <td>NONE</td>\n",
              "      <td>NONE</td>\n",
              "      <td>NONE</td>\n",
              "      <td>NONE</td>\n",
              "      <td>NONE</td>\n",
              "      <td>NONE</td>\n",
              "      <td>NONE</td>\n",
              "      <td>NONE</td>\n",
              "      <td>NONE</td>\n",
              "      <td>NONE</td>\n",
              "    </tr>\n",
              "    <tr>\n",
              "      <th>4</th>\n",
              "      <td>2018-01988</td>\n",
              "      <td>#Deppression is real. Partners w/ #depressed p...</td>\n",
              "      <td>NONE</td>\n",
              "      <td>NONE</td>\n",
              "      <td>NONE</td>\n",
              "      <td>NONE</td>\n",
              "      <td>NONE</td>\n",
              "      <td>NONE</td>\n",
              "      <td>NONE</td>\n",
              "      <td>NONE</td>\n",
              "      <td>NONE</td>\n",
              "      <td>NONE</td>\n",
              "      <td>NONE</td>\n",
              "    </tr>\n",
              "    <tr>\n",
              "      <th>...</th>\n",
              "      <td>...</td>\n",
              "      <td>...</td>\n",
              "      <td>...</td>\n",
              "      <td>...</td>\n",
              "      <td>...</td>\n",
              "      <td>...</td>\n",
              "      <td>...</td>\n",
              "      <td>...</td>\n",
              "      <td>...</td>\n",
              "      <td>...</td>\n",
              "      <td>...</td>\n",
              "      <td>...</td>\n",
              "      <td>...</td>\n",
              "    </tr>\n",
              "    <tr>\n",
              "      <th>3254</th>\n",
              "      <td>2018-03848</td>\n",
              "      <td>shaft abrasions from panties merely shifted to...</td>\n",
              "      <td>NONE</td>\n",
              "      <td>NONE</td>\n",
              "      <td>NONE</td>\n",
              "      <td>NONE</td>\n",
              "      <td>NONE</td>\n",
              "      <td>NONE</td>\n",
              "      <td>NONE</td>\n",
              "      <td>NONE</td>\n",
              "      <td>NONE</td>\n",
              "      <td>NONE</td>\n",
              "      <td>NONE</td>\n",
              "    </tr>\n",
              "    <tr>\n",
              "      <th>3255</th>\n",
              "      <td>2018-00416</td>\n",
              "      <td>@lomadia heard of Remothered? Indie horror gam...</td>\n",
              "      <td>NONE</td>\n",
              "      <td>NONE</td>\n",
              "      <td>NONE</td>\n",
              "      <td>NONE</td>\n",
              "      <td>NONE</td>\n",
              "      <td>NONE</td>\n",
              "      <td>NONE</td>\n",
              "      <td>NONE</td>\n",
              "      <td>NONE</td>\n",
              "      <td>NONE</td>\n",
              "      <td>NONE</td>\n",
              "    </tr>\n",
              "    <tr>\n",
              "      <th>3256</th>\n",
              "      <td>2018-03717</td>\n",
              "      <td>All this fake outrage. Y'all need to stop 🤣</td>\n",
              "      <td>NONE</td>\n",
              "      <td>NONE</td>\n",
              "      <td>NONE</td>\n",
              "      <td>NONE</td>\n",
              "      <td>NONE</td>\n",
              "      <td>NONE</td>\n",
              "      <td>NONE</td>\n",
              "      <td>NONE</td>\n",
              "      <td>NONE</td>\n",
              "      <td>NONE</td>\n",
              "      <td>NONE</td>\n",
              "    </tr>\n",
              "    <tr>\n",
              "      <th>3257</th>\n",
              "      <td>2018-03504</td>\n",
              "      <td>Would be ever so grateful if you could record ...</td>\n",
              "      <td>NONE</td>\n",
              "      <td>NONE</td>\n",
              "      <td>NONE</td>\n",
              "      <td>NONE</td>\n",
              "      <td>NONE</td>\n",
              "      <td>NONE</td>\n",
              "      <td>NONE</td>\n",
              "      <td>NONE</td>\n",
              "      <td>NONE</td>\n",
              "      <td>NONE</td>\n",
              "      <td>NONE</td>\n",
              "    </tr>\n",
              "    <tr>\n",
              "      <th>3258</th>\n",
              "      <td>2018-00115</td>\n",
              "      <td>I'm the wholesome drunk that sends people meme...</td>\n",
              "      <td>NONE</td>\n",
              "      <td>NONE</td>\n",
              "      <td>NONE</td>\n",
              "      <td>NONE</td>\n",
              "      <td>NONE</td>\n",
              "      <td>NONE</td>\n",
              "      <td>NONE</td>\n",
              "      <td>NONE</td>\n",
              "      <td>NONE</td>\n",
              "      <td>NONE</td>\n",
              "      <td>NONE</td>\n",
              "    </tr>\n",
              "  </tbody>\n",
              "</table>\n",
              "<p>3259 rows × 13 columns</p>\n",
              "</div>\n",
              "    <div class=\"colab-df-buttons\">\n",
              "\n",
              "  <div class=\"colab-df-container\">\n",
              "    <button class=\"colab-df-convert\" onclick=\"convertToInteractive('df-812a6d9f-4f2a-4491-b861-6be1a9a02c28')\"\n",
              "            title=\"Convert this dataframe to an interactive table.\"\n",
              "            style=\"display:none;\">\n",
              "\n",
              "  <svg xmlns=\"http://www.w3.org/2000/svg\" height=\"24px\" viewBox=\"0 -960 960 960\">\n",
              "    <path d=\"M120-120v-720h720v720H120Zm60-500h600v-160H180v160Zm220 220h160v-160H400v160Zm0 220h160v-160H400v160ZM180-400h160v-160H180v160Zm440 0h160v-160H620v160ZM180-180h160v-160H180v160Zm440 0h160v-160H620v160Z\"/>\n",
              "  </svg>\n",
              "    </button>\n",
              "\n",
              "  <style>\n",
              "    .colab-df-container {\n",
              "      display:flex;\n",
              "      gap: 12px;\n",
              "    }\n",
              "\n",
              "    .colab-df-convert {\n",
              "      background-color: #E8F0FE;\n",
              "      border: none;\n",
              "      border-radius: 50%;\n",
              "      cursor: pointer;\n",
              "      display: none;\n",
              "      fill: #1967D2;\n",
              "      height: 32px;\n",
              "      padding: 0 0 0 0;\n",
              "      width: 32px;\n",
              "    }\n",
              "\n",
              "    .colab-df-convert:hover {\n",
              "      background-color: #E2EBFA;\n",
              "      box-shadow: 0px 1px 2px rgba(60, 64, 67, 0.3), 0px 1px 3px 1px rgba(60, 64, 67, 0.15);\n",
              "      fill: #174EA6;\n",
              "    }\n",
              "\n",
              "    .colab-df-buttons div {\n",
              "      margin-bottom: 4px;\n",
              "    }\n",
              "\n",
              "    [theme=dark] .colab-df-convert {\n",
              "      background-color: #3B4455;\n",
              "      fill: #D2E3FC;\n",
              "    }\n",
              "\n",
              "    [theme=dark] .colab-df-convert:hover {\n",
              "      background-color: #434B5C;\n",
              "      box-shadow: 0px 1px 3px 1px rgba(0, 0, 0, 0.15);\n",
              "      filter: drop-shadow(0px 1px 2px rgba(0, 0, 0, 0.3));\n",
              "      fill: #FFFFFF;\n",
              "    }\n",
              "  </style>\n",
              "\n",
              "    <script>\n",
              "      const buttonEl =\n",
              "        document.querySelector('#df-812a6d9f-4f2a-4491-b861-6be1a9a02c28 button.colab-df-convert');\n",
              "      buttonEl.style.display =\n",
              "        google.colab.kernel.accessAllowed ? 'block' : 'none';\n",
              "\n",
              "      async function convertToInteractive(key) {\n",
              "        const element = document.querySelector('#df-812a6d9f-4f2a-4491-b861-6be1a9a02c28');\n",
              "        const dataTable =\n",
              "          await google.colab.kernel.invokeFunction('convertToInteractive',\n",
              "                                                    [key], {});\n",
              "        if (!dataTable) return;\n",
              "\n",
              "        const docLinkHtml = 'Like what you see? Visit the ' +\n",
              "          '<a target=\"_blank\" href=https://colab.research.google.com/notebooks/data_table.ipynb>data table notebook</a>'\n",
              "          + ' to learn more about interactive tables.';\n",
              "        element.innerHTML = '';\n",
              "        dataTable['output_type'] = 'display_data';\n",
              "        await google.colab.output.renderOutput(dataTable, element);\n",
              "        const docLink = document.createElement('div');\n",
              "        docLink.innerHTML = docLinkHtml;\n",
              "        element.appendChild(docLink);\n",
              "      }\n",
              "    </script>\n",
              "  </div>\n",
              "\n",
              "\n",
              "<div id=\"df-f469b1bd-de65-41ee-a56a-d43d222b2187\">\n",
              "  <button class=\"colab-df-quickchart\" onclick=\"quickchart('df-f469b1bd-de65-41ee-a56a-d43d222b2187')\"\n",
              "            title=\"Suggest charts\"\n",
              "            style=\"display:none;\">\n",
              "\n",
              "<svg xmlns=\"http://www.w3.org/2000/svg\" height=\"24px\"viewBox=\"0 0 24 24\"\n",
              "     width=\"24px\">\n",
              "    <g>\n",
              "        <path d=\"M19 3H5c-1.1 0-2 .9-2 2v14c0 1.1.9 2 2 2h14c1.1 0 2-.9 2-2V5c0-1.1-.9-2-2-2zM9 17H7v-7h2v7zm4 0h-2V7h2v10zm4 0h-2v-4h2v4z\"/>\n",
              "    </g>\n",
              "</svg>\n",
              "  </button>\n",
              "\n",
              "<style>\n",
              "  .colab-df-quickchart {\n",
              "      --bg-color: #E8F0FE;\n",
              "      --fill-color: #1967D2;\n",
              "      --hover-bg-color: #E2EBFA;\n",
              "      --hover-fill-color: #174EA6;\n",
              "      --disabled-fill-color: #AAA;\n",
              "      --disabled-bg-color: #DDD;\n",
              "  }\n",
              "\n",
              "  [theme=dark] .colab-df-quickchart {\n",
              "      --bg-color: #3B4455;\n",
              "      --fill-color: #D2E3FC;\n",
              "      --hover-bg-color: #434B5C;\n",
              "      --hover-fill-color: #FFFFFF;\n",
              "      --disabled-bg-color: #3B4455;\n",
              "      --disabled-fill-color: #666;\n",
              "  }\n",
              "\n",
              "  .colab-df-quickchart {\n",
              "    background-color: var(--bg-color);\n",
              "    border: none;\n",
              "    border-radius: 50%;\n",
              "    cursor: pointer;\n",
              "    display: none;\n",
              "    fill: var(--fill-color);\n",
              "    height: 32px;\n",
              "    padding: 0;\n",
              "    width: 32px;\n",
              "  }\n",
              "\n",
              "  .colab-df-quickchart:hover {\n",
              "    background-color: var(--hover-bg-color);\n",
              "    box-shadow: 0 1px 2px rgba(60, 64, 67, 0.3), 0 1px 3px 1px rgba(60, 64, 67, 0.15);\n",
              "    fill: var(--button-hover-fill-color);\n",
              "  }\n",
              "\n",
              "  .colab-df-quickchart-complete:disabled,\n",
              "  .colab-df-quickchart-complete:disabled:hover {\n",
              "    background-color: var(--disabled-bg-color);\n",
              "    fill: var(--disabled-fill-color);\n",
              "    box-shadow: none;\n",
              "  }\n",
              "\n",
              "  .colab-df-spinner {\n",
              "    border: 2px solid var(--fill-color);\n",
              "    border-color: transparent;\n",
              "    border-bottom-color: var(--fill-color);\n",
              "    animation:\n",
              "      spin 1s steps(1) infinite;\n",
              "  }\n",
              "\n",
              "  @keyframes spin {\n",
              "    0% {\n",
              "      border-color: transparent;\n",
              "      border-bottom-color: var(--fill-color);\n",
              "      border-left-color: var(--fill-color);\n",
              "    }\n",
              "    20% {\n",
              "      border-color: transparent;\n",
              "      border-left-color: var(--fill-color);\n",
              "      border-top-color: var(--fill-color);\n",
              "    }\n",
              "    30% {\n",
              "      border-color: transparent;\n",
              "      border-left-color: var(--fill-color);\n",
              "      border-top-color: var(--fill-color);\n",
              "      border-right-color: var(--fill-color);\n",
              "    }\n",
              "    40% {\n",
              "      border-color: transparent;\n",
              "      border-right-color: var(--fill-color);\n",
              "      border-top-color: var(--fill-color);\n",
              "    }\n",
              "    60% {\n",
              "      border-color: transparent;\n",
              "      border-right-color: var(--fill-color);\n",
              "    }\n",
              "    80% {\n",
              "      border-color: transparent;\n",
              "      border-right-color: var(--fill-color);\n",
              "      border-bottom-color: var(--fill-color);\n",
              "    }\n",
              "    90% {\n",
              "      border-color: transparent;\n",
              "      border-bottom-color: var(--fill-color);\n",
              "    }\n",
              "  }\n",
              "</style>\n",
              "\n",
              "  <script>\n",
              "    async function quickchart(key) {\n",
              "      const quickchartButtonEl =\n",
              "        document.querySelector('#' + key + ' button');\n",
              "      quickchartButtonEl.disabled = true;  // To prevent multiple clicks.\n",
              "      quickchartButtonEl.classList.add('colab-df-spinner');\n",
              "      try {\n",
              "        const charts = await google.colab.kernel.invokeFunction(\n",
              "            'suggestCharts', [key], {});\n",
              "      } catch (error) {\n",
              "        console.error('Error during call to suggestCharts:', error);\n",
              "      }\n",
              "      quickchartButtonEl.classList.remove('colab-df-spinner');\n",
              "      quickchartButtonEl.classList.add('colab-df-quickchart-complete');\n",
              "    }\n",
              "    (() => {\n",
              "      let quickchartButtonEl =\n",
              "        document.querySelector('#df-f469b1bd-de65-41ee-a56a-d43d222b2187 button');\n",
              "      quickchartButtonEl.style.display =\n",
              "        google.colab.kernel.accessAllowed ? 'block' : 'none';\n",
              "    })();\n",
              "  </script>\n",
              "</div>\n",
              "\n",
              "  <div id=\"id_73a5e19c-5455-46bd-8799-0130479a05ef\">\n",
              "    <style>\n",
              "      .colab-df-generate {\n",
              "        background-color: #E8F0FE;\n",
              "        border: none;\n",
              "        border-radius: 50%;\n",
              "        cursor: pointer;\n",
              "        display: none;\n",
              "        fill: #1967D2;\n",
              "        height: 32px;\n",
              "        padding: 0 0 0 0;\n",
              "        width: 32px;\n",
              "      }\n",
              "\n",
              "      .colab-df-generate:hover {\n",
              "        background-color: #E2EBFA;\n",
              "        box-shadow: 0px 1px 2px rgba(60, 64, 67, 0.3), 0px 1px 3px 1px rgba(60, 64, 67, 0.15);\n",
              "        fill: #174EA6;\n",
              "      }\n",
              "\n",
              "      [theme=dark] .colab-df-generate {\n",
              "        background-color: #3B4455;\n",
              "        fill: #D2E3FC;\n",
              "      }\n",
              "\n",
              "      [theme=dark] .colab-df-generate:hover {\n",
              "        background-color: #434B5C;\n",
              "        box-shadow: 0px 1px 3px 1px rgba(0, 0, 0, 0.15);\n",
              "        filter: drop-shadow(0px 1px 2px rgba(0, 0, 0, 0.3));\n",
              "        fill: #FFFFFF;\n",
              "      }\n",
              "    </style>\n",
              "    <button class=\"colab-df-generate\" onclick=\"generateWithVariable('test_df')\"\n",
              "            title=\"Generate code using this dataframe.\"\n",
              "            style=\"display:none;\">\n",
              "\n",
              "  <svg xmlns=\"http://www.w3.org/2000/svg\" height=\"24px\"viewBox=\"0 0 24 24\"\n",
              "       width=\"24px\">\n",
              "    <path d=\"M7,19H8.4L18.45,9,17,7.55,7,17.6ZM5,21V16.75L18.45,3.32a2,2,0,0,1,2.83,0l1.4,1.43a1.91,1.91,0,0,1,.58,1.4,1.91,1.91,0,0,1-.58,1.4L9.25,21ZM18.45,9,17,7.55Zm-12,3A5.31,5.31,0,0,0,4.9,8.1,5.31,5.31,0,0,0,1,6.5,5.31,5.31,0,0,0,4.9,4.9,5.31,5.31,0,0,0,6.5,1,5.31,5.31,0,0,0,8.1,4.9,5.31,5.31,0,0,0,12,6.5,5.46,5.46,0,0,0,6.5,12Z\"/>\n",
              "  </svg>\n",
              "    </button>\n",
              "    <script>\n",
              "      (() => {\n",
              "      const buttonEl =\n",
              "        document.querySelector('#id_73a5e19c-5455-46bd-8799-0130479a05ef button.colab-df-generate');\n",
              "      buttonEl.style.display =\n",
              "        google.colab.kernel.accessAllowed ? 'block' : 'none';\n",
              "\n",
              "      buttonEl.onclick = () => {\n",
              "        google.colab.notebook.generateWithVariable('test_df');\n",
              "      }\n",
              "      })();\n",
              "    </script>\n",
              "  </div>\n",
              "\n",
              "    </div>\n",
              "  </div>\n"
            ],
            "application/vnd.google.colaboratory.intrinsic+json": {
              "type": "dataframe",
              "variable_name": "test_df",
              "summary": "{\n  \"name\": \"test_df\",\n  \"rows\": 3259,\n  \"fields\": [\n    {\n      \"column\": \"ID\",\n      \"properties\": {\n        \"dtype\": \"string\",\n        \"num_unique_values\": 3259,\n        \"samples\": [\n          \"2018-00951\",\n          \"2018-04124\",\n          \"2018-04333\"\n        ],\n        \"semantic_type\": \"\",\n        \"description\": \"\"\n      }\n    },\n    {\n      \"column\": \"Tweet\",\n      \"properties\": {\n        \"dtype\": \"string\",\n        \"num_unique_values\": 3259,\n        \"samples\": [\n          \"When you're on a diet and your whole family orders pizza. \",\n          \"@lukeWHC09 Hahaaa! Was fuming with that \\ud83d\\ude1e\\ud83d\\ude02\",\n          \"@CaxtonSupport I'm sorry but I don't know what DM stands for. I know a PM \\ud83d\\ude02. But sadly not a DM. It won't create an account to find.\"\n        ],\n        \"semantic_type\": \"\",\n        \"description\": \"\"\n      }\n    },\n    {\n      \"column\": \"anger\",\n      \"properties\": {\n        \"dtype\": \"category\",\n        \"num_unique_values\": 1,\n        \"samples\": [\n          \"NONE\"\n        ],\n        \"semantic_type\": \"\",\n        \"description\": \"\"\n      }\n    },\n    {\n      \"column\": \"anticipation\",\n      \"properties\": {\n        \"dtype\": \"category\",\n        \"num_unique_values\": 1,\n        \"samples\": [\n          \"NONE\"\n        ],\n        \"semantic_type\": \"\",\n        \"description\": \"\"\n      }\n    },\n    {\n      \"column\": \"disgust\",\n      \"properties\": {\n        \"dtype\": \"category\",\n        \"num_unique_values\": 1,\n        \"samples\": [\n          \"NONE\"\n        ],\n        \"semantic_type\": \"\",\n        \"description\": \"\"\n      }\n    },\n    {\n      \"column\": \"fear\",\n      \"properties\": {\n        \"dtype\": \"category\",\n        \"num_unique_values\": 1,\n        \"samples\": [\n          \"NONE\"\n        ],\n        \"semantic_type\": \"\",\n        \"description\": \"\"\n      }\n    },\n    {\n      \"column\": \"joy\",\n      \"properties\": {\n        \"dtype\": \"category\",\n        \"num_unique_values\": 1,\n        \"samples\": [\n          \"NONE\"\n        ],\n        \"semantic_type\": \"\",\n        \"description\": \"\"\n      }\n    },\n    {\n      \"column\": \"love\",\n      \"properties\": {\n        \"dtype\": \"category\",\n        \"num_unique_values\": 1,\n        \"samples\": [\n          \"NONE\"\n        ],\n        \"semantic_type\": \"\",\n        \"description\": \"\"\n      }\n    },\n    {\n      \"column\": \"optimism\",\n      \"properties\": {\n        \"dtype\": \"category\",\n        \"num_unique_values\": 1,\n        \"samples\": [\n          \"NONE\"\n        ],\n        \"semantic_type\": \"\",\n        \"description\": \"\"\n      }\n    },\n    {\n      \"column\": \"pessimism\",\n      \"properties\": {\n        \"dtype\": \"category\",\n        \"num_unique_values\": 1,\n        \"samples\": [\n          \"NONE\"\n        ],\n        \"semantic_type\": \"\",\n        \"description\": \"\"\n      }\n    },\n    {\n      \"column\": \"sadness\",\n      \"properties\": {\n        \"dtype\": \"category\",\n        \"num_unique_values\": 1,\n        \"samples\": [\n          \"NONE\"\n        ],\n        \"semantic_type\": \"\",\n        \"description\": \"\"\n      }\n    },\n    {\n      \"column\": \"surprise\",\n      \"properties\": {\n        \"dtype\": \"category\",\n        \"num_unique_values\": 1,\n        \"samples\": [\n          \"NONE\"\n        ],\n        \"semantic_type\": \"\",\n        \"description\": \"\"\n      }\n    },\n    {\n      \"column\": \"trust\",\n      \"properties\": {\n        \"dtype\": \"category\",\n        \"num_unique_values\": 1,\n        \"samples\": [\n          \"NONE\"\n        ],\n        \"semantic_type\": \"\",\n        \"description\": \"\"\n      }\n    }\n  ]\n}"
            }
          },
          "metadata": {},
          "execution_count": 42
        }
      ]
    },
    {
      "cell_type": "code",
      "source": [
        "# Create a DataFrame with predictions\n",
        "submission_df = pd.DataFrame({\n",
        "    'ID': test_df['ID'],  # Assuming 'ID' is the identifier column in your test data\n",
        "    'anger': pred_labels[:, 0],\n",
        "    'anticipation': pred_labels[:, 1],\n",
        "    'disgust': pred_labels[:, 2],\n",
        "    'fear': pred_labels[:, 3],\n",
        "    'joy': pred_labels[:, 4],\n",
        "    'love': pred_labels[:, 5],\n",
        "    'optimism': pred_labels[:, 6],\n",
        "    'pessimism': pred_labels[:, 7],\n",
        "    'sadness': pred_labels[:, 8],\n",
        "    'surprise': pred_labels[:, 9],\n",
        "    'trust': pred_labels[:, 10]\n",
        "})\n",
        "\n",
        "# Save the predictions to a CSV file\n",
        "submission_df.to_csv('submission.csv', index=False)"
      ],
      "metadata": {
        "id": "P-0hcvo_7EU_"
      },
      "execution_count": 43,
      "outputs": []
    },
    {
      "cell_type": "code",
      "source": [
        "# Load the train and test datasets from CSV files\n",
        "submissions_df = pd.read_csv('/content/submission.csv')"
      ],
      "metadata": {
        "id": "HuX3MsFm8q1M"
      },
      "execution_count": 44,
      "outputs": []
    },
    {
      "cell_type": "code",
      "source": [
        "submission_df.head()"
      ],
      "metadata": {
        "colab": {
          "base_uri": "https://localhost:8080/",
          "height": 206
        },
        "id": "ItA16fOR8_YT",
        "outputId": "b9435804-905e-4a3e-8134-abd885d0860f"
      },
      "execution_count": 45,
      "outputs": [
        {
          "output_type": "execute_result",
          "data": {
            "text/plain": [
              "           ID  anger  anticipation  disgust  fear  joy  love  optimism  \\\n",
              "0  2018-01559      1             1        1     1    0     0         0   \n",
              "1  2018-03739      1             0        1     0    0     0         0   \n",
              "2  2018-00385      1             0        1     1    0     0         0   \n",
              "3  2018-03001      0             0        1     0    0     0         0   \n",
              "4  2018-01988      0             0        0     1    0     0         0   \n",
              "\n",
              "   pessimism  sadness  surprise  trust  \n",
              "0          0        0         1      0  \n",
              "1          0        0         0      0  \n",
              "2          0        0         1      0  \n",
              "3          0        1         0      0  \n",
              "4          0        1         0      0  "
            ],
            "text/html": [
              "\n",
              "  <div id=\"df-8fc92638-7151-46c0-92b7-56eea816f1ed\" class=\"colab-df-container\">\n",
              "    <div>\n",
              "<style scoped>\n",
              "    .dataframe tbody tr th:only-of-type {\n",
              "        vertical-align: middle;\n",
              "    }\n",
              "\n",
              "    .dataframe tbody tr th {\n",
              "        vertical-align: top;\n",
              "    }\n",
              "\n",
              "    .dataframe thead th {\n",
              "        text-align: right;\n",
              "    }\n",
              "</style>\n",
              "<table border=\"1\" class=\"dataframe\">\n",
              "  <thead>\n",
              "    <tr style=\"text-align: right;\">\n",
              "      <th></th>\n",
              "      <th>ID</th>\n",
              "      <th>anger</th>\n",
              "      <th>anticipation</th>\n",
              "      <th>disgust</th>\n",
              "      <th>fear</th>\n",
              "      <th>joy</th>\n",
              "      <th>love</th>\n",
              "      <th>optimism</th>\n",
              "      <th>pessimism</th>\n",
              "      <th>sadness</th>\n",
              "      <th>surprise</th>\n",
              "      <th>trust</th>\n",
              "    </tr>\n",
              "  </thead>\n",
              "  <tbody>\n",
              "    <tr>\n",
              "      <th>0</th>\n",
              "      <td>2018-01559</td>\n",
              "      <td>1</td>\n",
              "      <td>1</td>\n",
              "      <td>1</td>\n",
              "      <td>1</td>\n",
              "      <td>0</td>\n",
              "      <td>0</td>\n",
              "      <td>0</td>\n",
              "      <td>0</td>\n",
              "      <td>0</td>\n",
              "      <td>1</td>\n",
              "      <td>0</td>\n",
              "    </tr>\n",
              "    <tr>\n",
              "      <th>1</th>\n",
              "      <td>2018-03739</td>\n",
              "      <td>1</td>\n",
              "      <td>0</td>\n",
              "      <td>1</td>\n",
              "      <td>0</td>\n",
              "      <td>0</td>\n",
              "      <td>0</td>\n",
              "      <td>0</td>\n",
              "      <td>0</td>\n",
              "      <td>0</td>\n",
              "      <td>0</td>\n",
              "      <td>0</td>\n",
              "    </tr>\n",
              "    <tr>\n",
              "      <th>2</th>\n",
              "      <td>2018-00385</td>\n",
              "      <td>1</td>\n",
              "      <td>0</td>\n",
              "      <td>1</td>\n",
              "      <td>1</td>\n",
              "      <td>0</td>\n",
              "      <td>0</td>\n",
              "      <td>0</td>\n",
              "      <td>0</td>\n",
              "      <td>0</td>\n",
              "      <td>1</td>\n",
              "      <td>0</td>\n",
              "    </tr>\n",
              "    <tr>\n",
              "      <th>3</th>\n",
              "      <td>2018-03001</td>\n",
              "      <td>0</td>\n",
              "      <td>0</td>\n",
              "      <td>1</td>\n",
              "      <td>0</td>\n",
              "      <td>0</td>\n",
              "      <td>0</td>\n",
              "      <td>0</td>\n",
              "      <td>0</td>\n",
              "      <td>1</td>\n",
              "      <td>0</td>\n",
              "      <td>0</td>\n",
              "    </tr>\n",
              "    <tr>\n",
              "      <th>4</th>\n",
              "      <td>2018-01988</td>\n",
              "      <td>0</td>\n",
              "      <td>0</td>\n",
              "      <td>0</td>\n",
              "      <td>1</td>\n",
              "      <td>0</td>\n",
              "      <td>0</td>\n",
              "      <td>0</td>\n",
              "      <td>0</td>\n",
              "      <td>1</td>\n",
              "      <td>0</td>\n",
              "      <td>0</td>\n",
              "    </tr>\n",
              "  </tbody>\n",
              "</table>\n",
              "</div>\n",
              "    <div class=\"colab-df-buttons\">\n",
              "\n",
              "  <div class=\"colab-df-container\">\n",
              "    <button class=\"colab-df-convert\" onclick=\"convertToInteractive('df-8fc92638-7151-46c0-92b7-56eea816f1ed')\"\n",
              "            title=\"Convert this dataframe to an interactive table.\"\n",
              "            style=\"display:none;\">\n",
              "\n",
              "  <svg xmlns=\"http://www.w3.org/2000/svg\" height=\"24px\" viewBox=\"0 -960 960 960\">\n",
              "    <path d=\"M120-120v-720h720v720H120Zm60-500h600v-160H180v160Zm220 220h160v-160H400v160Zm0 220h160v-160H400v160ZM180-400h160v-160H180v160Zm440 0h160v-160H620v160ZM180-180h160v-160H180v160Zm440 0h160v-160H620v160Z\"/>\n",
              "  </svg>\n",
              "    </button>\n",
              "\n",
              "  <style>\n",
              "    .colab-df-container {\n",
              "      display:flex;\n",
              "      gap: 12px;\n",
              "    }\n",
              "\n",
              "    .colab-df-convert {\n",
              "      background-color: #E8F0FE;\n",
              "      border: none;\n",
              "      border-radius: 50%;\n",
              "      cursor: pointer;\n",
              "      display: none;\n",
              "      fill: #1967D2;\n",
              "      height: 32px;\n",
              "      padding: 0 0 0 0;\n",
              "      width: 32px;\n",
              "    }\n",
              "\n",
              "    .colab-df-convert:hover {\n",
              "      background-color: #E2EBFA;\n",
              "      box-shadow: 0px 1px 2px rgba(60, 64, 67, 0.3), 0px 1px 3px 1px rgba(60, 64, 67, 0.15);\n",
              "      fill: #174EA6;\n",
              "    }\n",
              "\n",
              "    .colab-df-buttons div {\n",
              "      margin-bottom: 4px;\n",
              "    }\n",
              "\n",
              "    [theme=dark] .colab-df-convert {\n",
              "      background-color: #3B4455;\n",
              "      fill: #D2E3FC;\n",
              "    }\n",
              "\n",
              "    [theme=dark] .colab-df-convert:hover {\n",
              "      background-color: #434B5C;\n",
              "      box-shadow: 0px 1px 3px 1px rgba(0, 0, 0, 0.15);\n",
              "      filter: drop-shadow(0px 1px 2px rgba(0, 0, 0, 0.3));\n",
              "      fill: #FFFFFF;\n",
              "    }\n",
              "  </style>\n",
              "\n",
              "    <script>\n",
              "      const buttonEl =\n",
              "        document.querySelector('#df-8fc92638-7151-46c0-92b7-56eea816f1ed button.colab-df-convert');\n",
              "      buttonEl.style.display =\n",
              "        google.colab.kernel.accessAllowed ? 'block' : 'none';\n",
              "\n",
              "      async function convertToInteractive(key) {\n",
              "        const element = document.querySelector('#df-8fc92638-7151-46c0-92b7-56eea816f1ed');\n",
              "        const dataTable =\n",
              "          await google.colab.kernel.invokeFunction('convertToInteractive',\n",
              "                                                    [key], {});\n",
              "        if (!dataTable) return;\n",
              "\n",
              "        const docLinkHtml = 'Like what you see? Visit the ' +\n",
              "          '<a target=\"_blank\" href=https://colab.research.google.com/notebooks/data_table.ipynb>data table notebook</a>'\n",
              "          + ' to learn more about interactive tables.';\n",
              "        element.innerHTML = '';\n",
              "        dataTable['output_type'] = 'display_data';\n",
              "        await google.colab.output.renderOutput(dataTable, element);\n",
              "        const docLink = document.createElement('div');\n",
              "        docLink.innerHTML = docLinkHtml;\n",
              "        element.appendChild(docLink);\n",
              "      }\n",
              "    </script>\n",
              "  </div>\n",
              "\n",
              "\n",
              "<div id=\"df-90a1d80d-c8c5-427a-8270-048958a2ab37\">\n",
              "  <button class=\"colab-df-quickchart\" onclick=\"quickchart('df-90a1d80d-c8c5-427a-8270-048958a2ab37')\"\n",
              "            title=\"Suggest charts\"\n",
              "            style=\"display:none;\">\n",
              "\n",
              "<svg xmlns=\"http://www.w3.org/2000/svg\" height=\"24px\"viewBox=\"0 0 24 24\"\n",
              "     width=\"24px\">\n",
              "    <g>\n",
              "        <path d=\"M19 3H5c-1.1 0-2 .9-2 2v14c0 1.1.9 2 2 2h14c1.1 0 2-.9 2-2V5c0-1.1-.9-2-2-2zM9 17H7v-7h2v7zm4 0h-2V7h2v10zm4 0h-2v-4h2v4z\"/>\n",
              "    </g>\n",
              "</svg>\n",
              "  </button>\n",
              "\n",
              "<style>\n",
              "  .colab-df-quickchart {\n",
              "      --bg-color: #E8F0FE;\n",
              "      --fill-color: #1967D2;\n",
              "      --hover-bg-color: #E2EBFA;\n",
              "      --hover-fill-color: #174EA6;\n",
              "      --disabled-fill-color: #AAA;\n",
              "      --disabled-bg-color: #DDD;\n",
              "  }\n",
              "\n",
              "  [theme=dark] .colab-df-quickchart {\n",
              "      --bg-color: #3B4455;\n",
              "      --fill-color: #D2E3FC;\n",
              "      --hover-bg-color: #434B5C;\n",
              "      --hover-fill-color: #FFFFFF;\n",
              "      --disabled-bg-color: #3B4455;\n",
              "      --disabled-fill-color: #666;\n",
              "  }\n",
              "\n",
              "  .colab-df-quickchart {\n",
              "    background-color: var(--bg-color);\n",
              "    border: none;\n",
              "    border-radius: 50%;\n",
              "    cursor: pointer;\n",
              "    display: none;\n",
              "    fill: var(--fill-color);\n",
              "    height: 32px;\n",
              "    padding: 0;\n",
              "    width: 32px;\n",
              "  }\n",
              "\n",
              "  .colab-df-quickchart:hover {\n",
              "    background-color: var(--hover-bg-color);\n",
              "    box-shadow: 0 1px 2px rgba(60, 64, 67, 0.3), 0 1px 3px 1px rgba(60, 64, 67, 0.15);\n",
              "    fill: var(--button-hover-fill-color);\n",
              "  }\n",
              "\n",
              "  .colab-df-quickchart-complete:disabled,\n",
              "  .colab-df-quickchart-complete:disabled:hover {\n",
              "    background-color: var(--disabled-bg-color);\n",
              "    fill: var(--disabled-fill-color);\n",
              "    box-shadow: none;\n",
              "  }\n",
              "\n",
              "  .colab-df-spinner {\n",
              "    border: 2px solid var(--fill-color);\n",
              "    border-color: transparent;\n",
              "    border-bottom-color: var(--fill-color);\n",
              "    animation:\n",
              "      spin 1s steps(1) infinite;\n",
              "  }\n",
              "\n",
              "  @keyframes spin {\n",
              "    0% {\n",
              "      border-color: transparent;\n",
              "      border-bottom-color: var(--fill-color);\n",
              "      border-left-color: var(--fill-color);\n",
              "    }\n",
              "    20% {\n",
              "      border-color: transparent;\n",
              "      border-left-color: var(--fill-color);\n",
              "      border-top-color: var(--fill-color);\n",
              "    }\n",
              "    30% {\n",
              "      border-color: transparent;\n",
              "      border-left-color: var(--fill-color);\n",
              "      border-top-color: var(--fill-color);\n",
              "      border-right-color: var(--fill-color);\n",
              "    }\n",
              "    40% {\n",
              "      border-color: transparent;\n",
              "      border-right-color: var(--fill-color);\n",
              "      border-top-color: var(--fill-color);\n",
              "    }\n",
              "    60% {\n",
              "      border-color: transparent;\n",
              "      border-right-color: var(--fill-color);\n",
              "    }\n",
              "    80% {\n",
              "      border-color: transparent;\n",
              "      border-right-color: var(--fill-color);\n",
              "      border-bottom-color: var(--fill-color);\n",
              "    }\n",
              "    90% {\n",
              "      border-color: transparent;\n",
              "      border-bottom-color: var(--fill-color);\n",
              "    }\n",
              "  }\n",
              "</style>\n",
              "\n",
              "  <script>\n",
              "    async function quickchart(key) {\n",
              "      const quickchartButtonEl =\n",
              "        document.querySelector('#' + key + ' button');\n",
              "      quickchartButtonEl.disabled = true;  // To prevent multiple clicks.\n",
              "      quickchartButtonEl.classList.add('colab-df-spinner');\n",
              "      try {\n",
              "        const charts = await google.colab.kernel.invokeFunction(\n",
              "            'suggestCharts', [key], {});\n",
              "      } catch (error) {\n",
              "        console.error('Error during call to suggestCharts:', error);\n",
              "      }\n",
              "      quickchartButtonEl.classList.remove('colab-df-spinner');\n",
              "      quickchartButtonEl.classList.add('colab-df-quickchart-complete');\n",
              "    }\n",
              "    (() => {\n",
              "      let quickchartButtonEl =\n",
              "        document.querySelector('#df-90a1d80d-c8c5-427a-8270-048958a2ab37 button');\n",
              "      quickchartButtonEl.style.display =\n",
              "        google.colab.kernel.accessAllowed ? 'block' : 'none';\n",
              "    })();\n",
              "  </script>\n",
              "</div>\n",
              "\n",
              "    </div>\n",
              "  </div>\n"
            ],
            "application/vnd.google.colaboratory.intrinsic+json": {
              "type": "dataframe",
              "variable_name": "submission_df",
              "summary": "{\n  \"name\": \"submission_df\",\n  \"rows\": 3259,\n  \"fields\": [\n    {\n      \"column\": \"ID\",\n      \"properties\": {\n        \"dtype\": \"string\",\n        \"num_unique_values\": 3259,\n        \"samples\": [\n          \"2018-00951\",\n          \"2018-04124\",\n          \"2018-04333\"\n        ],\n        \"semantic_type\": \"\",\n        \"description\": \"\"\n      }\n    },\n    {\n      \"column\": \"anger\",\n      \"properties\": {\n        \"dtype\": \"int32\",\n        \"num_unique_values\": 2,\n        \"samples\": [\n          0,\n          1\n        ],\n        \"semantic_type\": \"\",\n        \"description\": \"\"\n      }\n    },\n    {\n      \"column\": \"anticipation\",\n      \"properties\": {\n        \"dtype\": \"int32\",\n        \"num_unique_values\": 2,\n        \"samples\": [\n          0,\n          1\n        ],\n        \"semantic_type\": \"\",\n        \"description\": \"\"\n      }\n    },\n    {\n      \"column\": \"disgust\",\n      \"properties\": {\n        \"dtype\": \"int32\",\n        \"num_unique_values\": 2,\n        \"samples\": [\n          0,\n          1\n        ],\n        \"semantic_type\": \"\",\n        \"description\": \"\"\n      }\n    },\n    {\n      \"column\": \"fear\",\n      \"properties\": {\n        \"dtype\": \"int32\",\n        \"num_unique_values\": 2,\n        \"samples\": [\n          0,\n          1\n        ],\n        \"semantic_type\": \"\",\n        \"description\": \"\"\n      }\n    },\n    {\n      \"column\": \"joy\",\n      \"properties\": {\n        \"dtype\": \"int32\",\n        \"num_unique_values\": 2,\n        \"samples\": [\n          1,\n          0\n        ],\n        \"semantic_type\": \"\",\n        \"description\": \"\"\n      }\n    },\n    {\n      \"column\": \"love\",\n      \"properties\": {\n        \"dtype\": \"int32\",\n        \"num_unique_values\": 2,\n        \"samples\": [\n          1,\n          0\n        ],\n        \"semantic_type\": \"\",\n        \"description\": \"\"\n      }\n    },\n    {\n      \"column\": \"optimism\",\n      \"properties\": {\n        \"dtype\": \"int32\",\n        \"num_unique_values\": 2,\n        \"samples\": [\n          1,\n          0\n        ],\n        \"semantic_type\": \"\",\n        \"description\": \"\"\n      }\n    },\n    {\n      \"column\": \"pessimism\",\n      \"properties\": {\n        \"dtype\": \"int32\",\n        \"num_unique_values\": 2,\n        \"samples\": [\n          1,\n          0\n        ],\n        \"semantic_type\": \"\",\n        \"description\": \"\"\n      }\n    },\n    {\n      \"column\": \"sadness\",\n      \"properties\": {\n        \"dtype\": \"int32\",\n        \"num_unique_values\": 2,\n        \"samples\": [\n          1,\n          0\n        ],\n        \"semantic_type\": \"\",\n        \"description\": \"\"\n      }\n    },\n    {\n      \"column\": \"surprise\",\n      \"properties\": {\n        \"dtype\": \"int32\",\n        \"num_unique_values\": 2,\n        \"samples\": [\n          0,\n          1\n        ],\n        \"semantic_type\": \"\",\n        \"description\": \"\"\n      }\n    },\n    {\n      \"column\": \"trust\",\n      \"properties\": {\n        \"dtype\": \"int32\",\n        \"num_unique_values\": 2,\n        \"samples\": [\n          1,\n          0\n        ],\n        \"semantic_type\": \"\",\n        \"description\": \"\"\n      }\n    }\n  ]\n}"
            }
          },
          "metadata": {},
          "execution_count": 45
        }
      ]
    },
    {
      "cell_type": "code",
      "source": [],
      "metadata": {
        "id": "rdE-iO1B9Bw4"
      },
      "execution_count": 45,
      "outputs": []
    }
  ]
}